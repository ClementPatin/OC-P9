{
 "cells": [
  {
   "cell_type": "markdown",
   "metadata": {},
   "source": [
    "# RÉALISEZ UNE APPLICATION DE RECOMMANDATION DE CONTENU"
   ]
  },
  {
   "cell_type": "markdown",
   "metadata": {},
   "source": [
    "<img src=\"mySaves/images/myContentLogo.png\" alt=\"logo_myContent\" width=\"400\" class=\"center\"/>"
   ]
  },
  {
   "cell_type": "markdown",
   "metadata": {},
   "source": [
    "# SOMMAIRE"
   ]
  },
  {
   "cell_type": "markdown",
   "metadata": {},
   "source": [
    "**Table of contents**<a id='toc0_'></a>    \n",
    "- 0. [PRÉAMBULE](#toc3_)    \n",
    "  - 0.1. [Imports](#toc3_1_)    \n",
    "  - 0.2. [Le projet](#toc3_2_)    \n",
    "  - 0.3. [Charger et explorer les données](#toc3_3_)    \n",
    "    - 0.3.1. [Les fichiers à notre disposition](#toc3_3_1_)    \n",
    "    - 0.3.2. [Les données *clicks*](#toc3_3_2_)    \n",
    "      - 0.3.2.1. [Échantillon](#toc3_3_2_1_)    \n",
    "      - 0.3.2.2. [Charger toutes les données *clicks*](#toc3_3_2_2_)    \n",
    "      - 0.3.2.3. [La taille de la session `session_size`](#toc3_3_2_3_)    \n",
    "      - 0.3.2.4. [Les données temporelles `session_start` et `click_timestamp`](#toc3_3_2_4_)    \n",
    "      - 0.3.2.5. [Les identifiants `user_id`, `session_id`, `click_article_id`](#toc3_3_2_5_)    \n",
    "        - 0.3.2.5.1. [Généralités](#toc3_3_2_5_1_)    \n",
    "        - 0.3.2.5.2. [`click_articles_id` by `user_id`](#toc3_3_2_5_2_)    \n",
    "        - 0.3.2.5.3. [Nombre de lectures des `click_articles_id` ?](#toc3_3_2_5_3_)    \n",
    "    - 0.3.3. [Les données *articles_metadata*](#toc3_3_3_)    \n",
    "      - 0.3.3.1. [Charger `articles_metadata` avec les bons dtypes](#toc3_3_3_1_)    \n",
    "      - 0.3.3.2. [Filtrer `articles_metadata` sur les article lus](#toc3_3_3_2_)    \n",
    "    - 0.3.4. [Le fichier d'*articles_embeddings*](#toc3_3_4_)    \n",
    "      - 0.3.4.1. [Charger le fichier](#toc3_3_4_1_)    \n",
    "      - 0.3.4.2. [Limiter la taille de l'embedding - `PCA`](#toc3_3_4_2_)    \n",
    "- 1. [MODÉLISER GRÂCE AU *COLLABORATIVE FILTERING*](#toc4_)    \n",
    "  - 1.1. [Construire un système de notation](#toc4_1_)    \n",
    "  - 1.2. [Préparer le dataset pour `surprise`](#toc4_2_)    \n",
    "  - 1.3. [Tester différents modèles](#toc4_3_)    \n",
    "    - 1.3.1. [Probabilistic Matrix Factorization](#toc4_3_1_)    \n",
    "    - 1.3.2. [Singular Value Decomposition](#toc4_3_2_)    \n",
    "    - 1.3.3. [Singular Value Decomposition ++](#toc4_3_3_)    \n",
    "    - 1.3.4. [Singular Value Decomposition ++ - GridSearch](#toc4_3_4_)    \n",
    "    - 1.3.5. [Validation croisée - Bilan](#toc4_3_5_)    \n",
    "  - 1.4. [Tester le modèle](#toc4_4_)    \n",
    "  - 1.5. [Modèle plus léger pour le test de production](#toc4_5_)    \n",
    "- 2. [MODÉLISATION *CONTENT BASE*](#toc5_)    \n",
    "  - 3.1. [Préparer les données](#toc5_1_)    \n",
    "  - 3.2. [Obtenir les catégories principales de l'utilisateur](#toc5_2_)    \n",
    "  - 3.3. [Filtrer les embeddings sur les catégories principales](#toc5_3_)    \n",
    "  - 3.4. [Obtenir 5 recommendations d'articles](#toc5_4_)    \n",
    "  - 3.5. [Modèle final](#toc5_5_)    \n",
    "  - 3.6. [Quel impact de la réduction ACP des *embeddings* initiaux sur les résultats ?](#toc5_6_)    \n",
    "  - 3.7. [Modèle final léger pour le test en production](#toc5_7_)    \n",
    "- 3. [MIXER LES DEUX TYPES DE RECOMMANDATION](#toc6_)    \n",
    "\n",
    "<!-- vscode-jupyter-toc-config\n",
    "\tnumbering=true\n",
    "\tanchor=true\n",
    "\tflat=false\n",
    "\tminLevel=1\n",
    "\tmaxLevel=6\n",
    "\t/vscode-jupyter-toc-config -->\n",
    "<!-- THIS CELL WILL BE REPLACED ON TOC UPDATE. DO NOT WRITE YOUR TEXT IN THIS CELL -->"
   ]
  },
  {
   "cell_type": "markdown",
   "metadata": {},
   "source": [
    "# 0. <a id='toc3_'></a>[PRÉAMBULE](#toc0_)"
   ]
  },
  {
   "cell_type": "markdown",
   "metadata": {},
   "source": [
    "## 0.1. <a id='toc3_1_'></a>[Imports](#toc0_)"
   ]
  },
  {
   "cell_type": "markdown",
   "metadata": {},
   "source": [
    "Commençons par charger les librairies nécessaires :"
   ]
  },
  {
   "cell_type": "code",
   "execution_count": 22,
   "metadata": {},
   "outputs": [
    {
     "name": "stdout",
     "output_type": "stream",
     "text": [
      "The autoreload extension is already loaded. To reload it, use:\n",
      "  %reload_ext autoreload\n"
     ]
    }
   ],
   "source": [
    "# import necessary packages\n",
    "\n",
    "# manipulate files\n",
    "import os\n",
    "from joblib import load, dump\n",
    "# manipulate data\n",
    "import pandas as pd\n",
    "import numpy as np\n",
    "# plots\n",
    "import matplotlib.pyplot as plt\n",
    "%matplotlib inline\n",
    "import seaborn as sns\n",
    "from PIL import Image\n",
    "# custom functions\n",
    "import myFunctions as mf\n",
    "%load_ext autoreload\n",
    "%autoreload 2\n",
    "# datetime\n",
    "import dateutil.relativedelta\n",
    "import datetime\n",
    "# collaborative filtering\n",
    "from surprise import Reader, Dataset\n",
    "from surprise import SVD, SVDpp\n",
    "from surprise.model_selection import cross_validate, GridSearchCV, KFold\n",
    "# content base\n",
    "from sklearn.metrics.pairwise import cosine_similarity\n",
    "# other tools\n",
    "import time\n",
    "import gc\n"
   ]
  },
  {
   "cell_type": "code",
   "execution_count": 23,
   "metadata": {},
   "outputs": [],
   "source": [
    "# for requierements.txt\n",
    "# pipreqs --force --ignore Patin_Clement_1_application_052024  --scan-notebooks"
   ]
  },
  {
   "cell_type": "markdown",
   "metadata": {},
   "source": [
    "Créons un dossier pour nos sauvegardes :"
   ]
  },
  {
   "cell_type": "code",
   "execution_count": 24,
   "metadata": {},
   "outputs": [],
   "source": [
    "# create folder for saving\n",
    "if not os.path.isdir(\"mySaves\"):\n",
    "    os.mkdir(\"mySaves\")"
   ]
  },
  {
   "cell_type": "markdown",
   "metadata": {},
   "source": [
    "## 0.2. <a id='toc3_2_'></a>[Le projet](#toc0_)"
   ]
  },
  {
   "cell_type": "markdown",
   "metadata": {},
   "source": [
    "Objectif: Développer un **MVP** (*Minimum Viable Product*) de système de recommandation pour **My Content**, permettant de recommander des articles et des livres pertinents aux utilisateurs.\n",
    "\n",
    "**Solutions** à explorer :\n",
    "- tester **differentes approches** de modélisation\n",
    "- ***Collaborative Filtering*** - une technique de recommandation qui utilise les interactions d'utilisateurs avec des articles pour faire des suggestions\n",
    "- ***Content Base*** - qui elle analyse les caractéristiques des articles eux-même pour faire des suggestions\n",
    "\n",
    "**Données** à notre disposition :\n",
    "- utilisation de données **open source** d'un portail d'informations contenant les intéractions d'utilisateurs avec des articles, ainsi que des informations sur les articles eux-mêmes\n",
    "- https://www.kaggle.com/datasets/gspmoreira/news-portal-user-interactions-by-globocom\n",
    "\n",
    "**Système** de recommandation :\n",
    "- dans cette phase amont du projet, développer un **outil simple**\n",
    "- pour **un utilisateur** donné : recommander **5 articles**\n",
    "\n",
    "**Application** :\n",
    "- interface utilisateur simple\n",
    "- input : liste d'utilisateurs, et plus exactement de `user_id`s\n",
    "- output : liste de 5 `article_id`s recommandés\n",
    "\n",
    "**Architecture du MVP** :\n",
    "- occassion de mettre en oeuvre une solution **serverless**, avec ***Azure Functions***\n",
    "- 2 propositions :\n",
    "    - **solution 1** : \n",
    "        - backend : API classique déployée sur serveurs\n",
    "        - frontend : UI classique déployée sur serveurs\n",
    "        - lien entre les deux : *function app* qui appelle l'API et renvoie le résultat\n",
    "    - **solution 2** :\n",
    "        - backend : *function app*\n",
    "        - frontend : UI classique déployée sur serveurs\n",
    "- **Ici : nous pousserons la logique au maximum en gérant également l'UI grâce à *Azure Function***\n",
    "\n",
    "**Architecture cible** :\n",
    "- réfléchir à la suite : Quid de l'ajout de nouveaux utilisateurs ? de nouveaux articles ?\n",
    "- **impact sur les solutions d'architectures ?**"
   ]
  },
  {
   "cell_type": "markdown",
   "metadata": {},
   "source": [
    "## 0.3. <a id='toc3_3_'></a>[Charger et explorer les données](#toc0_)"
   ]
  },
  {
   "cell_type": "markdown",
   "metadata": {},
   "source": [
    "### 0.3.1. <a id='toc3_3_1_'></a>[Les fichiers à notre disposition](#toc0_)"
   ]
  },
  {
   "cell_type": "markdown",
   "metadata": {},
   "source": [
    "Les données représentent les intéractions avec des utilisateurs avec les articles disponibles. Elles sont organisées en plusieurs parties :\n",
    "- **clicks** :\n",
    "    - `clicks_sample.csv`\n",
    "    - `clicks/` :\n",
    "        - `clicks_hour_000.csv`\n",
    "        - `clicks_hour_001.csv`\n",
    "        - ...\n",
    "        - `clicks_hour_383.csv`\n",
    "        - `clicks_hour_384.csv`\n",
    "- **articles** :\n",
    "    - `articles_metadata.csv`\n",
    "    - `articles_embeddings.pickle`\n",
    "\n",
    "Préparons les chemins d'accès vers ces dossiers/fichiers :"
   ]
  },
  {
   "cell_type": "code",
   "execution_count": 25,
   "metadata": {},
   "outputs": [],
   "source": [
    "# prepare paths\n",
    "# parent path\n",
    "parent_path = os.path.abspath(\"..\")\n",
    "# for 'clicks_sample\"\n",
    "clicks_sample_path = os.path.join(parent_path, \"news-portal-user-interactions-by-globocom/clicks_sample.csv\")\n",
    "# for \"clicks\" directory\n",
    "clicks_folder_path = os.path.join(parent_path, \"news-portal-user-interactions-by-globocom/clicks\")\n",
    "# for \"articles_metadata\"\n",
    "meta_path = os.path.join(parent_path, \"news-portal-user-interactions-by-globocom/articles_metadata.csv\")\n",
    "# for \"articles_embeddings\"\n",
    "emb_path = os.path.join(parent_path, \"news-portal-user-interactions-by-globocom/articles_embeddings.pickle\")\n"
   ]
  },
  {
   "cell_type": "markdown",
   "metadata": {},
   "source": [
    "### 0.3.2. <a id='toc3_3_2_'></a>[Les données *clicks*](#toc0_)"
   ]
  },
  {
   "cell_type": "markdown",
   "metadata": {},
   "source": [
    "#### 0.3.2.1. <a id='toc3_3_2_1_'></a>[Échantillon](#toc0_)"
   ]
  },
  {
   "cell_type": "markdown",
   "metadata": {},
   "source": [
    "Regardons tout d'abord le fichier `clicks_sample.csv` :"
   ]
  },
  {
   "cell_type": "code",
   "execution_count": 26,
   "metadata": {},
   "outputs": [
    {
     "data": {
      "text/html": [
       "<div>\n",
       "<style scoped>\n",
       "    .dataframe tbody tr th:only-of-type {\n",
       "        vertical-align: middle;\n",
       "    }\n",
       "\n",
       "    .dataframe tbody tr th {\n",
       "        vertical-align: top;\n",
       "    }\n",
       "\n",
       "    .dataframe thead th {\n",
       "        text-align: right;\n",
       "    }\n",
       "</style>\n",
       "<table border=\"1\" class=\"dataframe\">\n",
       "  <thead>\n",
       "    <tr style=\"text-align: right;\">\n",
       "      <th></th>\n",
       "      <th>user_id</th>\n",
       "      <th>session_id</th>\n",
       "      <th>session_start</th>\n",
       "      <th>session_size</th>\n",
       "      <th>click_article_id</th>\n",
       "      <th>click_timestamp</th>\n",
       "      <th>click_environment</th>\n",
       "      <th>click_deviceGroup</th>\n",
       "      <th>click_os</th>\n",
       "      <th>click_country</th>\n",
       "      <th>click_region</th>\n",
       "      <th>click_referrer_type</th>\n",
       "    </tr>\n",
       "  </thead>\n",
       "  <tbody>\n",
       "    <tr>\n",
       "      <th>0</th>\n",
       "      <td>0</td>\n",
       "      <td>1506825423271737</td>\n",
       "      <td>1506825423000</td>\n",
       "      <td>2</td>\n",
       "      <td>157541</td>\n",
       "      <td>1506826828020</td>\n",
       "      <td>4</td>\n",
       "      <td>3</td>\n",
       "      <td>20</td>\n",
       "      <td>1</td>\n",
       "      <td>20</td>\n",
       "      <td>2</td>\n",
       "    </tr>\n",
       "    <tr>\n",
       "      <th>1</th>\n",
       "      <td>0</td>\n",
       "      <td>1506825423271737</td>\n",
       "      <td>1506825423000</td>\n",
       "      <td>2</td>\n",
       "      <td>68866</td>\n",
       "      <td>1506826858020</td>\n",
       "      <td>4</td>\n",
       "      <td>3</td>\n",
       "      <td>20</td>\n",
       "      <td>1</td>\n",
       "      <td>20</td>\n",
       "      <td>2</td>\n",
       "    </tr>\n",
       "    <tr>\n",
       "      <th>2</th>\n",
       "      <td>1</td>\n",
       "      <td>1506825426267738</td>\n",
       "      <td>1506825426000</td>\n",
       "      <td>2</td>\n",
       "      <td>235840</td>\n",
       "      <td>1506827017951</td>\n",
       "      <td>4</td>\n",
       "      <td>1</td>\n",
       "      <td>17</td>\n",
       "      <td>1</td>\n",
       "      <td>16</td>\n",
       "      <td>2</td>\n",
       "    </tr>\n",
       "    <tr>\n",
       "      <th>3</th>\n",
       "      <td>1</td>\n",
       "      <td>1506825426267738</td>\n",
       "      <td>1506825426000</td>\n",
       "      <td>2</td>\n",
       "      <td>96663</td>\n",
       "      <td>1506827047951</td>\n",
       "      <td>4</td>\n",
       "      <td>1</td>\n",
       "      <td>17</td>\n",
       "      <td>1</td>\n",
       "      <td>16</td>\n",
       "      <td>2</td>\n",
       "    </tr>\n",
       "    <tr>\n",
       "      <th>4</th>\n",
       "      <td>2</td>\n",
       "      <td>1506825435299739</td>\n",
       "      <td>1506825435000</td>\n",
       "      <td>2</td>\n",
       "      <td>119592</td>\n",
       "      <td>1506827090575</td>\n",
       "      <td>4</td>\n",
       "      <td>1</td>\n",
       "      <td>17</td>\n",
       "      <td>1</td>\n",
       "      <td>24</td>\n",
       "      <td>2</td>\n",
       "    </tr>\n",
       "    <tr>\n",
       "      <th>...</th>\n",
       "      <td>...</td>\n",
       "      <td>...</td>\n",
       "      <td>...</td>\n",
       "      <td>...</td>\n",
       "      <td>...</td>\n",
       "      <td>...</td>\n",
       "      <td>...</td>\n",
       "      <td>...</td>\n",
       "      <td>...</td>\n",
       "      <td>...</td>\n",
       "      <td>...</td>\n",
       "      <td>...</td>\n",
       "    </tr>\n",
       "    <tr>\n",
       "      <th>1878</th>\n",
       "      <td>705</td>\n",
       "      <td>1506828968165442</td>\n",
       "      <td>1506828968000</td>\n",
       "      <td>2</td>\n",
       "      <td>119592</td>\n",
       "      <td>1506830912301</td>\n",
       "      <td>4</td>\n",
       "      <td>1</td>\n",
       "      <td>17</td>\n",
       "      <td>1</td>\n",
       "      <td>21</td>\n",
       "      <td>2</td>\n",
       "    </tr>\n",
       "    <tr>\n",
       "      <th>1879</th>\n",
       "      <td>705</td>\n",
       "      <td>1506828968165442</td>\n",
       "      <td>1506828968000</td>\n",
       "      <td>2</td>\n",
       "      <td>284847</td>\n",
       "      <td>1506830942301</td>\n",
       "      <td>4</td>\n",
       "      <td>1</td>\n",
       "      <td>17</td>\n",
       "      <td>1</td>\n",
       "      <td>21</td>\n",
       "      <td>2</td>\n",
       "    </tr>\n",
       "    <tr>\n",
       "      <th>1880</th>\n",
       "      <td>706</td>\n",
       "      <td>1506828979881443</td>\n",
       "      <td>1506828979000</td>\n",
       "      <td>3</td>\n",
       "      <td>108854</td>\n",
       "      <td>1506829027334</td>\n",
       "      <td>4</td>\n",
       "      <td>3</td>\n",
       "      <td>2</td>\n",
       "      <td>1</td>\n",
       "      <td>25</td>\n",
       "      <td>1</td>\n",
       "    </tr>\n",
       "    <tr>\n",
       "      <th>1881</th>\n",
       "      <td>706</td>\n",
       "      <td>1506828979881443</td>\n",
       "      <td>1506828979000</td>\n",
       "      <td>3</td>\n",
       "      <td>96663</td>\n",
       "      <td>1506829095732</td>\n",
       "      <td>4</td>\n",
       "      <td>3</td>\n",
       "      <td>2</td>\n",
       "      <td>1</td>\n",
       "      <td>25</td>\n",
       "      <td>1</td>\n",
       "    </tr>\n",
       "    <tr>\n",
       "      <th>1882</th>\n",
       "      <td>706</td>\n",
       "      <td>1506828979881443</td>\n",
       "      <td>1506828979000</td>\n",
       "      <td>3</td>\n",
       "      <td>68866</td>\n",
       "      <td>1506829125732</td>\n",
       "      <td>4</td>\n",
       "      <td>3</td>\n",
       "      <td>2</td>\n",
       "      <td>1</td>\n",
       "      <td>25</td>\n",
       "      <td>1</td>\n",
       "    </tr>\n",
       "  </tbody>\n",
       "</table>\n",
       "<p>1883 rows × 12 columns</p>\n",
       "</div>"
      ],
      "text/plain": [
       "      user_id        session_id  session_start  session_size  \\\n",
       "0           0  1506825423271737  1506825423000             2   \n",
       "1           0  1506825423271737  1506825423000             2   \n",
       "2           1  1506825426267738  1506825426000             2   \n",
       "3           1  1506825426267738  1506825426000             2   \n",
       "4           2  1506825435299739  1506825435000             2   \n",
       "...       ...               ...            ...           ...   \n",
       "1878      705  1506828968165442  1506828968000             2   \n",
       "1879      705  1506828968165442  1506828968000             2   \n",
       "1880      706  1506828979881443  1506828979000             3   \n",
       "1881      706  1506828979881443  1506828979000             3   \n",
       "1882      706  1506828979881443  1506828979000             3   \n",
       "\n",
       "      click_article_id  click_timestamp  click_environment  click_deviceGroup  \\\n",
       "0               157541    1506826828020                  4                  3   \n",
       "1                68866    1506826858020                  4                  3   \n",
       "2               235840    1506827017951                  4                  1   \n",
       "3                96663    1506827047951                  4                  1   \n",
       "4               119592    1506827090575                  4                  1   \n",
       "...                ...              ...                ...                ...   \n",
       "1878            119592    1506830912301                  4                  1   \n",
       "1879            284847    1506830942301                  4                  1   \n",
       "1880            108854    1506829027334                  4                  3   \n",
       "1881             96663    1506829095732                  4                  3   \n",
       "1882             68866    1506829125732                  4                  3   \n",
       "\n",
       "      click_os  click_country  click_region  click_referrer_type  \n",
       "0           20              1            20                    2  \n",
       "1           20              1            20                    2  \n",
       "2           17              1            16                    2  \n",
       "3           17              1            16                    2  \n",
       "4           17              1            24                    2  \n",
       "...        ...            ...           ...                  ...  \n",
       "1878        17              1            21                    2  \n",
       "1879        17              1            21                    2  \n",
       "1880         2              1            25                    1  \n",
       "1881         2              1            25                    1  \n",
       "1882         2              1            25                    1  \n",
       "\n",
       "[1883 rows x 12 columns]"
      ]
     },
     "execution_count": 26,
     "metadata": {},
     "output_type": "execute_result"
    }
   ],
   "source": [
    "# load clicks_sample in a dataframe\n",
    "clicks_sample_df = pd.read_csv(clicks_sample_path)\n",
    "clicks_sample_df"
   ]
  },
  {
   "cell_type": "markdown",
   "metadata": {},
   "source": [
    "Ce fichier est un échantillon et nous permet de comprendre les différentes features à notre disposition. Regardons chacune d'elle grâce à la fonction `myDescribe` :"
   ]
  },
  {
   "cell_type": "code",
   "execution_count": 27,
   "metadata": {},
   "outputs": [
    {
     "data": {
      "application/vnd.jupyter.widget-view+json": {
       "model_id": "a46573b195354c8cb41ed11296f68df1",
       "version_major": 2,
       "version_minor": 0
      },
      "text/plain": [
       "HBox(children=(RadioButtons(description='Which features :', index=2, options=('quantitative', 'qualitative', '…"
      ]
     },
     "metadata": {},
     "output_type": "display_data"
    },
    {
     "data": {
      "application/vnd.jupyter.widget-view+json": {
       "model_id": "a77b1dbc7c764277b6968645f9f48de4",
       "version_major": 2,
       "version_minor": 0
      },
      "text/plain": [
       "Output()"
      ]
     },
     "metadata": {},
     "output_type": "display_data"
    }
   ],
   "source": [
    "# use custom function \"myDescribe\" on \"clicks_sample_df\"\n",
    "mf.myDescribe(clicks_sample_df)"
   ]
  },
  {
   "cell_type": "markdown",
   "metadata": {},
   "source": [
    "Les features sont décrites ici : https://www.kaggle.com/datasets/gspmoreira/news-portal-user-interactions-by-globocom?select=clicks_sample.csv\n",
    "\n",
    "Ce que l'on peut en retenir :\n",
    "- `user_id` : l'identifiant de l'utilisateur\n",
    "- `session_id` : un identifiant donnée à la session dans laquelle le click a lieu. Tous les clicks d'une session d'utilisation ont donc le même identifiant\n",
    "- `session_start` : horodatage du début de la session. De type *Unix time*, mais en **ms**\n",
    "- `session_size` : nombre de clicks dans la session d'utilisation. Pour le fichier échantillon, compris entre 2 et 46.\n",
    "- `click_article_id` : identifiant de l'article sur lequel le click a eu lieu\n",
    "- `click_timestamp` : horodatage du click\n",
    "- `click_environment` : environnement d'utilisation (`1` - *Facebook Instant Article*, `2` - *Mobile App*, `3` - *AMP (Accelerated Modile Pages)*, `4` - Web). Pour l'échantllon, la grande majorité des clicks ont eu lieu sur le site web.\n",
    "- `click_deviceGroup` : type d'appareil utilisé (`1` - Tablette, `2` - télévision, `3` - vide (inconnu), `4` - smartphone, `5` - ordinateur de bureau)\n",
    "- `click_os` : système d'exploitation de l'appareil. Peut être considérée comme catégorielle.\n",
    "- `click_country` : identifiant donné au pays de l'utilisateur. La plupart des clicks ont été effectués depuis le pays 1.\n",
    "- `click_region` : identifiant donné à la région de l'utilisateur\n",
    "- `click_referrer_type` : inconnu\n",
    "\n",
    "Mise à part `session_size`, `click_timestamp` et `session_start`, les colonnes peuvent être considérées comme catégorielles."
   ]
  },
  {
   "cell_type": "code",
   "execution_count": 28,
   "metadata": {},
   "outputs": [
    {
     "data": {
      "text/plain": [
       "4"
      ]
     },
     "execution_count": 28,
     "metadata": {},
     "output_type": "execute_result"
    }
   ],
   "source": [
    "del clicks_sample_df\n",
    "gc.collect()"
   ]
  },
  {
   "cell_type": "markdown",
   "metadata": {},
   "source": [
    "#### 0.3.2.2. <a id='toc3_3_2_2_'></a>[Charger toutes les données *clicks*](#toc0_)"
   ]
  },
  {
   "cell_type": "markdown",
   "metadata": {},
   "source": [
    "Chargeons maintenant l'ensemble des données `clicks_hour_xxx`. Pour cela nous avons rédigé une fonction `read_all_clicks` :"
   ]
  },
  {
   "cell_type": "code",
   "execution_count": 29,
   "metadata": {},
   "outputs": [],
   "source": [
    "# create folder for saving\n",
    "if not os.path.isdir(\"mySaves/dev_files\"):\n",
    "    os.mkdir(\"mySaves/dev_files\")"
   ]
  },
  {
   "cell_type": "code",
   "execution_count": 30,
   "metadata": {},
   "outputs": [],
   "source": [
    "# use custom function \"read_all_clicks\"\n",
    "if \"clicks_df.joblib\" not in os.listdir(\"mySaves/dev_files\") :\n",
    "    clicks_df = mf.read_all_clicks(clicks_folder_path=clicks_folder_path, usecols = None, kept_user_ids = None)\n",
    "    # save\n",
    "    # clicks_df.to_csv(path_or_buf=\"mySaves/working_dfs/clicks_df.csv\", index=False)\n",
    "    dump(clicks_df, \"mySaves/dev_files/clicks_df.joblib\")\n",
    "    \n",
    "else :\n",
    "    # load\n",
    "    clicks_df = load(\"mySaves/dev_files/clicks_df.joblib\")\n"
   ]
  },
  {
   "cell_type": "markdown",
   "metadata": {},
   "source": [
    "#### 0.3.2.3. <a id='toc3_3_2_3_'></a>[La taille de la session `session_size`](#toc0_)"
   ]
  },
  {
   "cell_type": "markdown",
   "metadata": {},
   "source": [
    "Regardons la distribution de `session_size` :"
   ]
  },
  {
   "cell_type": "code",
   "execution_count": 31,
   "metadata": {},
   "outputs": [],
   "source": [
    "# create folder for saving\n",
    "if not os.path.isdir(\"mySaves/images\"):\n",
    "    os.mkdir(\"mySaves/images\")\n",
    "if not os.path.isdir(\"mySaves/images/plots\"):\n",
    "    os.mkdir(\"mySaves/images/plots\")"
   ]
  },
  {
   "cell_type": "code",
   "execution_count": 32,
   "metadata": {},
   "outputs": [
    {
     "data": {
      "image/png": "[encoded data removed]",
      "text/plain": [
       "<PIL.PngImagePlugin.PngImageFile image mode=RGBA size=1400x700>"
      ]
     },
     "metadata": {},
     "output_type": "display_data"
    }
   ],
   "source": [
    "# plot distribution of \"session_size\"\n",
    "\n",
    "if \"distrib_session_size.png\" not in os.listdir(\"mySaves/images/plots\") :\n",
    "    # create figure\n",
    "    fig, (ax_hist, ax_box) = plt.subplots(2,1,figsize=(14,7), height_ratios=[0.9,0.1], sharex=True)\n",
    "\n",
    "    # no space between plots\n",
    "    plt.subplots_adjust(hspace=0)\n",
    "\n",
    "    # clip values\n",
    "    upper = 20\n",
    "    session_size_clip = clicks_df[\"session_size\"].clip(lower=0, upper=upper)\n",
    "\n",
    "    ## boxplot\n",
    "\n",
    "    sns.boxplot(x=session_size_clip, ax=ax_box)\n",
    "\n",
    "    ## histogram\n",
    "\n",
    "    # plot\n",
    "    sns.histplot(session_size_clip, bins=upper, binrange=(0.5,upper+0.5), ax=ax_hist)\n",
    "\n",
    "    # y logscale\n",
    "    ax_hist.set_yscale(\"log\")\n",
    "    ax_hist.set_ylabel(\"Count - log scale\")\n",
    "    ax_hist.set_ylim(10**3,2*10**6)\n",
    "    ax_hist.grid(True, axis=\"y\", which='both')\n",
    "\n",
    "    # x tick labels\n",
    "    xticks = np.arange(1,upper+1)\n",
    "    ax_hist.set_xticks(ticks=xticks, labels=[str(i) for i in xticks[:-1]]+[\">=\"+str(upper)])\n",
    "    ax_hist.tick_params(axis=\"x\", bottom=False)\n",
    "\n",
    "    # title\n",
    "    fig.suptitle(\"'session_size' - Empirical distribution\")\n",
    "\n",
    "    fig.savefig(fname=\"mySaves/images/plots/distrib_session_size.png\")\n",
    "\n",
    "    plt.show()\n",
    "\n",
    "else :\n",
    "    # load image\n",
    "    display(Image.open(\"mySaves/images/plots/distrib_session_size.png\"))\n",
    "    "
   ]
  },
  {
   "cell_type": "markdown",
   "metadata": {},
   "source": [
    "Ce que l'on peut en retenir :\n",
    "- il n'existe pas une seule session avec un click unique. Il s'agit peut-être d'un choix opéré par le créateur du dataset\n",
    "- nous avons été contraint de tracer le graph avec une échelle logarithmique : la très grande majorité des sessions comporte peu de clicks"
   ]
  },
  {
   "cell_type": "markdown",
   "metadata": {},
   "source": [
    "#### 0.3.2.4. <a id='toc3_3_2_4_'></a>[Les données temporelles `session_start` et `click_timestamp`](#toc0_)"
   ]
  },
  {
   "cell_type": "markdown",
   "metadata": {},
   "source": [
    "Maintenant que ces features sont converties en type `datetime`, observons-les de nouveau :"
   ]
  },
  {
   "cell_type": "code",
   "execution_count": 33,
   "metadata": {},
   "outputs": [
    {
     "data": {
      "application/vnd.jupyter.widget-view+json": {
       "model_id": "764cb34d18314b5986a06f4130863cf5",
       "version_major": 2,
       "version_minor": 0
      },
      "text/plain": [
       "HBox(children=(RadioButtons(description='Which features :', index=2, options=('quantitative', 'qualitative', '…"
      ]
     },
     "metadata": {},
     "output_type": "display_data"
    },
    {
     "data": {
      "application/vnd.jupyter.widget-view+json": {
       "model_id": "4c566878b6334a04839c8911d7b58b33",
       "version_major": 2,
       "version_minor": 0
      },
      "text/plain": [
       "Output()"
      ]
     },
     "metadata": {},
     "output_type": "display_data"
    }
   ],
   "source": [
    "# use custom function myDescribe on datetime features\n",
    "mf.myDescribe(clicks_df[[\"session_start\", \"click_timestamp\"]])"
   ]
  },
  {
   "cell_type": "markdown",
   "metadata": {},
   "source": [
    "Ce que l'on peut retenir :\n",
    "- les sessions de notre dataset ont démarré entre le 1er octobre et le 17 octobre 2017\n",
    "- la grande majorité des clicks s'étale sur cette même période\n",
    "- il y a cependant des clicks survenus bien après, jusqu'à 13 novembre...\n",
    "- ces cas sont peu nombreux\n",
    "\n",
    "Les temps de session après cette date doivent être alors anormalement élevés ? :"
   ]
  },
  {
   "cell_type": "code",
   "execution_count": 34,
   "metadata": {},
   "outputs": [
    {
     "data": {
      "image/png": "[encoded data removed]",
      "text/plain": [
       "<PIL.PngImagePlugin.PngImageFile image mode=RGBA size=1400x800>"
      ]
     },
     "metadata": {},
     "output_type": "display_data"
    }
   ],
   "source": [
    "# explore clicks after october 17th\n",
    "\n",
    "if \"late_clicks_explore.png\" not in os.listdir(\"mySaves/images/plots\") :\n",
    "\n",
    "    # make copy\n",
    "    explore_late_clicks = clicks_df.copy()\n",
    "    # compute time between the click and session start\n",
    "    explore_late_clicks[\"time_from_session_start (in days)\"] = (explore_late_clicks[\"click_timestamp\"] - explore_late_clicks[\"session_start\"]).dt.days\n",
    "    # feature to tag clicks after october 17th\n",
    "    explore_late_clicks[\"late_clicks?\"] = explore_late_clicks[\"click_timestamp\"].apply(lambda x : \"after oct 17th\" if x > datetime.datetime(year=2017, month=10, day=18) else \"before oct 17th\")\n",
    "    explore_late_clicks=explore_late_clicks.sort_values(\"late_clicks?\", ascending=False)\n",
    "\n",
    "    ## plot \"time_from_session_start\", \"session_size\", \"click_environment\", \"click_deviceGroup\" distributions by \"late_clicks?\"\n",
    "\n",
    "    # create figure\n",
    "    fig, axs = plt.subplots(2,2, figsize=(14,8))\n",
    "    axs = axs.flatten()\n",
    "\n",
    "    # box plots for \"time_from_session_start\" and \"session_size\"\n",
    "    sns.boxplot(data=explore_late_clicks, x=\"time_from_session_start (in days)\", hue=\"late_clicks?\", ax=axs[0])\n",
    "    sns.boxplot(data=explore_late_clicks, x=\"session_size\", hue=\"late_clicks?\", ax=axs[1])\n",
    "\n",
    "    # barplots for \"click_environment\" and \"click_deviceGroup\"\n",
    "    for ax, col in zip([axs[2], axs[3]],[\"click_environment\", \"click_deviceGroup\"]) :\n",
    "        # create mask to filter \"explore_late_clicks\" by \"late_clicks?\"\n",
    "        mask = explore_late_clicks[\"late_clicks?\"] == \"after oct 17th\"\n",
    "        # filter and \"value_counts\"\n",
    "        late_prop = explore_late_clicks.loc[mask, col].value_counts(normalize=True).to_frame()\n",
    "        late_prop[\"late_clicks?\"] = \"after oct 17th\"\n",
    "        casual_prop = explore_late_clicks.loc[~mask, col].value_counts(normalize=True).to_frame()\n",
    "        casual_prop[\"late_clicks?\"] = \"before oct 17th\"\n",
    "        # concatenate\n",
    "        prop = pd.concat([casual_prop, late_prop]).reset_index()\n",
    "        # plot\n",
    "        sns.barplot(data=prop, x=col, y=\"proportion\", hue=\"late_clicks?\", ax=ax, edgecolor=\"k\")\n",
    "\n",
    "    # titles\n",
    "    for i,col in enumerate([\"time_from_session_start (in days)\", \"session_size\", \"click_environment\", \"click_deviceGroup\"]) :\n",
    "        axs[i].set_title(col)\n",
    "        axs[i].set_xlabel(\"\")\n",
    "    fig.suptitle(\"Clicks after 2017 october 17th\")\n",
    "\n",
    "    # save\n",
    "    fig.savefig(\"mySaves/images/plots/late_clicks_explore.png\")\n",
    "\n",
    "    plt.show()\n",
    "\n",
    "    del explore_late_clicks\n",
    "    gc.collect()\n",
    "\n",
    "else :\n",
    "    # load image\n",
    "    display(Image.open(\"mySaves/images/plots/late_clicks_explore.png\"))"
   ]
  },
  {
   "cell_type": "markdown",
   "metadata": {},
   "source": [
    "On voit effectivement que les **durées de sessions sont majoritairement plus élevées après le 17 octobre 2017**, date de la dernière session prise en compte dans le dataset.\n",
    "\n",
    "On peut penser à un bug, ou bien à un navigateur resté ouvert.\n",
    "\n",
    "On remarque en effet que, passée cette date, 100% de l'utilisation s'est faite sur la **page web** de l'application, en très grande majorité depuis une tablette. L'application ne doit pas déconnecter automatiquement l'utilisateur passé une certaine durée."
   ]
  },
  {
   "cell_type": "markdown",
   "metadata": {},
   "source": [
    "Nous ne prendrons donc **pas en compte la taille de la session `session_size`** dans notre projet sur la recommendation, celle-ci n'étant pas vraiment représentative de la réalité."
   ]
  },
  {
   "cell_type": "markdown",
   "metadata": {},
   "source": [
    "En revanche il pourrait être intéressant d'utiliser `click_timestamp` pour notre système de notation *Collaborative Filtering*. **Il serait en effet pertinent que le *rating* prennent en compte le degré d'ancienneté de la consommation du contenu**."
   ]
  },
  {
   "cell_type": "markdown",
   "metadata": {},
   "source": [
    "#### 0.3.2.5. <a id='toc3_3_2_5_'></a>[Les identifiants `user_id`, `session_id`, `click_article_id`](#toc0_)"
   ]
  },
  {
   "cell_type": "markdown",
   "metadata": {},
   "source": [
    "##### 0.3.2.5.1. <a id='toc3_3_2_5_1_'></a>[Généralités](#toc0_)"
   ]
  },
  {
   "cell_type": "markdown",
   "metadata": {},
   "source": [
    "Regardons les identifiants, qui pourront nous aider à contruire notre système de notation."
   ]
  },
  {
   "cell_type": "code",
   "execution_count": 35,
   "metadata": {},
   "outputs": [
    {
     "data": {
      "application/vnd.jupyter.widget-view+json": {
       "model_id": "42f282597a5341ce9be0802fa5de5a92",
       "version_major": 2,
       "version_minor": 0
      },
      "text/plain": [
       "HBox(children=(RadioButtons(description='Which features :', index=2, options=('quantitative', 'qualitative', '…"
      ]
     },
     "metadata": {},
     "output_type": "display_data"
    },
    {
     "data": {
      "application/vnd.jupyter.widget-view+json": {
       "model_id": "4eaa4ef2b1ae4513ac842014fe92fd74",
       "version_major": 2,
       "version_minor": 0
      },
      "text/plain": [
       "Output()"
      ]
     },
     "metadata": {},
     "output_type": "display_data"
    }
   ],
   "source": [
    "# use custom function myDescribe on id features\n",
    "mf.myDescribe(clicks_df[[\"user_id\", \"session_id\", \"click_article_id\"]])"
   ]
  },
  {
   "cell_type": "markdown",
   "metadata": {},
   "source": [
    "Ce que l'on peut en retenir :\n",
    "- `user_id` : certains utilisateurs sont très actifs\n",
    "- `session_id` : certaines sessions sont très longues, ce qui est étonnant\n",
    "- `click_article_id` : nous avons **46033 articles différents** lus par les utilisateurs\n",
    "\n",
    "On peut combiner ces `id` et nous intéresser au nombre d'articles lus par utilisateur :\n",
    "- combien ?\n",
    "- certains ont-ils était lus plusieurs fois (plusieurs clicks) ?"
   ]
  },
  {
   "cell_type": "markdown",
   "metadata": {},
   "source": [
    "##### 0.3.2.5.2. <a id='toc3_3_2_5_2_'></a>[`click_articles_id` by `user_id`](#toc0_)"
   ]
  },
  {
   "cell_type": "code",
   "execution_count": 41,
   "metadata": {},
   "outputs": [
    {
     "data": {
      "application/vnd.jupyter.widget-view+json": {
       "model_id": "1f7b903fce5e4f0093dc355e10531416",
       "version_major": 2,
       "version_minor": 0
      },
      "text/plain": [
       "HBox(children=(RadioButtons(description='Which features :', index=2, options=('quantitative', 'qualitative', '…"
      ]
     },
     "metadata": {},
     "output_type": "display_data"
    },
    {
     "data": {
      "application/vnd.jupyter.widget-view+json": {
       "model_id": "61aaa568b57b4e98927a6f05ed71a053",
       "version_major": 2,
       "version_minor": 0
      },
      "text/plain": [
       "Output()"
      ]
     },
     "metadata": {},
     "output_type": "display_data"
    }
   ],
   "source": [
    "# explore \"click_df\" by \"user_id\"\n",
    "\n",
    "# create a dictionnary with aggregation functions\n",
    "aggDict = {\"click_article_id\" : [\"count\", \"nunique\", mf.n_duplicates]}\n",
    "# aggregate\n",
    "clicks_by_uid = clicks_df.groupby(by=\"user_id\", observed=True).agg(func=aggDict)\n",
    "# handle columns names\n",
    "clicks_by_uid.columns = [col[0]+\"_BY_USER_\"+col[1].upper() for col in clicks_by_uid.columns]\n",
    "# use custom function myDescribe\n",
    "mf.myDescribe(clicks_by_uid)"
   ]
  },
  {
   "cell_type": "markdown",
   "metadata": {},
   "source": [
    "Ce que l'on peut en retenir :\n",
    "- La grande majorité des utilisateurs ont lu moins de 10 articles\n",
    "- Il y a cependant des utilisateurs très actifs qui perturbent la distribution. Il faudra **prendre garde à cela dans la construction de notre système de notation**\n",
    "- Concernant les doublons, les utilisateurs ont, pour presque l'ensemble, logiquement lu chaque article une seule fois\n",
    "- Certains ont cependant lu plusieurs fois certains articles. **Ce comportement mérite d'être étudié**\n",
    "\n",
    "Regardons un exemple :"
   ]
  },
  {
   "cell_type": "code",
   "execution_count": 43,
   "metadata": {},
   "outputs": [
    {
     "data": {
      "text/html": [
       "<div>\n",
       "<style scoped>\n",
       "    .dataframe tbody tr th:only-of-type {\n",
       "        vertical-align: middle;\n",
       "    }\n",
       "\n",
       "    .dataframe tbody tr th {\n",
       "        vertical-align: top;\n",
       "    }\n",
       "\n",
       "    .dataframe thead th {\n",
       "        text-align: right;\n",
       "    }\n",
       "</style>\n",
       "<table border=\"1\" class=\"dataframe\">\n",
       "  <thead>\n",
       "    <tr style=\"text-align: right;\">\n",
       "      <th></th>\n",
       "      <th>click_article_id_BY_USER_COUNT</th>\n",
       "      <th>click_article_id_BY_USER_NUNIQUE</th>\n",
       "      <th>click_article_id_BY_USER_N_DUPLICATES</th>\n",
       "    </tr>\n",
       "    <tr>\n",
       "      <th>user_id</th>\n",
       "      <th></th>\n",
       "      <th></th>\n",
       "      <th></th>\n",
       "    </tr>\n",
       "  </thead>\n",
       "  <tbody>\n",
       "    <tr>\n",
       "      <th>2151</th>\n",
       "      <td>722</td>\n",
       "      <td>513</td>\n",
       "      <td>209</td>\n",
       "    </tr>\n",
       "    <tr>\n",
       "      <th>15867</th>\n",
       "      <td>900</td>\n",
       "      <td>691</td>\n",
       "      <td>209</td>\n",
       "    </tr>\n",
       "  </tbody>\n",
       "</table>\n",
       "</div>"
      ],
      "text/plain": [
       "         click_article_id_BY_USER_COUNT  click_article_id_BY_USER_NUNIQUE  \\\n",
       "user_id                                                                     \n",
       "2151                                722                               513   \n",
       "15867                               900                               691   \n",
       "\n",
       "         click_article_id_BY_USER_N_DUPLICATES  \n",
       "user_id                                         \n",
       "2151                                       209  \n",
       "15867                                      209  "
      ]
     },
     "execution_count": 43,
     "metadata": {},
     "output_type": "execute_result"
    }
   ],
   "source": [
    "# filter \"clicks_by_uid\" on \"N_DUPLICATES\" == 209 (the max)\n",
    "clicks_by_uid.loc[clicks_by_uid[\"click_article_id_BY_USER_N_DUPLICATES\"]==209]"
   ]
  },
  {
   "cell_type": "markdown",
   "metadata": {},
   "source": [
    "Regardons par exemple l'utilisateur `2151`, sur ses 30 dernier clicks :"
   ]
  },
  {
   "cell_type": "code",
   "execution_count": 38,
   "metadata": {},
   "outputs": [
    {
     "data": {
      "text/html": [
       "<div>\n",
       "<style scoped>\n",
       "    .dataframe tbody tr th:only-of-type {\n",
       "        vertical-align: middle;\n",
       "    }\n",
       "\n",
       "    .dataframe tbody tr th {\n",
       "        vertical-align: top;\n",
       "    }\n",
       "\n",
       "    .dataframe thead th {\n",
       "        text-align: right;\n",
       "    }\n",
       "</style>\n",
       "<table border=\"1\" class=\"dataframe\">\n",
       "  <thead>\n",
       "    <tr style=\"text-align: right;\">\n",
       "      <th></th>\n",
       "      <th>user_id</th>\n",
       "      <th>session_id</th>\n",
       "      <th>session_start</th>\n",
       "      <th>session_size</th>\n",
       "      <th>click_article_id</th>\n",
       "      <th>click_timestamp</th>\n",
       "      <th>click_environment</th>\n",
       "      <th>click_deviceGroup</th>\n",
       "      <th>click_os</th>\n",
       "      <th>click_country</th>\n",
       "      <th>click_region</th>\n",
       "      <th>click_referrer_type</th>\n",
       "    </tr>\n",
       "  </thead>\n",
       "  <tbody>\n",
       "    <tr>\n",
       "      <th>2915502</th>\n",
       "      <td>2151</td>\n",
       "      <td>1508174265282981</td>\n",
       "      <td>2017-10-16 17:17:45</td>\n",
       "      <td>5</td>\n",
       "      <td>87213</td>\n",
       "      <td>2017-10-16 23:13:45.152</td>\n",
       "      <td>Web</td>\n",
       "      <td>Tablet</td>\n",
       "      <td>17</td>\n",
       "      <td>1</td>\n",
       "      <td>21</td>\n",
       "      <td>7</td>\n",
       "    </tr>\n",
       "    <tr>\n",
       "      <th>2915501</th>\n",
       "      <td>2151</td>\n",
       "      <td>1508174265282981</td>\n",
       "      <td>2017-10-16 17:17:45</td>\n",
       "      <td>5</td>\n",
       "      <td>30409</td>\n",
       "      <td>2017-10-16 23:13:15.152</td>\n",
       "      <td>Web</td>\n",
       "      <td>Tablet</td>\n",
       "      <td>17</td>\n",
       "      <td>1</td>\n",
       "      <td>21</td>\n",
       "      <td>7</td>\n",
       "    </tr>\n",
       "    <tr>\n",
       "      <th>2915500</th>\n",
       "      <td>2151</td>\n",
       "      <td>1508174265282981</td>\n",
       "      <td>2017-10-16 17:17:45</td>\n",
       "      <td>5</td>\n",
       "      <td>292594</td>\n",
       "      <td>2017-10-16 23:11:52.712</td>\n",
       "      <td>Web</td>\n",
       "      <td>Tablet</td>\n",
       "      <td>17</td>\n",
       "      <td>1</td>\n",
       "      <td>21</td>\n",
       "      <td>7</td>\n",
       "    </tr>\n",
       "    <tr>\n",
       "      <th>2932356</th>\n",
       "      <td>2151</td>\n",
       "      <td>1508179555122841</td>\n",
       "      <td>2017-10-16 18:45:55</td>\n",
       "      <td>6</td>\n",
       "      <td>285433</td>\n",
       "      <td>2017-10-16 21:48:42.928</td>\n",
       "      <td>Web</td>\n",
       "      <td>Tablet</td>\n",
       "      <td>17</td>\n",
       "      <td>1</td>\n",
       "      <td>21</td>\n",
       "      <td>2</td>\n",
       "    </tr>\n",
       "    <tr>\n",
       "      <th>2932355</th>\n",
       "      <td>2151</td>\n",
       "      <td>1508179555122841</td>\n",
       "      <td>2017-10-16 18:45:55</td>\n",
       "      <td>6</td>\n",
       "      <td>206415</td>\n",
       "      <td>2017-10-16 21:48:12.928</td>\n",
       "      <td>Web</td>\n",
       "      <td>Tablet</td>\n",
       "      <td>17</td>\n",
       "      <td>1</td>\n",
       "      <td>21</td>\n",
       "      <td>2</td>\n",
       "    </tr>\n",
       "    <tr>\n",
       "      <th>2932354</th>\n",
       "      <td>2151</td>\n",
       "      <td>1508179555122841</td>\n",
       "      <td>2017-10-16 18:45:55</td>\n",
       "      <td>6</td>\n",
       "      <td>277107</td>\n",
       "      <td>2017-10-16 21:48:08.121</td>\n",
       "      <td>Web</td>\n",
       "      <td>Tablet</td>\n",
       "      <td>17</td>\n",
       "      <td>1</td>\n",
       "      <td>21</td>\n",
       "      <td>2</td>\n",
       "    </tr>\n",
       "    <tr>\n",
       "      <th>2932353</th>\n",
       "      <td>2151</td>\n",
       "      <td>1508179555122841</td>\n",
       "      <td>2017-10-16 18:45:55</td>\n",
       "      <td>6</td>\n",
       "      <td>158772</td>\n",
       "      <td>2017-10-16 21:47:42.758</td>\n",
       "      <td>Web</td>\n",
       "      <td>Tablet</td>\n",
       "      <td>17</td>\n",
       "      <td>1</td>\n",
       "      <td>21</td>\n",
       "      <td>2</td>\n",
       "    </tr>\n",
       "    <tr>\n",
       "      <th>2932352</th>\n",
       "      <td>2151</td>\n",
       "      <td>1508179555122841</td>\n",
       "      <td>2017-10-16 18:45:55</td>\n",
       "      <td>6</td>\n",
       "      <td>36162</td>\n",
       "      <td>2017-10-16 21:47:28.860</td>\n",
       "      <td>Web</td>\n",
       "      <td>Tablet</td>\n",
       "      <td>17</td>\n",
       "      <td>1</td>\n",
       "      <td>21</td>\n",
       "      <td>2</td>\n",
       "    </tr>\n",
       "    <tr>\n",
       "      <th>2915499</th>\n",
       "      <td>2151</td>\n",
       "      <td>1508174265282981</td>\n",
       "      <td>2017-10-16 17:17:45</td>\n",
       "      <td>5</td>\n",
       "      <td>109727</td>\n",
       "      <td>2017-10-16 20:19:16.477</td>\n",
       "      <td>Web</td>\n",
       "      <td>Tablet</td>\n",
       "      <td>17</td>\n",
       "      <td>1</td>\n",
       "      <td>21</td>\n",
       "      <td>7</td>\n",
       "    </tr>\n",
       "    <tr>\n",
       "      <th>2915498</th>\n",
       "      <td>2151</td>\n",
       "      <td>1508174265282981</td>\n",
       "      <td>2017-10-16 17:17:45</td>\n",
       "      <td>5</td>\n",
       "      <td>109752</td>\n",
       "      <td>2017-10-16 20:19:11.541</td>\n",
       "      <td>Web</td>\n",
       "      <td>Tablet</td>\n",
       "      <td>17</td>\n",
       "      <td>1</td>\n",
       "      <td>21</td>\n",
       "      <td>7</td>\n",
       "    </tr>\n",
       "    <tr>\n",
       "      <th>2932351</th>\n",
       "      <td>2151</td>\n",
       "      <td>1508179555122841</td>\n",
       "      <td>2017-10-16 18:45:55</td>\n",
       "      <td>6</td>\n",
       "      <td>289003</td>\n",
       "      <td>2017-10-16 19:18:47.355</td>\n",
       "      <td>Web</td>\n",
       "      <td>Tablet</td>\n",
       "      <td>17</td>\n",
       "      <td>1</td>\n",
       "      <td>21</td>\n",
       "      <td>2</td>\n",
       "    </tr>\n",
       "    <tr>\n",
       "      <th>2881235</th>\n",
       "      <td>2151</td>\n",
       "      <td>1508165093231108</td>\n",
       "      <td>2017-10-16 14:44:53</td>\n",
       "      <td>4</td>\n",
       "      <td>36162</td>\n",
       "      <td>2017-10-16 19:01:23.181</td>\n",
       "      <td>Web</td>\n",
       "      <td>Tablet</td>\n",
       "      <td>17</td>\n",
       "      <td>1</td>\n",
       "      <td>21</td>\n",
       "      <td>2</td>\n",
       "    </tr>\n",
       "    <tr>\n",
       "      <th>2881234</th>\n",
       "      <td>2151</td>\n",
       "      <td>1508165093231108</td>\n",
       "      <td>2017-10-16 14:44:53</td>\n",
       "      <td>4</td>\n",
       "      <td>206415</td>\n",
       "      <td>2017-10-16 19:00:53.181</td>\n",
       "      <td>Web</td>\n",
       "      <td>Tablet</td>\n",
       "      <td>17</td>\n",
       "      <td>1</td>\n",
       "      <td>21</td>\n",
       "      <td>2</td>\n",
       "    </tr>\n",
       "    <tr>\n",
       "      <th>2918312</th>\n",
       "      <td>2151</td>\n",
       "      <td>1508175098570944</td>\n",
       "      <td>2017-10-16 17:31:38</td>\n",
       "      <td>2</td>\n",
       "      <td>289003</td>\n",
       "      <td>2017-10-16 17:35:31.690</td>\n",
       "      <td>Web</td>\n",
       "      <td>Tablet</td>\n",
       "      <td>17</td>\n",
       "      <td>1</td>\n",
       "      <td>21</td>\n",
       "      <td>1</td>\n",
       "    </tr>\n",
       "    <tr>\n",
       "      <th>2918311</th>\n",
       "      <td>2151</td>\n",
       "      <td>1508175098570944</td>\n",
       "      <td>2017-10-16 17:31:38</td>\n",
       "      <td>2</td>\n",
       "      <td>168401</td>\n",
       "      <td>2017-10-16 17:35:01.690</td>\n",
       "      <td>Web</td>\n",
       "      <td>Tablet</td>\n",
       "      <td>17</td>\n",
       "      <td>1</td>\n",
       "      <td>21</td>\n",
       "      <td>1</td>\n",
       "    </tr>\n",
       "    <tr>\n",
       "      <th>2881233</th>\n",
       "      <td>2151</td>\n",
       "      <td>1508165093231108</td>\n",
       "      <td>2017-10-16 14:44:53</td>\n",
       "      <td>4</td>\n",
       "      <td>39894</td>\n",
       "      <td>2017-10-16 16:41:54.608</td>\n",
       "      <td>Web</td>\n",
       "      <td>Tablet</td>\n",
       "      <td>17</td>\n",
       "      <td>1</td>\n",
       "      <td>21</td>\n",
       "      <td>2</td>\n",
       "    </tr>\n",
       "    <tr>\n",
       "      <th>2852052</th>\n",
       "      <td>2151</td>\n",
       "      <td>1508156373223974</td>\n",
       "      <td>2017-10-16 12:19:33</td>\n",
       "      <td>8</td>\n",
       "      <td>50494</td>\n",
       "      <td>2017-10-16 16:04:54.721</td>\n",
       "      <td>Web</td>\n",
       "      <td>Tablet</td>\n",
       "      <td>17</td>\n",
       "      <td>1</td>\n",
       "      <td>21</td>\n",
       "      <td>1</td>\n",
       "    </tr>\n",
       "    <tr>\n",
       "      <th>2852051</th>\n",
       "      <td>2151</td>\n",
       "      <td>1508156373223974</td>\n",
       "      <td>2017-10-16 12:19:33</td>\n",
       "      <td>8</td>\n",
       "      <td>159019</td>\n",
       "      <td>2017-10-16 16:04:24.721</td>\n",
       "      <td>Web</td>\n",
       "      <td>Tablet</td>\n",
       "      <td>17</td>\n",
       "      <td>1</td>\n",
       "      <td>21</td>\n",
       "      <td>1</td>\n",
       "    </tr>\n",
       "    <tr>\n",
       "      <th>2881232</th>\n",
       "      <td>2151</td>\n",
       "      <td>1508165093231108</td>\n",
       "      <td>2017-10-16 14:44:53</td>\n",
       "      <td>4</td>\n",
       "      <td>277107</td>\n",
       "      <td>2017-10-16 15:15:23.672</td>\n",
       "      <td>Web</td>\n",
       "      <td>Tablet</td>\n",
       "      <td>17</td>\n",
       "      <td>1</td>\n",
       "      <td>21</td>\n",
       "      <td>2</td>\n",
       "    </tr>\n",
       "    <tr>\n",
       "      <th>2852050</th>\n",
       "      <td>2151</td>\n",
       "      <td>1508156373223974</td>\n",
       "      <td>2017-10-16 12:19:33</td>\n",
       "      <td>8</td>\n",
       "      <td>161988</td>\n",
       "      <td>2017-10-16 15:12:06.416</td>\n",
       "      <td>Web</td>\n",
       "      <td>Tablet</td>\n",
       "      <td>17</td>\n",
       "      <td>1</td>\n",
       "      <td>21</td>\n",
       "      <td>1</td>\n",
       "    </tr>\n",
       "    <tr>\n",
       "      <th>2877991</th>\n",
       "      <td>2151</td>\n",
       "      <td>1508164143638972</td>\n",
       "      <td>2017-10-16 14:29:03</td>\n",
       "      <td>2</td>\n",
       "      <td>39894</td>\n",
       "      <td>2017-10-16 15:12:04.169</td>\n",
       "      <td>Web</td>\n",
       "      <td>Tablet</td>\n",
       "      <td>17</td>\n",
       "      <td>1</td>\n",
       "      <td>21</td>\n",
       "      <td>1</td>\n",
       "    </tr>\n",
       "    <tr>\n",
       "      <th>2877990</th>\n",
       "      <td>2151</td>\n",
       "      <td>1508164143638972</td>\n",
       "      <td>2017-10-16 14:29:03</td>\n",
       "      <td>2</td>\n",
       "      <td>236877</td>\n",
       "      <td>2017-10-16 15:11:34.169</td>\n",
       "      <td>Web</td>\n",
       "      <td>Tablet</td>\n",
       "      <td>17</td>\n",
       "      <td>1</td>\n",
       "      <td>21</td>\n",
       "      <td>1</td>\n",
       "    </tr>\n",
       "    <tr>\n",
       "      <th>2852049</th>\n",
       "      <td>2151</td>\n",
       "      <td>1508156373223974</td>\n",
       "      <td>2017-10-16 12:19:33</td>\n",
       "      <td>8</td>\n",
       "      <td>218028</td>\n",
       "      <td>2017-10-16 15:10:58.764</td>\n",
       "      <td>Web</td>\n",
       "      <td>Tablet</td>\n",
       "      <td>17</td>\n",
       "      <td>1</td>\n",
       "      <td>21</td>\n",
       "      <td>1</td>\n",
       "    </tr>\n",
       "    <tr>\n",
       "      <th>2852048</th>\n",
       "      <td>2151</td>\n",
       "      <td>1508156373223974</td>\n",
       "      <td>2017-10-16 12:19:33</td>\n",
       "      <td>8</td>\n",
       "      <td>158541</td>\n",
       "      <td>2017-10-16 15:09:57.948</td>\n",
       "      <td>Web</td>\n",
       "      <td>Tablet</td>\n",
       "      <td>17</td>\n",
       "      <td>1</td>\n",
       "      <td>21</td>\n",
       "      <td>1</td>\n",
       "    </tr>\n",
       "    <tr>\n",
       "      <th>2852047</th>\n",
       "      <td>2151</td>\n",
       "      <td>1508156373223974</td>\n",
       "      <td>2017-10-16 12:19:33</td>\n",
       "      <td>8</td>\n",
       "      <td>39894</td>\n",
       "      <td>2017-10-16 15:03:32.608</td>\n",
       "      <td>Web</td>\n",
       "      <td>Tablet</td>\n",
       "      <td>17</td>\n",
       "      <td>1</td>\n",
       "      <td>21</td>\n",
       "      <td>1</td>\n",
       "    </tr>\n",
       "    <tr>\n",
       "      <th>2806320</th>\n",
       "      <td>2151</td>\n",
       "      <td>1508144732294798</td>\n",
       "      <td>2017-10-16 09:05:32</td>\n",
       "      <td>4</td>\n",
       "      <td>352979</td>\n",
       "      <td>2017-10-16 14:47:00.464</td>\n",
       "      <td>Web</td>\n",
       "      <td>Tablet</td>\n",
       "      <td>17</td>\n",
       "      <td>1</td>\n",
       "      <td>21</td>\n",
       "      <td>2</td>\n",
       "    </tr>\n",
       "    <tr>\n",
       "      <th>2806319</th>\n",
       "      <td>2151</td>\n",
       "      <td>1508144732294798</td>\n",
       "      <td>2017-10-16 09:05:32</td>\n",
       "      <td>4</td>\n",
       "      <td>336254</td>\n",
       "      <td>2017-10-16 14:46:30.464</td>\n",
       "      <td>Web</td>\n",
       "      <td>Tablet</td>\n",
       "      <td>17</td>\n",
       "      <td>1</td>\n",
       "      <td>21</td>\n",
       "      <td>2</td>\n",
       "    </tr>\n",
       "    <tr>\n",
       "      <th>2806318</th>\n",
       "      <td>2151</td>\n",
       "      <td>1508144732294798</td>\n",
       "      <td>2017-10-16 09:05:32</td>\n",
       "      <td>4</td>\n",
       "      <td>277107</td>\n",
       "      <td>2017-10-16 14:45:19.432</td>\n",
       "      <td>Web</td>\n",
       "      <td>Tablet</td>\n",
       "      <td>17</td>\n",
       "      <td>1</td>\n",
       "      <td>21</td>\n",
       "      <td>2</td>\n",
       "    </tr>\n",
       "    <tr>\n",
       "      <th>2808371</th>\n",
       "      <td>2151</td>\n",
       "      <td>1508145722286520</td>\n",
       "      <td>2017-10-16 09:22:02</td>\n",
       "      <td>5</td>\n",
       "      <td>362884</td>\n",
       "      <td>2017-10-16 14:07:22.680</td>\n",
       "      <td>Web</td>\n",
       "      <td>Tablet</td>\n",
       "      <td>17</td>\n",
       "      <td>1</td>\n",
       "      <td>21</td>\n",
       "      <td>1</td>\n",
       "    </tr>\n",
       "    <tr>\n",
       "      <th>2808370</th>\n",
       "      <td>2151</td>\n",
       "      <td>1508145722286520</td>\n",
       "      <td>2017-10-16 09:22:02</td>\n",
       "      <td>5</td>\n",
       "      <td>202320</td>\n",
       "      <td>2017-10-16 14:06:52.680</td>\n",
       "      <td>Web</td>\n",
       "      <td>Tablet</td>\n",
       "      <td>17</td>\n",
       "      <td>1</td>\n",
       "      <td>21</td>\n",
       "      <td>1</td>\n",
       "    </tr>\n",
       "  </tbody>\n",
       "</table>\n",
       "</div>"
      ],
      "text/plain": [
       "        user_id        session_id       session_start  session_size  \\\n",
       "2915502    2151  1508174265282981 2017-10-16 17:17:45             5   \n",
       "2915501    2151  1508174265282981 2017-10-16 17:17:45             5   \n",
       "2915500    2151  1508174265282981 2017-10-16 17:17:45             5   \n",
       "2932356    2151  1508179555122841 2017-10-16 18:45:55             6   \n",
       "2932355    2151  1508179555122841 2017-10-16 18:45:55             6   \n",
       "2932354    2151  1508179555122841 2017-10-16 18:45:55             6   \n",
       "2932353    2151  1508179555122841 2017-10-16 18:45:55             6   \n",
       "2932352    2151  1508179555122841 2017-10-16 18:45:55             6   \n",
       "2915499    2151  1508174265282981 2017-10-16 17:17:45             5   \n",
       "2915498    2151  1508174265282981 2017-10-16 17:17:45             5   \n",
       "2932351    2151  1508179555122841 2017-10-16 18:45:55             6   \n",
       "2881235    2151  1508165093231108 2017-10-16 14:44:53             4   \n",
       "2881234    2151  1508165093231108 2017-10-16 14:44:53             4   \n",
       "2918312    2151  1508175098570944 2017-10-16 17:31:38             2   \n",
       "2918311    2151  1508175098570944 2017-10-16 17:31:38             2   \n",
       "2881233    2151  1508165093231108 2017-10-16 14:44:53             4   \n",
       "2852052    2151  1508156373223974 2017-10-16 12:19:33             8   \n",
       "2852051    2151  1508156373223974 2017-10-16 12:19:33             8   \n",
       "2881232    2151  1508165093231108 2017-10-16 14:44:53             4   \n",
       "2852050    2151  1508156373223974 2017-10-16 12:19:33             8   \n",
       "2877991    2151  1508164143638972 2017-10-16 14:29:03             2   \n",
       "2877990    2151  1508164143638972 2017-10-16 14:29:03             2   \n",
       "2852049    2151  1508156373223974 2017-10-16 12:19:33             8   \n",
       "2852048    2151  1508156373223974 2017-10-16 12:19:33             8   \n",
       "2852047    2151  1508156373223974 2017-10-16 12:19:33             8   \n",
       "2806320    2151  1508144732294798 2017-10-16 09:05:32             4   \n",
       "2806319    2151  1508144732294798 2017-10-16 09:05:32             4   \n",
       "2806318    2151  1508144732294798 2017-10-16 09:05:32             4   \n",
       "2808371    2151  1508145722286520 2017-10-16 09:22:02             5   \n",
       "2808370    2151  1508145722286520 2017-10-16 09:22:02             5   \n",
       "\n",
       "        click_article_id         click_timestamp click_environment  \\\n",
       "2915502            87213 2017-10-16 23:13:45.152               Web   \n",
       "2915501            30409 2017-10-16 23:13:15.152               Web   \n",
       "2915500           292594 2017-10-16 23:11:52.712               Web   \n",
       "2932356           285433 2017-10-16 21:48:42.928               Web   \n",
       "2932355           206415 2017-10-16 21:48:12.928               Web   \n",
       "2932354           277107 2017-10-16 21:48:08.121               Web   \n",
       "2932353           158772 2017-10-16 21:47:42.758               Web   \n",
       "2932352            36162 2017-10-16 21:47:28.860               Web   \n",
       "2915499           109727 2017-10-16 20:19:16.477               Web   \n",
       "2915498           109752 2017-10-16 20:19:11.541               Web   \n",
       "2932351           289003 2017-10-16 19:18:47.355               Web   \n",
       "2881235            36162 2017-10-16 19:01:23.181               Web   \n",
       "2881234           206415 2017-10-16 19:00:53.181               Web   \n",
       "2918312           289003 2017-10-16 17:35:31.690               Web   \n",
       "2918311           168401 2017-10-16 17:35:01.690               Web   \n",
       "2881233            39894 2017-10-16 16:41:54.608               Web   \n",
       "2852052            50494 2017-10-16 16:04:54.721               Web   \n",
       "2852051           159019 2017-10-16 16:04:24.721               Web   \n",
       "2881232           277107 2017-10-16 15:15:23.672               Web   \n",
       "2852050           161988 2017-10-16 15:12:06.416               Web   \n",
       "2877991            39894 2017-10-16 15:12:04.169               Web   \n",
       "2877990           236877 2017-10-16 15:11:34.169               Web   \n",
       "2852049           218028 2017-10-16 15:10:58.764               Web   \n",
       "2852048           158541 2017-10-16 15:09:57.948               Web   \n",
       "2852047            39894 2017-10-16 15:03:32.608               Web   \n",
       "2806320           352979 2017-10-16 14:47:00.464               Web   \n",
       "2806319           336254 2017-10-16 14:46:30.464               Web   \n",
       "2806318           277107 2017-10-16 14:45:19.432               Web   \n",
       "2808371           362884 2017-10-16 14:07:22.680               Web   \n",
       "2808370           202320 2017-10-16 14:06:52.680               Web   \n",
       "\n",
       "        click_deviceGroup click_os click_country click_region  \\\n",
       "2915502            Tablet       17             1           21   \n",
       "2915501            Tablet       17             1           21   \n",
       "2915500            Tablet       17             1           21   \n",
       "2932356            Tablet       17             1           21   \n",
       "2932355            Tablet       17             1           21   \n",
       "2932354            Tablet       17             1           21   \n",
       "2932353            Tablet       17             1           21   \n",
       "2932352            Tablet       17             1           21   \n",
       "2915499            Tablet       17             1           21   \n",
       "2915498            Tablet       17             1           21   \n",
       "2932351            Tablet       17             1           21   \n",
       "2881235            Tablet       17             1           21   \n",
       "2881234            Tablet       17             1           21   \n",
       "2918312            Tablet       17             1           21   \n",
       "2918311            Tablet       17             1           21   \n",
       "2881233            Tablet       17             1           21   \n",
       "2852052            Tablet       17             1           21   \n",
       "2852051            Tablet       17             1           21   \n",
       "2881232            Tablet       17             1           21   \n",
       "2852050            Tablet       17             1           21   \n",
       "2877991            Tablet       17             1           21   \n",
       "2877990            Tablet       17             1           21   \n",
       "2852049            Tablet       17             1           21   \n",
       "2852048            Tablet       17             1           21   \n",
       "2852047            Tablet       17             1           21   \n",
       "2806320            Tablet       17             1           21   \n",
       "2806319            Tablet       17             1           21   \n",
       "2806318            Tablet       17             1           21   \n",
       "2808371            Tablet       17             1           21   \n",
       "2808370            Tablet       17             1           21   \n",
       "\n",
       "        click_referrer_type  \n",
       "2915502                   7  \n",
       "2915501                   7  \n",
       "2915500                   7  \n",
       "2932356                   2  \n",
       "2932355                   2  \n",
       "2932354                   2  \n",
       "2932353                   2  \n",
       "2932352                   2  \n",
       "2915499                   7  \n",
       "2915498                   7  \n",
       "2932351                   2  \n",
       "2881235                   2  \n",
       "2881234                   2  \n",
       "2918312                   1  \n",
       "2918311                   1  \n",
       "2881233                   2  \n",
       "2852052                   1  \n",
       "2852051                   1  \n",
       "2881232                   2  \n",
       "2852050                   1  \n",
       "2877991                   1  \n",
       "2877990                   1  \n",
       "2852049                   1  \n",
       "2852048                   1  \n",
       "2852047                   1  \n",
       "2806320                   2  \n",
       "2806319                   2  \n",
       "2806318                   2  \n",
       "2808371                   1  \n",
       "2808370                   1  "
      ]
     },
     "execution_count": 38,
     "metadata": {},
     "output_type": "execute_result"
    }
   ],
   "source": [
    "# filter on user 2151\n",
    "clicks_df.loc[clicks_df.user_id == 2151].head(30)"
   ]
  },
  {
   "cell_type": "markdown",
   "metadata": {},
   "source": [
    "Ce que l'on observe :\n",
    "- sachant que les clicks sont dans l'ordre, on observe que les **sessions sont entremêlées**. Cela pourrait venir de l'ouverture de plusieurs onglets ?\n",
    "- il y a bien des doublons :\n",
    "    - l'article `206415` apparaît 2 fois à presque 2 heures d'intervalle, dans 2 sessions différentes\n",
    "    - l'article `277107` apparaît 3 fois à 1/2 heure et 6 heures d'intervalle, dans 3 sessions différentes\n",
    "    - etc.\n",
    "- les doublons n'apparaissent jamais au sein d'une même session, ce que l'on peut vérifier :"
   ]
  },
  {
   "cell_type": "code",
   "execution_count": 39,
   "metadata": {},
   "outputs": [
    {
     "data": {
      "text/html": [
       "<div>\n",
       "<style scoped>\n",
       "    .dataframe tbody tr th:only-of-type {\n",
       "        vertical-align: middle;\n",
       "    }\n",
       "\n",
       "    .dataframe tbody tr th {\n",
       "        vertical-align: top;\n",
       "    }\n",
       "\n",
       "    .dataframe thead th {\n",
       "        text-align: right;\n",
       "    }\n",
       "</style>\n",
       "<table border=\"1\" class=\"dataframe\">\n",
       "  <thead>\n",
       "    <tr style=\"text-align: right;\">\n",
       "      <th></th>\n",
       "      <th>user_id</th>\n",
       "      <th>session_id</th>\n",
       "      <th>session_start</th>\n",
       "      <th>session_size</th>\n",
       "      <th>click_article_id</th>\n",
       "      <th>click_timestamp</th>\n",
       "      <th>click_environment</th>\n",
       "      <th>click_deviceGroup</th>\n",
       "      <th>click_os</th>\n",
       "      <th>click_country</th>\n",
       "      <th>click_region</th>\n",
       "      <th>click_referrer_type</th>\n",
       "    </tr>\n",
       "  </thead>\n",
       "  <tbody>\n",
       "  </tbody>\n",
       "</table>\n",
       "</div>"
      ],
      "text/plain": [
       "Empty DataFrame\n",
       "Columns: [user_id, session_id, session_start, session_size, click_article_id, click_timestamp, click_environment, click_deviceGroup, click_os, click_country, click_region, click_referrer_type]\n",
       "Index: []"
      ]
     },
     "execution_count": 39,
     "metadata": {},
     "output_type": "execute_result"
    }
   ],
   "source": [
    "clicks_df.loc[clicks_df[[\"click_article_id\",\"session_id\"]].duplicated()]"
   ]
  },
  {
   "cell_type": "markdown",
   "metadata": {},
   "source": [
    "Nous ne considérerons **pas ces doublons dans le système de notation** Collaborative Filtering, ce qui n'aurait pas vraiment de sens.\n",
    "\n",
    "Mais alors chaque article se verra attribuer la même note ?\n",
    "\n",
    "Pour éviter cela nous allons **pondérer** les notes **en fonction du niveau d'engagement des utilisateurs**. Nous considérons qu'un utilisateur moins consommateur de contenus a plus tendance à sélectionner avec soin. Dans le cas inverse, un utilisateur ultra actif n'est peut-être pas aller au bout des articles sur lesquels il a cliqué."
   ]
  },
  {
   "cell_type": "markdown",
   "metadata": {},
   "source": [
    "##### 0.3.2.5.3. <a id='toc3_3_2_5_3_'></a>[Nombre de lectures des `click_articles_id` ?](#toc0_)"
   ]
  },
  {
   "cell_type": "markdown",
   "metadata": {},
   "source": [
    "On peut se demander également combien de fois les articles ont été lus ?"
   ]
  },
  {
   "cell_type": "code",
   "execution_count": 40,
   "metadata": {},
   "outputs": [
    {
     "data": {
      "application/vnd.jupyter.widget-view+json": {
       "model_id": "e2c967644ef84c32a6e2aa225dc6ae6e",
       "version_major": 2,
       "version_minor": 0
      },
      "text/plain": [
       "HBox(children=(RadioButtons(description='Which features :', index=2, options=('quantitative', 'qualitative', '…"
      ]
     },
     "metadata": {},
     "output_type": "display_data"
    },
    {
     "data": {
      "application/vnd.jupyter.widget-view+json": {
       "model_id": "d4106124c72f47baab34546260431d1e",
       "version_major": 2,
       "version_minor": 0
      },
      "text/plain": [
       "Output()"
      ]
     },
     "metadata": {},
     "output_type": "display_data"
    }
   ],
   "source": [
    "# explore the the number of times a article has been read\n",
    "articles_counter = clicks_df[\"click_article_id\"].value_counts().to_frame()\n",
    "articles_counter.rename({\"count\":\"numbers_of_occurrences\"}, axis=1, inplace=True)\n",
    "# use custum function myDescribe\n",
    "mf.myDescribe(articles_counter)"
   ]
  },
  {
   "cell_type": "markdown",
   "metadata": {},
   "source": [
    "L'écrasante majorité des articles n'ont été lus qu'un nombre limité de fois...\n",
    "Regardons cela plus en détail :"
   ]
  },
  {
   "cell_type": "code",
   "execution_count": 20,
   "metadata": {},
   "outputs": [
    {
     "data": {
      "image/png": "[encoded data removed]",
      "text/plain": [
       "<PIL.PngImagePlugin.PngImageFile image mode=RGBA size=1400x800>"
      ]
     },
     "metadata": {},
     "output_type": "display_data"
    }
   ],
   "source": [
    "# counting occurrence numbers\n",
    "count_of_numbers_of_occurrences = articles_counter.value_counts()\n",
    "# rename Series\n",
    "count_of_numbers_of_occurrences.name = \"count_of_numbers_of_occurrences\"\n",
    "# reset index\n",
    "count_of_numbers_of_occurrences = count_of_numbers_of_occurrences.reset_index()\n",
    "\n",
    "# plot \"count_of_numbers_of_occurrences\" by \"numbers_of_occurrences\"\n",
    "if \"articles_count_of_numbers_of_occurrences.png\" not in os.listdir(\"mySaves/images/plots\") :\n",
    "    # focus on first 20 \"numbers_of_occurrences\"\n",
    "    count_of_numbers_of_occurrences = count_of_numbers_of_occurrences[:20]\n",
    "    # create figure\n",
    "    fig = plt.figure(figsize=(14, 8))\n",
    "    # plot\n",
    "    sns.barplot(data=count_of_numbers_of_occurrences, x=\"numbers_of_occurrences\", y=\"count_of_numbers_of_occurrences\")\n",
    "    # adjust ticks\n",
    "    plt.yticks(ticks=[0, 500, 1000, 2500, 5000, 15000, 25000])\n",
    "    # show y grid\n",
    "    plt.grid(visible=True, axis=\"y\")\n",
    "    # title\n",
    "    fig.suptitle(\"Number of occurrences of articles - Counting\", fontsize=14)\n",
    "    # save image\n",
    "    fig.savefig(fname=\"mySaves/images/plots/articles_count_of_numbers_of_occurrences.png\")\n",
    "\n",
    "    plt.show()\n",
    "\n",
    "else :\n",
    "    # load image\n",
    "    display(Image.open(\"mySaves/images/plots/articles_count_of_numbers_of_occurrences.png\"))"
   ]
  },
  {
   "cell_type": "markdown",
   "metadata": {},
   "source": [
    "La **très forte prédominance** des articles avec très peu de vues pourrait **perturber la distribution des notations**, et donc un modèle de Collaborative Filtering.\n",
    "\n",
    "De plus, et d'un manière plus générale, nous n'avons pas envie qu'un tel système propose à la lecture des articles n'ayant été lus que très peu de fois. Ce serait plus le rôle d'un modèle de type *Content Base*."
   ]
  },
  {
   "cell_type": "markdown",
   "metadata": {},
   "source": [
    "### 0.3.3. <a id='toc3_3_3_'></a>[Les données *articles_metadata*](#toc0_)"
   ]
  },
  {
   "cell_type": "code",
   "execution_count": 21,
   "metadata": {},
   "outputs": [
    {
     "data": {
      "text/html": [
       "<div>\n",
       "<style scoped>\n",
       "    .dataframe tbody tr th:only-of-type {\n",
       "        vertical-align: middle;\n",
       "    }\n",
       "\n",
       "    .dataframe tbody tr th {\n",
       "        vertical-align: top;\n",
       "    }\n",
       "\n",
       "    .dataframe thead th {\n",
       "        text-align: right;\n",
       "    }\n",
       "</style>\n",
       "<table border=\"1\" class=\"dataframe\">\n",
       "  <thead>\n",
       "    <tr style=\"text-align: right;\">\n",
       "      <th></th>\n",
       "      <th>article_id</th>\n",
       "      <th>category_id</th>\n",
       "      <th>created_at_ts</th>\n",
       "      <th>publisher_id</th>\n",
       "      <th>words_count</th>\n",
       "    </tr>\n",
       "  </thead>\n",
       "  <tbody>\n",
       "    <tr>\n",
       "      <th>0</th>\n",
       "      <td>0</td>\n",
       "      <td>0</td>\n",
       "      <td>1513144419000</td>\n",
       "      <td>0</td>\n",
       "      <td>168</td>\n",
       "    </tr>\n",
       "    <tr>\n",
       "      <th>1</th>\n",
       "      <td>1</td>\n",
       "      <td>1</td>\n",
       "      <td>1405341936000</td>\n",
       "      <td>0</td>\n",
       "      <td>189</td>\n",
       "    </tr>\n",
       "    <tr>\n",
       "      <th>2</th>\n",
       "      <td>2</td>\n",
       "      <td>1</td>\n",
       "      <td>1408667706000</td>\n",
       "      <td>0</td>\n",
       "      <td>250</td>\n",
       "    </tr>\n",
       "    <tr>\n",
       "      <th>3</th>\n",
       "      <td>3</td>\n",
       "      <td>1</td>\n",
       "      <td>1408468313000</td>\n",
       "      <td>0</td>\n",
       "      <td>230</td>\n",
       "    </tr>\n",
       "    <tr>\n",
       "      <th>4</th>\n",
       "      <td>4</td>\n",
       "      <td>1</td>\n",
       "      <td>1407071171000</td>\n",
       "      <td>0</td>\n",
       "      <td>162</td>\n",
       "    </tr>\n",
       "    <tr>\n",
       "      <th>...</th>\n",
       "      <td>...</td>\n",
       "      <td>...</td>\n",
       "      <td>...</td>\n",
       "      <td>...</td>\n",
       "      <td>...</td>\n",
       "    </tr>\n",
       "    <tr>\n",
       "      <th>364042</th>\n",
       "      <td>364042</td>\n",
       "      <td>460</td>\n",
       "      <td>1434034118000</td>\n",
       "      <td>0</td>\n",
       "      <td>144</td>\n",
       "    </tr>\n",
       "    <tr>\n",
       "      <th>364043</th>\n",
       "      <td>364043</td>\n",
       "      <td>460</td>\n",
       "      <td>1434148472000</td>\n",
       "      <td>0</td>\n",
       "      <td>463</td>\n",
       "    </tr>\n",
       "    <tr>\n",
       "      <th>364044</th>\n",
       "      <td>364044</td>\n",
       "      <td>460</td>\n",
       "      <td>1457974279000</td>\n",
       "      <td>0</td>\n",
       "      <td>177</td>\n",
       "    </tr>\n",
       "    <tr>\n",
       "      <th>364045</th>\n",
       "      <td>364045</td>\n",
       "      <td>460</td>\n",
       "      <td>1515964737000</td>\n",
       "      <td>0</td>\n",
       "      <td>126</td>\n",
       "    </tr>\n",
       "    <tr>\n",
       "      <th>364046</th>\n",
       "      <td>364046</td>\n",
       "      <td>460</td>\n",
       "      <td>1505811330000</td>\n",
       "      <td>0</td>\n",
       "      <td>479</td>\n",
       "    </tr>\n",
       "  </tbody>\n",
       "</table>\n",
       "<p>364047 rows × 5 columns</p>\n",
       "</div>"
      ],
      "text/plain": [
       "        article_id  category_id  created_at_ts  publisher_id  words_count\n",
       "0                0            0  1513144419000             0          168\n",
       "1                1            1  1405341936000             0          189\n",
       "2                2            1  1408667706000             0          250\n",
       "3                3            1  1408468313000             0          230\n",
       "4                4            1  1407071171000             0          162\n",
       "...            ...          ...            ...           ...          ...\n",
       "364042      364042          460  1434034118000             0          144\n",
       "364043      364043          460  1434148472000             0          463\n",
       "364044      364044          460  1457974279000             0          177\n",
       "364045      364045          460  1515964737000             0          126\n",
       "364046      364046          460  1505811330000             0          479\n",
       "\n",
       "[364047 rows x 5 columns]"
      ]
     },
     "execution_count": 21,
     "metadata": {},
     "output_type": "execute_result"
    }
   ],
   "source": [
    "# load articles_metadata in a dataframe\n",
    "meta_raw = pd.read_csv(meta_path)\n",
    "meta_raw"
   ]
  },
  {
   "cell_type": "markdown",
   "metadata": {},
   "source": [
    "Regardons chacune des features grâce à la fonction `myDescribe` :"
   ]
  },
  {
   "cell_type": "code",
   "execution_count": 22,
   "metadata": {},
   "outputs": [
    {
     "data": {
      "application/vnd.jupyter.widget-view+json": {
       "model_id": "f3260921633c4ab285fbd40d8b90d20e",
       "version_major": 2,
       "version_minor": 0
      },
      "text/plain": [
       "HBox(children=(RadioButtons(description='Which features :', index=2, options=('quantitative', 'qualitative', '…"
      ]
     },
     "metadata": {},
     "output_type": "display_data"
    },
    {
     "data": {
      "application/vnd.jupyter.widget-view+json": {
       "model_id": "2b9bd13cb3994aa78077f51c455e4f12",
       "version_major": 2,
       "version_minor": 0
      },
      "text/plain": [
       "Output()"
      ]
     },
     "metadata": {},
     "output_type": "display_data"
    }
   ],
   "source": [
    "# use custom function \"myDescribe\" on \"meta_df\"\n",
    "mf.myDescribe(meta_raw)"
   ]
  },
  {
   "cell_type": "markdown",
   "metadata": {},
   "source": [
    "Les features sont décrites ici : https://www.kaggle.com/datasets/gspmoreira/news-portal-user-interactions-by-globocom?select=clicks_sample.csv\n",
    "\n",
    "Ce que l'on peut en retenir :\n",
    "- `article_id` : l'identifiant de l'article, le même que `click_article_id`\n",
    "- `category_id` : un identifiant donnée à la catégorie de l'article. \n",
    "- `created_at_ts` : horodatage de la rédaction de l'article. De type *Unix time*, mais en **ms**\n",
    "- `publisher_id` : l'identifiant de l'éditeur. **Inutilisable** car ne comporte qu'une seule valeur.\n",
    "- `words_count` : nombre de mots dans l'article\n",
    "\n",
    "Mise à part `created_at_ts`, et `words_count`, les colonnes peuvent être considérées comme catégorielles."
   ]
  },
  {
   "cell_type": "code",
   "execution_count": 23,
   "metadata": {},
   "outputs": [
    {
     "data": {
      "text/plain": [
       "0"
      ]
     },
     "execution_count": 23,
     "metadata": {},
     "output_type": "execute_result"
    }
   ],
   "source": [
    "# delete meta_raw\n",
    "del meta_raw\n",
    "gc.collect()"
   ]
  },
  {
   "cell_type": "markdown",
   "metadata": {},
   "source": [
    "#### 0.3.3.1. <a id='toc3_3_3_1_'></a>[Charger `articles_metadata` avec les bons dtypes](#toc0_)"
   ]
  },
  {
   "cell_type": "code",
   "execution_count": 24,
   "metadata": {},
   "outputs": [
    {
     "data": {
      "application/vnd.jupyter.widget-view+json": {
       "model_id": "576421ddeeb3455d8aebf974d162a499",
       "version_major": 2,
       "version_minor": 0
      },
      "text/plain": [
       "HBox(children=(RadioButtons(description='Which features :', index=2, options=('quantitative', 'qualitative', '…"
      ]
     },
     "metadata": {},
     "output_type": "display_data"
    },
    {
     "data": {
      "application/vnd.jupyter.widget-view+json": {
       "model_id": "e2f87c83ed24414f8e3d7729ed86bf33",
       "version_major": 2,
       "version_minor": 0
      },
      "text/plain": [
       "Output()"
      ]
     },
     "metadata": {},
     "output_type": "display_data"
    }
   ],
   "source": [
    "# use custom function to load and prepare \"articles_metadata.csv\"\n",
    "meta_df = mf.read_meta(meta_path=meta_path)\n",
    "# use custom function \"myDescribe\"\n",
    "mf.myDescribe(meta_df)"
   ]
  },
  {
   "cell_type": "markdown",
   "metadata": {},
   "source": [
    "Ce que l'on peut en retenir :\n",
    "- `article_id` : \n",
    "    - il y a 364047 articles renseignés dans la base de données\n",
    "    - pour rappel seul **46033 articles ont été lus à date par les utilisateurs**\n",
    "- `words_count` : \n",
    "    - La majorité des articles comporte entre 150 et 250 mots\n",
    "    - Il y a de rares articles beaucoup plus longs\n",
    "- `created_at_ts` : \n",
    "    - les articles ont été créés entre 2005 et 2018\n",
    "    - pour rappel le dernier click a été effectué en novembre 2017\n",
    "    - vérifions la cohérence des dates sur les 46033 articles effectivement lus :\n"
   ]
  },
  {
   "cell_type": "markdown",
   "metadata": {},
   "source": [
    "#### 0.3.3.2. <a id='toc3_3_3_2_'></a>[Filtrer `articles_metadata` sur les article lus](#toc0_)"
   ]
  },
  {
   "cell_type": "markdown",
   "metadata": {},
   "source": [
    "Commençons par extraire la liste des `click_article_id` :"
   ]
  },
  {
   "cell_type": "code",
   "execution_count": 25,
   "metadata": {},
   "outputs": [],
   "source": [
    "# extract unique \"click_article_id\"\n",
    "unique_click_article_ids = clicks_df[\"click_article_id\"].cat.categories"
   ]
  },
  {
   "cell_type": "code",
   "execution_count": 26,
   "metadata": {},
   "outputs": [
    {
     "data": {
      "application/vnd.jupyter.widget-view+json": {
       "model_id": "2177bd4988cf4878a0edcc6e9e45fd5d",
       "version_major": 2,
       "version_minor": 0
      },
      "text/plain": [
       "HBox(children=(RadioButtons(description='Which features :', index=2, options=('quantitative', 'qualitative', '…"
      ]
     },
     "metadata": {},
     "output_type": "display_data"
    },
    {
     "data": {
      "application/vnd.jupyter.widget-view+json": {
       "model_id": "5ea33d6af3cb42a38e2da8c1a81af78d",
       "version_major": 2,
       "version_minor": 0
      },
      "text/plain": [
       "Output()"
      ]
     },
     "metadata": {},
     "output_type": "display_data"
    }
   ],
   "source": [
    "# filter meta_df\n",
    "meta_df = meta_df.loc[meta_df[\"article_id\"].isin(unique_click_article_ids)]\n",
    "\n",
    "# use myDescribe\n",
    "mf.myDescribe(meta_df)"
   ]
  },
  {
   "cell_type": "markdown",
   "metadata": {},
   "source": [
    "Les dates de création d'article sont bien cohérentes : il n'y pas d'article de 2018."
   ]
  },
  {
   "cell_type": "markdown",
   "metadata": {},
   "source": [
    "### 0.3.4. <a id='toc3_3_4_'></a>[Le fichier d'*articles_embeddings*](#toc0_)"
   ]
  },
  {
   "cell_type": "markdown",
   "metadata": {},
   "source": [
    "#### 0.3.4.1. <a id='toc3_3_4_1_'></a>[Charger le fichier](#toc0_)"
   ]
  },
  {
   "cell_type": "markdown",
   "metadata": {},
   "source": [
    "Chargeons maintenant `articles_embeddings.pickle` :"
   ]
  },
  {
   "cell_type": "code",
   "execution_count": 27,
   "metadata": {},
   "outputs": [
    {
     "data": {
      "text/html": [
       "<div>\n",
       "<style scoped>\n",
       "    .dataframe tbody tr th:only-of-type {\n",
       "        vertical-align: middle;\n",
       "    }\n",
       "\n",
       "    .dataframe tbody tr th {\n",
       "        vertical-align: top;\n",
       "    }\n",
       "\n",
       "    .dataframe thead th {\n",
       "        text-align: right;\n",
       "    }\n",
       "</style>\n",
       "<table border=\"1\" class=\"dataframe\">\n",
       "  <thead>\n",
       "    <tr style=\"text-align: right;\">\n",
       "      <th></th>\n",
       "      <th>0</th>\n",
       "      <th>1</th>\n",
       "      <th>2</th>\n",
       "      <th>3</th>\n",
       "      <th>4</th>\n",
       "      <th>5</th>\n",
       "      <th>6</th>\n",
       "      <th>7</th>\n",
       "      <th>8</th>\n",
       "      <th>9</th>\n",
       "      <th>...</th>\n",
       "      <th>240</th>\n",
       "      <th>241</th>\n",
       "      <th>242</th>\n",
       "      <th>243</th>\n",
       "      <th>244</th>\n",
       "      <th>245</th>\n",
       "      <th>246</th>\n",
       "      <th>247</th>\n",
       "      <th>248</th>\n",
       "      <th>249</th>\n",
       "    </tr>\n",
       "  </thead>\n",
       "  <tbody>\n",
       "    <tr>\n",
       "      <th>0</th>\n",
       "      <td>-0.161183</td>\n",
       "      <td>-0.957233</td>\n",
       "      <td>-0.137944</td>\n",
       "      <td>0.050855</td>\n",
       "      <td>0.830055</td>\n",
       "      <td>0.901365</td>\n",
       "      <td>-0.335148</td>\n",
       "      <td>-0.559561</td>\n",
       "      <td>-0.500603</td>\n",
       "      <td>0.165183</td>\n",
       "      <td>...</td>\n",
       "      <td>0.321248</td>\n",
       "      <td>0.313999</td>\n",
       "      <td>0.636412</td>\n",
       "      <td>0.169179</td>\n",
       "      <td>0.540524</td>\n",
       "      <td>-0.813182</td>\n",
       "      <td>0.286870</td>\n",
       "      <td>-0.231686</td>\n",
       "      <td>0.597416</td>\n",
       "      <td>0.409623</td>\n",
       "    </tr>\n",
       "    <tr>\n",
       "      <th>1</th>\n",
       "      <td>-0.523216</td>\n",
       "      <td>-0.974058</td>\n",
       "      <td>0.738608</td>\n",
       "      <td>0.155234</td>\n",
       "      <td>0.626294</td>\n",
       "      <td>0.485297</td>\n",
       "      <td>-0.715657</td>\n",
       "      <td>-0.897996</td>\n",
       "      <td>-0.359747</td>\n",
       "      <td>0.398246</td>\n",
       "      <td>...</td>\n",
       "      <td>-0.487843</td>\n",
       "      <td>0.823124</td>\n",
       "      <td>0.412688</td>\n",
       "      <td>-0.338654</td>\n",
       "      <td>0.320787</td>\n",
       "      <td>0.588643</td>\n",
       "      <td>-0.594137</td>\n",
       "      <td>0.182828</td>\n",
       "      <td>0.397090</td>\n",
       "      <td>-0.834364</td>\n",
       "    </tr>\n",
       "    <tr>\n",
       "      <th>2</th>\n",
       "      <td>-0.619619</td>\n",
       "      <td>-0.972960</td>\n",
       "      <td>-0.207360</td>\n",
       "      <td>-0.128861</td>\n",
       "      <td>0.044748</td>\n",
       "      <td>-0.387535</td>\n",
       "      <td>-0.730477</td>\n",
       "      <td>-0.066126</td>\n",
       "      <td>-0.754899</td>\n",
       "      <td>-0.242004</td>\n",
       "      <td>...</td>\n",
       "      <td>0.454756</td>\n",
       "      <td>0.473184</td>\n",
       "      <td>0.377866</td>\n",
       "      <td>-0.863887</td>\n",
       "      <td>-0.383365</td>\n",
       "      <td>0.137721</td>\n",
       "      <td>-0.810877</td>\n",
       "      <td>-0.447580</td>\n",
       "      <td>0.805932</td>\n",
       "      <td>-0.285284</td>\n",
       "    </tr>\n",
       "    <tr>\n",
       "      <th>3</th>\n",
       "      <td>-0.740843</td>\n",
       "      <td>-0.975749</td>\n",
       "      <td>0.391698</td>\n",
       "      <td>0.641738</td>\n",
       "      <td>-0.268645</td>\n",
       "      <td>0.191745</td>\n",
       "      <td>-0.825593</td>\n",
       "      <td>-0.710591</td>\n",
       "      <td>-0.040099</td>\n",
       "      <td>-0.110514</td>\n",
       "      <td>...</td>\n",
       "      <td>0.271535</td>\n",
       "      <td>0.036040</td>\n",
       "      <td>0.480029</td>\n",
       "      <td>-0.763173</td>\n",
       "      <td>0.022627</td>\n",
       "      <td>0.565165</td>\n",
       "      <td>-0.910286</td>\n",
       "      <td>-0.537838</td>\n",
       "      <td>0.243541</td>\n",
       "      <td>-0.885329</td>\n",
       "    </tr>\n",
       "    <tr>\n",
       "      <th>4</th>\n",
       "      <td>-0.279052</td>\n",
       "      <td>-0.972315</td>\n",
       "      <td>0.685374</td>\n",
       "      <td>0.113056</td>\n",
       "      <td>0.238315</td>\n",
       "      <td>0.271913</td>\n",
       "      <td>-0.568816</td>\n",
       "      <td>0.341194</td>\n",
       "      <td>-0.600554</td>\n",
       "      <td>-0.125644</td>\n",
       "      <td>...</td>\n",
       "      <td>0.238286</td>\n",
       "      <td>0.809268</td>\n",
       "      <td>0.427521</td>\n",
       "      <td>-0.615932</td>\n",
       "      <td>-0.503697</td>\n",
       "      <td>0.614450</td>\n",
       "      <td>-0.917760</td>\n",
       "      <td>-0.424061</td>\n",
       "      <td>0.185484</td>\n",
       "      <td>-0.580292</td>\n",
       "    </tr>\n",
       "    <tr>\n",
       "      <th>...</th>\n",
       "      <td>...</td>\n",
       "      <td>...</td>\n",
       "      <td>...</td>\n",
       "      <td>...</td>\n",
       "      <td>...</td>\n",
       "      <td>...</td>\n",
       "      <td>...</td>\n",
       "      <td>...</td>\n",
       "      <td>...</td>\n",
       "      <td>...</td>\n",
       "      <td>...</td>\n",
       "      <td>...</td>\n",
       "      <td>...</td>\n",
       "      <td>...</td>\n",
       "      <td>...</td>\n",
       "      <td>...</td>\n",
       "      <td>...</td>\n",
       "      <td>...</td>\n",
       "      <td>...</td>\n",
       "      <td>...</td>\n",
       "      <td>...</td>\n",
       "    </tr>\n",
       "    <tr>\n",
       "      <th>364042</th>\n",
       "      <td>-0.055038</td>\n",
       "      <td>-0.962136</td>\n",
       "      <td>0.869436</td>\n",
       "      <td>-0.071523</td>\n",
       "      <td>-0.725294</td>\n",
       "      <td>0.434320</td>\n",
       "      <td>0.198312</td>\n",
       "      <td>-0.581154</td>\n",
       "      <td>0.702346</td>\n",
       "      <td>-0.124813</td>\n",
       "      <td>...</td>\n",
       "      <td>-0.410549</td>\n",
       "      <td>0.564252</td>\n",
       "      <td>-0.463959</td>\n",
       "      <td>0.167907</td>\n",
       "      <td>-0.480068</td>\n",
       "      <td>0.652090</td>\n",
       "      <td>0.380880</td>\n",
       "      <td>0.433195</td>\n",
       "      <td>-0.662455</td>\n",
       "      <td>-0.222850</td>\n",
       "    </tr>\n",
       "    <tr>\n",
       "      <th>364043</th>\n",
       "      <td>-0.136932</td>\n",
       "      <td>-0.995471</td>\n",
       "      <td>0.991298</td>\n",
       "      <td>0.031871</td>\n",
       "      <td>-0.915622</td>\n",
       "      <td>-0.658517</td>\n",
       "      <td>0.633090</td>\n",
       "      <td>-0.564356</td>\n",
       "      <td>0.676551</td>\n",
       "      <td>-0.446068</td>\n",
       "      <td>...</td>\n",
       "      <td>-0.681986</td>\n",
       "      <td>-0.574185</td>\n",
       "      <td>-0.536908</td>\n",
       "      <td>0.688934</td>\n",
       "      <td>0.528204</td>\n",
       "      <td>0.162435</td>\n",
       "      <td>0.940364</td>\n",
       "      <td>0.989298</td>\n",
       "      <td>-0.761595</td>\n",
       "      <td>-0.414652</td>\n",
       "    </tr>\n",
       "    <tr>\n",
       "      <th>364044</th>\n",
       "      <td>-0.251390</td>\n",
       "      <td>-0.976243</td>\n",
       "      <td>0.586097</td>\n",
       "      <td>0.643631</td>\n",
       "      <td>-0.663359</td>\n",
       "      <td>-0.093480</td>\n",
       "      <td>0.691553</td>\n",
       "      <td>-0.588281</td>\n",
       "      <td>0.902999</td>\n",
       "      <td>0.124571</td>\n",
       "      <td>...</td>\n",
       "      <td>-0.162220</td>\n",
       "      <td>-0.242030</td>\n",
       "      <td>-0.476131</td>\n",
       "      <td>0.352132</td>\n",
       "      <td>-0.311279</td>\n",
       "      <td>0.460574</td>\n",
       "      <td>-0.653077</td>\n",
       "      <td>-0.143725</td>\n",
       "      <td>0.068093</td>\n",
       "      <td>-0.705010</td>\n",
       "    </tr>\n",
       "    <tr>\n",
       "      <th>364045</th>\n",
       "      <td>0.224342</td>\n",
       "      <td>-0.923288</td>\n",
       "      <td>-0.381742</td>\n",
       "      <td>0.687890</td>\n",
       "      <td>-0.773911</td>\n",
       "      <td>-0.103629</td>\n",
       "      <td>-0.406486</td>\n",
       "      <td>0.246004</td>\n",
       "      <td>0.255191</td>\n",
       "      <td>-0.329587</td>\n",
       "      <td>...</td>\n",
       "      <td>-0.422999</td>\n",
       "      <td>0.390324</td>\n",
       "      <td>0.655911</td>\n",
       "      <td>-0.646753</td>\n",
       "      <td>-0.174031</td>\n",
       "      <td>0.698037</td>\n",
       "      <td>-0.317102</td>\n",
       "      <td>0.687132</td>\n",
       "      <td>-0.531512</td>\n",
       "      <td>0.010726</td>\n",
       "    </tr>\n",
       "    <tr>\n",
       "      <th>364046</th>\n",
       "      <td>-0.257134</td>\n",
       "      <td>-0.994631</td>\n",
       "      <td>0.983792</td>\n",
       "      <td>-0.190975</td>\n",
       "      <td>-0.953720</td>\n",
       "      <td>-0.893823</td>\n",
       "      <td>0.708974</td>\n",
       "      <td>-0.557027</td>\n",
       "      <td>0.846842</td>\n",
       "      <td>-0.118519</td>\n",
       "      <td>...</td>\n",
       "      <td>-0.490481</td>\n",
       "      <td>-0.689666</td>\n",
       "      <td>-0.661846</td>\n",
       "      <td>0.490945</td>\n",
       "      <td>0.736525</td>\n",
       "      <td>0.667668</td>\n",
       "      <td>0.902130</td>\n",
       "      <td>0.983873</td>\n",
       "      <td>-0.838183</td>\n",
       "      <td>-0.179283</td>\n",
       "    </tr>\n",
       "  </tbody>\n",
       "</table>\n",
       "<p>364047 rows × 250 columns</p>\n",
       "</div>"
      ],
      "text/plain": [
       "             0         1         2         3         4         5         6    \\\n",
       "0      -0.161183 -0.957233 -0.137944  0.050855  0.830055  0.901365 -0.335148   \n",
       "1      -0.523216 -0.974058  0.738608  0.155234  0.626294  0.485297 -0.715657   \n",
       "2      -0.619619 -0.972960 -0.207360 -0.128861  0.044748 -0.387535 -0.730477   \n",
       "3      -0.740843 -0.975749  0.391698  0.641738 -0.268645  0.191745 -0.825593   \n",
       "4      -0.279052 -0.972315  0.685374  0.113056  0.238315  0.271913 -0.568816   \n",
       "...          ...       ...       ...       ...       ...       ...       ...   \n",
       "364042 -0.055038 -0.962136  0.869436 -0.071523 -0.725294  0.434320  0.198312   \n",
       "364043 -0.136932 -0.995471  0.991298  0.031871 -0.915622 -0.658517  0.633090   \n",
       "364044 -0.251390 -0.976243  0.586097  0.643631 -0.663359 -0.093480  0.691553   \n",
       "364045  0.224342 -0.923288 -0.381742  0.687890 -0.773911 -0.103629 -0.406486   \n",
       "364046 -0.257134 -0.994631  0.983792 -0.190975 -0.953720 -0.893823  0.708974   \n",
       "\n",
       "             7         8         9    ...       240       241       242  \\\n",
       "0      -0.559561 -0.500603  0.165183  ...  0.321248  0.313999  0.636412   \n",
       "1      -0.897996 -0.359747  0.398246  ... -0.487843  0.823124  0.412688   \n",
       "2      -0.066126 -0.754899 -0.242004  ...  0.454756  0.473184  0.377866   \n",
       "3      -0.710591 -0.040099 -0.110514  ...  0.271535  0.036040  0.480029   \n",
       "4       0.341194 -0.600554 -0.125644  ...  0.238286  0.809268  0.427521   \n",
       "...          ...       ...       ...  ...       ...       ...       ...   \n",
       "364042 -0.581154  0.702346 -0.124813  ... -0.410549  0.564252 -0.463959   \n",
       "364043 -0.564356  0.676551 -0.446068  ... -0.681986 -0.574185 -0.536908   \n",
       "364044 -0.588281  0.902999  0.124571  ... -0.162220 -0.242030 -0.476131   \n",
       "364045  0.246004  0.255191 -0.329587  ... -0.422999  0.390324  0.655911   \n",
       "364046 -0.557027  0.846842 -0.118519  ... -0.490481 -0.689666 -0.661846   \n",
       "\n",
       "             243       244       245       246       247       248       249  \n",
       "0       0.169179  0.540524 -0.813182  0.286870 -0.231686  0.597416  0.409623  \n",
       "1      -0.338654  0.320787  0.588643 -0.594137  0.182828  0.397090 -0.834364  \n",
       "2      -0.863887 -0.383365  0.137721 -0.810877 -0.447580  0.805932 -0.285284  \n",
       "3      -0.763173  0.022627  0.565165 -0.910286 -0.537838  0.243541 -0.885329  \n",
       "4      -0.615932 -0.503697  0.614450 -0.917760 -0.424061  0.185484 -0.580292  \n",
       "...          ...       ...       ...       ...       ...       ...       ...  \n",
       "364042  0.167907 -0.480068  0.652090  0.380880  0.433195 -0.662455 -0.222850  \n",
       "364043  0.688934  0.528204  0.162435  0.940364  0.989298 -0.761595 -0.414652  \n",
       "364044  0.352132 -0.311279  0.460574 -0.653077 -0.143725  0.068093 -0.705010  \n",
       "364045 -0.646753 -0.174031  0.698037 -0.317102  0.687132 -0.531512  0.010726  \n",
       "364046  0.490945  0.736525  0.667668  0.902130  0.983873 -0.838183 -0.179283  \n",
       "\n",
       "[364047 rows x 250 columns]"
      ]
     },
     "execution_count": 27,
     "metadata": {},
     "output_type": "execute_result"
    }
   ],
   "source": [
    "# load articles_embeddings.pickle as a dataframe\n",
    "embedding = pd.DataFrame(\n",
    "    pd.read_pickle(emb_path),\n",
    ")\n",
    "embedding"
   ]
  },
  {
   "cell_type": "markdown",
   "metadata": {},
   "source": [
    "On retrouve bien les 364047 articles référencés dans `articles_metadata`.\n",
    "\n",
    "Nous nous servirons des embeddings pour comparer les articles les uns aux autres grâce à la `cosine_similarity`, afin de créer un modèle de recommandation de type Content Base."
   ]
  },
  {
   "cell_type": "markdown",
   "metadata": {},
   "source": [
    "#### 0.3.4.2. <a id='toc3_3_4_2_'></a>[Limiter la taille de l'embedding - `PCA`](#toc0_)"
   ]
  },
  {
   "cell_type": "markdown",
   "metadata": {},
   "source": [
    "Afin de limiter l'impact en termes de mémoire, nous allons effectuer une ACP :"
   ]
  },
  {
   "cell_type": "code",
   "execution_count": 28,
   "metadata": {},
   "outputs": [
    {
     "data": {
      "text/plain": [
       "0"
      ]
     },
     "execution_count": 28,
     "metadata": {},
     "output_type": "execute_result"
    }
   ],
   "source": [
    "del embedding\n",
    "gc.collect()"
   ]
  },
  {
   "cell_type": "code",
   "execution_count": 29,
   "metadata": {},
   "outputs": [],
   "source": [
    "# create folder for saving\n",
    "if not os.path.isdir(\"mySaves/prod_files\"):\n",
    "    os.mkdir(\"mySaves/prod_files\")"
   ]
  },
  {
   "cell_type": "code",
   "execution_count": 30,
   "metadata": {},
   "outputs": [],
   "source": [
    "# perform PCA on articles embeddings\n",
    "if \"emb_reduced.joblib\" not in os.listdir(\"mySaves/prod_files\") :\n",
    "    # use custom function \"embedding_reduction\"\n",
    "    emb_reduced = mf.embedding_reduction(\n",
    "        emb_path=emb_path, \n",
    "        n_components=0.95, \n",
    "        articles_ids = None\n",
    "        )\n",
    "    # save\n",
    "    dump(emb_reduced, \"mySaves/prod_files/emb_reduced.joblib\")\n",
    "else :\n",
    "    # load saved embeddings reduction\n",
    "    emb_reduced = load(\"mySaves/prod_files/emb_reduced.joblib\")"
   ]
  },
  {
   "cell_type": "markdown",
   "metadata": {},
   "source": [
    "# 1. <a id='toc4_'></a>[MODÉLISER GRÂCE AU *COLLABORATIVE FILTERING*](#toc0_)"
   ]
  },
  {
   "cell_type": "markdown",
   "metadata": {},
   "source": [
    "## 1.1. <a id='toc4_1_'></a>[Construire un système de notation](#toc0_)"
   ]
  },
  {
   "cell_type": "markdown",
   "metadata": {},
   "source": [
    "Nous allons construire notre système de notation. Comme vu précédemment, celui-ci sera construit de la manière suivante :\n",
    "- au préalable, nous supprimerons les **articles lus moins de 10 fois**. Ensuite,\n",
    "- une première composante basée sur le fait que l'**utilisateur ait cliqué sur l'article** :\n",
    "    - sans décompter les **doublons** (nous faisons l'hypothèse qu'un article n'est **réellement** lu qu'une fois par utilisateur)\n",
    "    - normalisée par le **nombre d'articles différents lus par l'utilisateur**, pour avoir une note entre 0 et 1\n",
    "- une seconde basée sur **l'\"ancienneté\" du click** :\n",
    "    - qui mesure l'**éloignement du click depuis une date du référence**\n",
    "    - normalisée par la **durée maximale**, pour avoir une note entre 0 et 1\n",
    "    - la très grande majorité des intéractions ayant eu lieu avant le **18 octobre 2017**, nous prendrons cette date comme référence\n",
    "- enfin, en prenant en compte la **popularité de l'article** :\n",
    "    - nombre d'occurrences de l'article au global\n",
    "    - normalisé pour avoir une note entre 0 et 1\n",
    "    - nous considérons qu'un nombre d'occurences supérieur à 1000 suffit à obtenir la note maximale (bornage avec `clip`)\n",
    "\n",
    "Nous testerons différentes manières de les combiner :"
   ]
  },
  {
   "cell_type": "code",
   "execution_count": 31,
   "metadata": {},
   "outputs": [],
   "source": [
    "# use custom functions to create ratings\n",
    "if \"data_cf.joblib\" not in os.listdir(\"mySaves/dev_files\") :\n",
    "    # create copy\n",
    "    data_cf = clicks_df.copy()[[\"user_id\", \"click_article_id\", \"click_timestamp\"]]\n",
    "\n",
    "    # get rid of duplicates\n",
    "    # we keep \"last\", the oldest \n",
    "    data_cf.drop_duplicates(subset=[\"user_id\", \"click_article_id\"], inplace=True, keep=\"last\")\n",
    "\n",
    "    # delete articles that have been read less than 2 times\n",
    "    article_counter = data_cf[\"click_article_id\"].value_counts()\n",
    "    article_counter_filtered = article_counter.loc[article_counter >= 10]\n",
    "    mask = data_cf[\"click_article_id\"].isin(article_counter_filtered.index)\n",
    "    data_cf = data_cf.loc[mask]\n",
    "\n",
    "    # create ratings using custom functions\n",
    "    data_cf[\"seniority_rating\"] = mf.my_seniority_rating (\n",
    "        ts_series=data_cf[\"click_timestamp\"], \n",
    "        ref_date=datetime.datetime(year=2017, month=10, day=18),\n",
    "        min_seniority=0,\n",
    "        max_seniority=None\n",
    "        )\n",
    "\n",
    "    data_cf[\"interaction_rating\"] = mf.my_interaction_rating (\n",
    "        user_series=data_cf[\"user_id\"], \n",
    "        article_series=data_cf[\"click_article_id\"]\n",
    "        )\n",
    "    \n",
    "    data_cf[\"popularity_rating\"] = mf.my_popularity_rating(\n",
    "        article_series=data_cf[\"click_article_id\"],\n",
    "        min_count_for_best=1000\n",
    "    )\n",
    "\n",
    "    # test combinations\n",
    "    data_cf[\"main_rating_MEAN\"] = data_cf[[\"seniority_rating\", \"interaction_rating\", \"popularity_rating\"]].mean(axis=1)\n",
    "    data_cf[\"main_rating_GMEAN\"] = (data_cf[[\"seniority_rating\", \"interaction_rating\", \"popularity_rating\"]].prod(axis=1))**(1/3)\n",
    "    from scipy import stats\n",
    "    data_cf[\"main_rating_HMEAN\"] = data_cf[[\"seniority_rating\", \"interaction_rating\", \"popularity_rating\"]].apply(stats.hmean, axis=1)\n",
    "\n",
    "    # save\n",
    "    dump(data_cf, \"mySaves/dev_files/data_cf.joblib\")\n",
    "\n",
    "else :\n",
    "    #load\n",
    "    data_cf = load(\"mySaves/dev_files/data_cf.joblib\")"
   ]
  },
  {
   "cell_type": "code",
   "execution_count": 32,
   "metadata": {},
   "outputs": [
    {
     "data": {
      "text/html": [
       "<div>\n",
       "<style scoped>\n",
       "    .dataframe tbody tr th:only-of-type {\n",
       "        vertical-align: middle;\n",
       "    }\n",
       "\n",
       "    .dataframe tbody tr th {\n",
       "        vertical-align: top;\n",
       "    }\n",
       "\n",
       "    .dataframe thead th {\n",
       "        text-align: right;\n",
       "    }\n",
       "</style>\n",
       "<table border=\"1\" class=\"dataframe\">\n",
       "  <thead>\n",
       "    <tr style=\"text-align: right;\">\n",
       "      <th></th>\n",
       "      <th>user_id</th>\n",
       "      <th>click_article_id</th>\n",
       "      <th>click_timestamp</th>\n",
       "      <th>seniority_rating</th>\n",
       "      <th>interaction_rating</th>\n",
       "      <th>popularity_rating</th>\n",
       "      <th>main_rating_MEAN</th>\n",
       "      <th>main_rating_GMEAN</th>\n",
       "      <th>main_rating_HMEAN</th>\n",
       "    </tr>\n",
       "  </thead>\n",
       "  <tbody>\n",
       "    <tr>\n",
       "      <th>2957415</th>\n",
       "      <td>321209</td>\n",
       "      <td>95524</td>\n",
       "      <td>2017-10-22 17:08:20.862</td>\n",
       "      <td>1.0</td>\n",
       "      <td>0.500000</td>\n",
       "      <td>0.000059</td>\n",
       "      <td>0.500020</td>\n",
       "      <td>0.030827</td>\n",
       "      <td>0.000176</td>\n",
       "    </tr>\n",
       "    <tr>\n",
       "      <th>64352</th>\n",
       "      <td>22712</td>\n",
       "      <td>95524</td>\n",
       "      <td>2017-10-22 13:29:42.015</td>\n",
       "      <td>1.0</td>\n",
       "      <td>0.250000</td>\n",
       "      <td>0.000059</td>\n",
       "      <td>0.416686</td>\n",
       "      <td>0.024468</td>\n",
       "      <td>0.000176</td>\n",
       "    </tr>\n",
       "    <tr>\n",
       "      <th>2351058</th>\n",
       "      <td>108459</td>\n",
       "      <td>97039</td>\n",
       "      <td>2017-10-20 22:52:18.226</td>\n",
       "      <td>1.0</td>\n",
       "      <td>0.111111</td>\n",
       "      <td>0.000000</td>\n",
       "      <td>0.370370</td>\n",
       "      <td>0.000000</td>\n",
       "      <td>0.000000</td>\n",
       "    </tr>\n",
       "    <tr>\n",
       "      <th>2661808</th>\n",
       "      <td>268412</td>\n",
       "      <td>95524</td>\n",
       "      <td>2017-10-20 21:15:32.762</td>\n",
       "      <td>1.0</td>\n",
       "      <td>0.333333</td>\n",
       "      <td>0.000059</td>\n",
       "      <td>0.444464</td>\n",
       "      <td>0.026930</td>\n",
       "      <td>0.000176</td>\n",
       "    </tr>\n",
       "    <tr>\n",
       "      <th>2542492</th>\n",
       "      <td>38713</td>\n",
       "      <td>97039</td>\n",
       "      <td>2017-10-20 20:59:53.431</td>\n",
       "      <td>1.0</td>\n",
       "      <td>0.035714</td>\n",
       "      <td>0.000000</td>\n",
       "      <td>0.345238</td>\n",
       "      <td>0.000000</td>\n",
       "      <td>0.000000</td>\n",
       "    </tr>\n",
       "    <tr>\n",
       "      <th>...</th>\n",
       "      <td>...</td>\n",
       "      <td>...</td>\n",
       "      <td>...</td>\n",
       "      <td>...</td>\n",
       "      <td>...</td>\n",
       "      <td>...</td>\n",
       "      <td>...</td>\n",
       "      <td>...</td>\n",
       "      <td>...</td>\n",
       "    </tr>\n",
       "    <tr>\n",
       "      <th>187</th>\n",
       "      <td>70</td>\n",
       "      <td>119592</td>\n",
       "      <td>2017-10-01 03:00:18.863</td>\n",
       "      <td>0.0</td>\n",
       "      <td>0.250000</td>\n",
       "      <td>0.130628</td>\n",
       "      <td>0.126876</td>\n",
       "      <td>0.000000</td>\n",
       "      <td>0.000000</td>\n",
       "    </tr>\n",
       "    <tr>\n",
       "      <th>295</th>\n",
       "      <td>111</td>\n",
       "      <td>202436</td>\n",
       "      <td>2017-10-01 03:00:14.140</td>\n",
       "      <td>0.0</td>\n",
       "      <td>0.038462</td>\n",
       "      <td>0.004687</td>\n",
       "      <td>0.014383</td>\n",
       "      <td>0.000000</td>\n",
       "      <td>0.000000</td>\n",
       "    </tr>\n",
       "    <tr>\n",
       "      <th>399</th>\n",
       "      <td>154</td>\n",
       "      <td>96663</td>\n",
       "      <td>2017-10-01 03:00:04.207</td>\n",
       "      <td>0.0</td>\n",
       "      <td>0.022222</td>\n",
       "      <td>0.129662</td>\n",
       "      <td>0.050628</td>\n",
       "      <td>0.000000</td>\n",
       "      <td>0.000000</td>\n",
       "    </tr>\n",
       "    <tr>\n",
       "      <th>208</th>\n",
       "      <td>79</td>\n",
       "      <td>159359</td>\n",
       "      <td>2017-10-01 03:00:01.702</td>\n",
       "      <td>0.0</td>\n",
       "      <td>0.500000</td>\n",
       "      <td>0.005976</td>\n",
       "      <td>0.168659</td>\n",
       "      <td>0.000000</td>\n",
       "      <td>0.000000</td>\n",
       "    </tr>\n",
       "    <tr>\n",
       "      <th>147</th>\n",
       "      <td>59</td>\n",
       "      <td>234853</td>\n",
       "      <td>2017-10-01 03:00:00.026</td>\n",
       "      <td>0.0</td>\n",
       "      <td>0.026316</td>\n",
       "      <td>0.001582</td>\n",
       "      <td>0.009299</td>\n",
       "      <td>0.000000</td>\n",
       "      <td>0.000000</td>\n",
       "    </tr>\n",
       "  </tbody>\n",
       "</table>\n",
       "<p>2883488 rows × 9 columns</p>\n",
       "</div>"
      ],
      "text/plain": [
       "        user_id click_article_id         click_timestamp  seniority_rating  \\\n",
       "2957415  321209            95524 2017-10-22 17:08:20.862               1.0   \n",
       "64352     22712            95524 2017-10-22 13:29:42.015               1.0   \n",
       "2351058  108459            97039 2017-10-20 22:52:18.226               1.0   \n",
       "2661808  268412            95524 2017-10-20 21:15:32.762               1.0   \n",
       "2542492   38713            97039 2017-10-20 20:59:53.431               1.0   \n",
       "...         ...              ...                     ...               ...   \n",
       "187          70           119592 2017-10-01 03:00:18.863               0.0   \n",
       "295         111           202436 2017-10-01 03:00:14.140               0.0   \n",
       "399         154            96663 2017-10-01 03:00:04.207               0.0   \n",
       "208          79           159359 2017-10-01 03:00:01.702               0.0   \n",
       "147          59           234853 2017-10-01 03:00:00.026               0.0   \n",
       "\n",
       "         interaction_rating  popularity_rating  main_rating_MEAN  \\\n",
       "2957415            0.500000           0.000059          0.500020   \n",
       "64352              0.250000           0.000059          0.416686   \n",
       "2351058            0.111111           0.000000          0.370370   \n",
       "2661808            0.333333           0.000059          0.444464   \n",
       "2542492            0.035714           0.000000          0.345238   \n",
       "...                     ...                ...               ...   \n",
       "187                0.250000           0.130628          0.126876   \n",
       "295                0.038462           0.004687          0.014383   \n",
       "399                0.022222           0.129662          0.050628   \n",
       "208                0.500000           0.005976          0.168659   \n",
       "147                0.026316           0.001582          0.009299   \n",
       "\n",
       "         main_rating_GMEAN  main_rating_HMEAN  \n",
       "2957415           0.030827           0.000176  \n",
       "64352             0.024468           0.000176  \n",
       "2351058           0.000000           0.000000  \n",
       "2661808           0.026930           0.000176  \n",
       "2542492           0.000000           0.000000  \n",
       "...                    ...                ...  \n",
       "187               0.000000           0.000000  \n",
       "295               0.000000           0.000000  \n",
       "399               0.000000           0.000000  \n",
       "208               0.000000           0.000000  \n",
       "147               0.000000           0.000000  \n",
       "\n",
       "[2883488 rows x 9 columns]"
      ]
     },
     "execution_count": 32,
     "metadata": {},
     "output_type": "execute_result"
    }
   ],
   "source": [
    "data_cf"
   ]
  },
  {
   "cell_type": "markdown",
   "metadata": {},
   "source": [
    "Nous pouvons explorer ces notations :"
   ]
  },
  {
   "cell_type": "code",
   "execution_count": 33,
   "metadata": {},
   "outputs": [
    {
     "data": {
      "image/png": "[encoded data removed]",
      "text/plain": [
       "<PIL.PngImagePlugin.PngImageFile image mode=RGBA size=1400x800>"
      ]
     },
     "metadata": {},
     "output_type": "display_data"
    }
   ],
   "source": [
    "# explore \"seniority_rating\", \"interaction_rating\" and their combinations\n",
    "\n",
    "if \"cf_ratings_explore.png\" not in os.listdir(\"mySaves/images/plots\") :\n",
    "\n",
    "    ## plot \"seniority_rating\", \"interaction_rating\" and their combinations\n",
    "\n",
    "    # create figure\n",
    "    fig, axs = plt.subplots(2,3, figsize=(14,8))\n",
    "    axs = axs.flatten()\n",
    "\n",
    "    # plot\n",
    "    for i, col in enumerate([\"seniority_rating\", \"interaction_rating\", \"popularity_rating\", \"main_rating_MEAN\", \"main_rating_GMEAN\", \"main_rating_HMEAN\"]) :\n",
    "        sns.histplot(data_cf[col], ax=axs[i])\n",
    "\n",
    "    # title\n",
    "    fig.suptitle(\"Different ratings for Collaborative Filtering\\nEmpirical distributions\")\n",
    "\n",
    "    # save\n",
    "    fig.savefig(\"mySaves/images/plots/cf_ratings_explore.png\")\n",
    "\n",
    "    plt.show()\n",
    "\n",
    "else :\n",
    "    # load image\n",
    "    display(Image.open(\"mySaves/images/plots/cf_ratings_explore.png\"))"
   ]
  },
  {
   "cell_type": "markdown",
   "metadata": {},
   "source": [
    "Ce que l'on peut retenir de ces combinaisons :\n",
    "- la moyenne classique arithmétique permet de \"sauver\" les observations où au moins une des trois composantes est non nulle\n",
    "- les moyennes géométriques et harmonique permettent de pénaliser là où une composante est nulle\n",
    "- la moyenne géométrique reste plus élevée que la moyenne harmonique\n",
    "\n",
    "Nous retiendrons la moyenne géométrique."
   ]
  },
  {
   "cell_type": "code",
   "execution_count": 34,
   "metadata": {},
   "outputs": [
    {
     "data": {
      "text/plain": [
       "0"
      ]
     },
     "execution_count": 34,
     "metadata": {},
     "output_type": "execute_result"
    }
   ],
   "source": [
    "# del useless dfs\n",
    "del clicks_df, clicks_by_uid, meta_df, data_cf\n",
    "gc.collect()"
   ]
  },
  {
   "cell_type": "markdown",
   "metadata": {},
   "source": [
    "## 1.2. <a id='toc4_2_'></a>[Préparer le dataset pour `surprise`](#toc0_)"
   ]
  },
  {
   "cell_type": "markdown",
   "metadata": {},
   "source": [
    "Nous pouvons maintenant créer notre dataframe qui servira de base pour le collaborative filtering avec la librairie `surprise` :"
   ]
  },
  {
   "cell_type": "code",
   "execution_count": 35,
   "metadata": {},
   "outputs": [],
   "source": [
    "# use custom function to create a dataframe for surprise\n",
    "if \"X_cf.joblib\" not in os.listdir(\"mySaves/dev_files\") :\n",
    "    X_cf = mf.read_clicks_and_prepare_rating(\n",
    "        clicks_folder_path=clicks_folder_path, \n",
    "        ref_date_for_seniority=datetime.datetime(year=2017, month=10, day=18),\n",
    "        kept_user_ids = None,\n",
    "        min_seniority=0,\n",
    "        max_seniority=None,\n",
    "        minimum_count=10,\n",
    "        min_count_for_best=1000\n",
    "        )\n",
    "\n",
    "    # save\n",
    "    dump(X_cf, \"mySaves/dev_files/X_cf.joblib\")\n",
    "\n",
    "else :\n",
    "    # load\n",
    "    X_cf = load(\"mySaves/dev_files/X_cf.joblib\")"
   ]
  },
  {
   "cell_type": "code",
   "execution_count": 36,
   "metadata": {},
   "outputs": [
    {
     "data": {
      "text/html": [
       "<div>\n",
       "<style scoped>\n",
       "    .dataframe tbody tr th:only-of-type {\n",
       "        vertical-align: middle;\n",
       "    }\n",
       "\n",
       "    .dataframe tbody tr th {\n",
       "        vertical-align: top;\n",
       "    }\n",
       "\n",
       "    .dataframe thead th {\n",
       "        text-align: right;\n",
       "    }\n",
       "</style>\n",
       "<table border=\"1\" class=\"dataframe\">\n",
       "  <thead>\n",
       "    <tr style=\"text-align: right;\">\n",
       "      <th></th>\n",
       "      <th>user_id</th>\n",
       "      <th>article_id</th>\n",
       "      <th>rating</th>\n",
       "    </tr>\n",
       "  </thead>\n",
       "  <tbody>\n",
       "    <tr>\n",
       "      <th>0</th>\n",
       "      <td>321209</td>\n",
       "      <td>95524</td>\n",
       "      <td>0.030827</td>\n",
       "    </tr>\n",
       "    <tr>\n",
       "      <th>1</th>\n",
       "      <td>22712</td>\n",
       "      <td>95524</td>\n",
       "      <td>0.024468</td>\n",
       "    </tr>\n",
       "    <tr>\n",
       "      <th>2</th>\n",
       "      <td>108459</td>\n",
       "      <td>97039</td>\n",
       "      <td>0.000000</td>\n",
       "    </tr>\n",
       "    <tr>\n",
       "      <th>3</th>\n",
       "      <td>268412</td>\n",
       "      <td>95524</td>\n",
       "      <td>0.026930</td>\n",
       "    </tr>\n",
       "    <tr>\n",
       "      <th>4</th>\n",
       "      <td>38713</td>\n",
       "      <td>97039</td>\n",
       "      <td>0.000000</td>\n",
       "    </tr>\n",
       "    <tr>\n",
       "      <th>...</th>\n",
       "      <td>...</td>\n",
       "      <td>...</td>\n",
       "      <td>...</td>\n",
       "    </tr>\n",
       "    <tr>\n",
       "      <th>2883483</th>\n",
       "      <td>70</td>\n",
       "      <td>119592</td>\n",
       "      <td>0.000000</td>\n",
       "    </tr>\n",
       "    <tr>\n",
       "      <th>2883484</th>\n",
       "      <td>111</td>\n",
       "      <td>202436</td>\n",
       "      <td>0.000000</td>\n",
       "    </tr>\n",
       "    <tr>\n",
       "      <th>2883485</th>\n",
       "      <td>154</td>\n",
       "      <td>96663</td>\n",
       "      <td>0.000000</td>\n",
       "    </tr>\n",
       "    <tr>\n",
       "      <th>2883486</th>\n",
       "      <td>79</td>\n",
       "      <td>159359</td>\n",
       "      <td>0.000000</td>\n",
       "    </tr>\n",
       "    <tr>\n",
       "      <th>2883487</th>\n",
       "      <td>59</td>\n",
       "      <td>234853</td>\n",
       "      <td>0.000000</td>\n",
       "    </tr>\n",
       "  </tbody>\n",
       "</table>\n",
       "<p>2883488 rows × 3 columns</p>\n",
       "</div>"
      ],
      "text/plain": [
       "        user_id article_id    rating\n",
       "0        321209      95524  0.030827\n",
       "1         22712      95524  0.024468\n",
       "2        108459      97039  0.000000\n",
       "3        268412      95524  0.026930\n",
       "4         38713      97039  0.000000\n",
       "...         ...        ...       ...\n",
       "2883483      70     119592  0.000000\n",
       "2883484     111     202436  0.000000\n",
       "2883485     154      96663  0.000000\n",
       "2883486      79     159359  0.000000\n",
       "2883487      59     234853  0.000000\n",
       "\n",
       "[2883488 rows x 3 columns]"
      ]
     },
     "execution_count": 36,
     "metadata": {},
     "output_type": "execute_result"
    }
   ],
   "source": [
    "X_cf"
   ]
  },
  {
   "cell_type": "markdown",
   "metadata": {},
   "source": [
    "Nous allons créer un dataset `surprise` à partir de ce dataframe :"
   ]
  },
  {
   "cell_type": "code",
   "execution_count": 37,
   "metadata": {},
   "outputs": [],
   "source": [
    "# create a surprise dataset\n",
    "\n",
    "# create reader with rating scale from 0 to 1\n",
    "reader = Reader(rating_scale=(0,1))\n",
    "\n",
    "# create Dataset\n",
    "X_cf_surprise = Dataset.load_from_df(X_cf, reader=reader)"
   ]
  },
  {
   "cell_type": "markdown",
   "metadata": {},
   "source": [
    "Pour la sélection du modèle par validation croisée, nous fixons un `KFold` :"
   ]
  },
  {
   "cell_type": "code",
   "execution_count": 38,
   "metadata": {},
   "outputs": [],
   "source": [
    "# create a KFold cross-validation iterator\n",
    "cv = KFold(n_splits=5, random_state=16, shuffle=True)"
   ]
  },
  {
   "cell_type": "markdown",
   "metadata": {},
   "source": [
    "## 1.3. <a id='toc4_3_'></a>[Tester différents modèles](#toc0_)"
   ]
  },
  {
   "cell_type": "markdown",
   "metadata": {},
   "source": [
    "Nous allons tester différents modèles de Collaborative Filtering avec la librairie `surprise`. Initions un tableau pour stocker nos résultats :"
   ]
  },
  {
   "cell_type": "code",
   "execution_count": 39,
   "metadata": {},
   "outputs": [],
   "source": [
    "# create a tab to save RMSE results\n",
    "cf_results = pd.DataFrame(columns=[\"model_name\", \"parameters\", \"mean_RMSE_CV\", \"mean_training_time_CV\"])"
   ]
  },
  {
   "cell_type": "code",
   "execution_count": 40,
   "metadata": {},
   "outputs": [],
   "source": [
    "# create folder for saving\n",
    "if not os.path.isdir(\"mySaves/cf_results\"):\n",
    "    os.mkdir(\"mySaves/cf_results\")"
   ]
  },
  {
   "cell_type": "markdown",
   "metadata": {},
   "source": [
    "### 1.3.1. <a id='toc4_3_1_'></a>[Probabilistic Matrix Factorization](#toc0_)"
   ]
  },
  {
   "cell_type": "markdown",
   "metadata": {},
   "source": [
    "Testons d'abord le modèle `SVD` avec `biased = False`, équivalent au modèle `Probabilistic Matrix Factorization` :"
   ]
  },
  {
   "cell_type": "code",
   "execution_count": 41,
   "metadata": {},
   "outputs": [],
   "source": [
    "if \"PMF_results.joblib\" not in os.listdir(\"mySaves/cf_results\") :\n",
    "    # initiate model\n",
    "    model = SVD(biased=False)\n",
    "    # cross validation\n",
    "    results = cross_validate(algo=model, data=X_cf_surprise, measures=[\"rmse\"], cv=cv, n_jobs=12, verbose = True)\n",
    "    # save\n",
    "    dump(results, \"mySaves/cf_results/PMF_results.joblib\")\n",
    "else :\n",
    "    # load\n",
    "    results = load(\"mySaves/cf_results/PMF_results.joblib\")\n",
    "# add results to tab\n",
    "cf_results.loc[len(cf_results)] = [\n",
    "    \"PMF\",\n",
    "    dict(n_factors=100, n_epochs=20, biased=False, lr_all=0.005, reg_all=0.02),\n",
    "    results[\"test_rmse\"].mean(),\n",
    "    np.array(results[\"fit_time\"]).mean()\n",
    "]"
   ]
  },
  {
   "cell_type": "code",
   "execution_count": 42,
   "metadata": {},
   "outputs": [
    {
     "data": {
      "text/html": [
       "<div>\n",
       "<style scoped>\n",
       "    .dataframe tbody tr th:only-of-type {\n",
       "        vertical-align: middle;\n",
       "    }\n",
       "\n",
       "    .dataframe tbody tr th {\n",
       "        vertical-align: top;\n",
       "    }\n",
       "\n",
       "    .dataframe thead th {\n",
       "        text-align: right;\n",
       "    }\n",
       "</style>\n",
       "<table border=\"1\" class=\"dataframe\">\n",
       "  <thead>\n",
       "    <tr style=\"text-align: right;\">\n",
       "      <th></th>\n",
       "      <th>model_name</th>\n",
       "      <th>parameters</th>\n",
       "      <th>mean_RMSE_CV</th>\n",
       "      <th>mean_training_time_CV</th>\n",
       "    </tr>\n",
       "  </thead>\n",
       "  <tbody>\n",
       "    <tr>\n",
       "      <th>0</th>\n",
       "      <td>PMF</td>\n",
       "      <td>{'n_factors': 100, 'n_epochs': 20, 'biased': F...</td>\n",
       "      <td>0.166966</td>\n",
       "      <td>20.834293</td>\n",
       "    </tr>\n",
       "  </tbody>\n",
       "</table>\n",
       "</div>"
      ],
      "text/plain": [
       "  model_name                                         parameters  mean_RMSE_CV  \\\n",
       "0        PMF  {'n_factors': 100, 'n_epochs': 20, 'biased': F...      0.166966   \n",
       "\n",
       "   mean_training_time_CV  \n",
       "0              20.834293  "
      ]
     },
     "execution_count": 42,
     "metadata": {},
     "output_type": "execute_result"
    }
   ],
   "source": [
    "cf_results"
   ]
  },
  {
   "cell_type": "markdown",
   "metadata": {},
   "source": [
    "### 1.3.2. <a id='toc4_3_2_'></a>[Singular Value Decomposition](#toc0_)"
   ]
  },
  {
   "cell_type": "markdown",
   "metadata": {},
   "source": [
    "Testons maintenant le modèle `SVD` avec `biased = True` :"
   ]
  },
  {
   "cell_type": "code",
   "execution_count": 43,
   "metadata": {},
   "outputs": [],
   "source": [
    "if \"SVD_raw_results.joblib\" not in os.listdir(\"mySaves/cf_results\") :\n",
    "    # initiate model\n",
    "    model = SVD(biased=True)\n",
    "    # cross validation\n",
    "    results = cross_validate(algo=model, data=X_cf_surprise, measures=[\"rmse\"], cv=cv, n_jobs=12, verbose = True)\n",
    "    # save\n",
    "    dump(results, \"mySaves/cf_results/SVD_raw_results.joblib\")\n",
    "else :\n",
    "    # load\n",
    "    results = load(\"mySaves/cf_results/SVD_raw_results.joblib\")\n",
    "# add results to tab\n",
    "cf_results.loc[len(cf_results)] = [\n",
    "    \"SVD_raw\",\n",
    "    dict(n_factors=100, n_epochs=20, biased=True, lr_all=0.005, reg_all=0.02),\n",
    "    results[\"test_rmse\"].mean(),\n",
    "    np.array(results[\"fit_time\"]).mean()\n",
    "]"
   ]
  },
  {
   "cell_type": "code",
   "execution_count": 44,
   "metadata": {},
   "outputs": [
    {
     "data": {
      "text/html": [
       "<div>\n",
       "<style scoped>\n",
       "    .dataframe tbody tr th:only-of-type {\n",
       "        vertical-align: middle;\n",
       "    }\n",
       "\n",
       "    .dataframe tbody tr th {\n",
       "        vertical-align: top;\n",
       "    }\n",
       "\n",
       "    .dataframe thead th {\n",
       "        text-align: right;\n",
       "    }\n",
       "</style>\n",
       "<table border=\"1\" class=\"dataframe\">\n",
       "  <thead>\n",
       "    <tr style=\"text-align: right;\">\n",
       "      <th></th>\n",
       "      <th>model_name</th>\n",
       "      <th>parameters</th>\n",
       "      <th>mean_RMSE_CV</th>\n",
       "      <th>mean_training_time_CV</th>\n",
       "    </tr>\n",
       "  </thead>\n",
       "  <tbody>\n",
       "    <tr>\n",
       "      <th>0</th>\n",
       "      <td>PMF</td>\n",
       "      <td>{'n_factors': 100, 'n_epochs': 20, 'biased': F...</td>\n",
       "      <td>0.166966</td>\n",
       "      <td>20.834293</td>\n",
       "    </tr>\n",
       "    <tr>\n",
       "      <th>1</th>\n",
       "      <td>SVD_raw</td>\n",
       "      <td>{'n_factors': 100, 'n_epochs': 20, 'biased': T...</td>\n",
       "      <td>0.091023</td>\n",
       "      <td>20.371960</td>\n",
       "    </tr>\n",
       "  </tbody>\n",
       "</table>\n",
       "</div>"
      ],
      "text/plain": [
       "  model_name                                         parameters  mean_RMSE_CV  \\\n",
       "0        PMF  {'n_factors': 100, 'n_epochs': 20, 'biased': F...      0.166966   \n",
       "1    SVD_raw  {'n_factors': 100, 'n_epochs': 20, 'biased': T...      0.091023   \n",
       "\n",
       "   mean_training_time_CV  \n",
       "0              20.834293  \n",
       "1              20.371960  "
      ]
     },
     "execution_count": 44,
     "metadata": {},
     "output_type": "execute_result"
    }
   ],
   "source": [
    "cf_results"
   ]
  },
  {
   "cell_type": "markdown",
   "metadata": {},
   "source": [
    "### 1.3.3. <a id='toc4_3_3_'></a>[Singular Value Decomposition ++](#toc0_)"
   ]
  },
  {
   "cell_type": "markdown",
   "metadata": {},
   "source": [
    "Testons maintenant le modèle `SVDpp` :"
   ]
  },
  {
   "cell_type": "code",
   "execution_count": 45,
   "metadata": {},
   "outputs": [],
   "source": [
    "if \"SVDpp_raw_results.joblib\" not in os.listdir(\"mySaves/cf_results\") :\n",
    "    # initiate model\n",
    "    model = SVDpp()\n",
    "    # cross validation\n",
    "    results = cross_validate(algo=model, data=X_cf_surprise, measures=[\"rmse\"], cv=cv, n_jobs=12, verbose = True)\n",
    "    # save\n",
    "    dump(results, \"mySaves/cf_results/SVDpp_raw_results.joblib\")\n",
    "    del model\n",
    "    gc.collect()\n",
    "else :\n",
    "    # load\n",
    "    results = load(\"mySaves/cf_results/SVDpp_raw_results.joblib\")\n",
    "# add results to tab\n",
    "cf_results.loc[len(cf_results)] = [\n",
    "    \"SVDpp_raw\",\n",
    "    dict(n_factors=20, n_epochs=20, lr_all=0.007, reg_all=0.02),\n",
    "    results[\"test_rmse\"].mean(),\n",
    "    np.array(results[\"fit_time\"]).mean()\n",
    "]"
   ]
  },
  {
   "cell_type": "code",
   "execution_count": 46,
   "metadata": {},
   "outputs": [
    {
     "data": {
      "text/html": [
       "<div>\n",
       "<style scoped>\n",
       "    .dataframe tbody tr th:only-of-type {\n",
       "        vertical-align: middle;\n",
       "    }\n",
       "\n",
       "    .dataframe tbody tr th {\n",
       "        vertical-align: top;\n",
       "    }\n",
       "\n",
       "    .dataframe thead th {\n",
       "        text-align: right;\n",
       "    }\n",
       "</style>\n",
       "<table border=\"1\" class=\"dataframe\">\n",
       "  <thead>\n",
       "    <tr style=\"text-align: right;\">\n",
       "      <th></th>\n",
       "      <th>model_name</th>\n",
       "      <th>parameters</th>\n",
       "      <th>mean_RMSE_CV</th>\n",
       "      <th>mean_training_time_CV</th>\n",
       "    </tr>\n",
       "  </thead>\n",
       "  <tbody>\n",
       "    <tr>\n",
       "      <th>0</th>\n",
       "      <td>PMF</td>\n",
       "      <td>{'n_factors': 100, 'n_epochs': 20, 'biased': F...</td>\n",
       "      <td>0.166966</td>\n",
       "      <td>20.834293</td>\n",
       "    </tr>\n",
       "    <tr>\n",
       "      <th>1</th>\n",
       "      <td>SVD_raw</td>\n",
       "      <td>{'n_factors': 100, 'n_epochs': 20, 'biased': T...</td>\n",
       "      <td>0.091023</td>\n",
       "      <td>20.371960</td>\n",
       "    </tr>\n",
       "    <tr>\n",
       "      <th>2</th>\n",
       "      <td>SVDpp_raw</td>\n",
       "      <td>{'n_factors': 20, 'n_epochs': 20, 'lr_all': 0....</td>\n",
       "      <td>0.089499</td>\n",
       "      <td>112.141973</td>\n",
       "    </tr>\n",
       "  </tbody>\n",
       "</table>\n",
       "</div>"
      ],
      "text/plain": [
       "  model_name                                         parameters  mean_RMSE_CV  \\\n",
       "0        PMF  {'n_factors': 100, 'n_epochs': 20, 'biased': F...      0.166966   \n",
       "1    SVD_raw  {'n_factors': 100, 'n_epochs': 20, 'biased': T...      0.091023   \n",
       "2  SVDpp_raw  {'n_factors': 20, 'n_epochs': 20, 'lr_all': 0....      0.089499   \n",
       "\n",
       "   mean_training_time_CV  \n",
       "0              20.834293  \n",
       "1              20.371960  \n",
       "2             112.141973  "
      ]
     },
     "execution_count": 46,
     "metadata": {},
     "output_type": "execute_result"
    }
   ],
   "source": [
    "cf_results"
   ]
  },
  {
   "cell_type": "markdown",
   "metadata": {},
   "source": [
    "Le résultat est meilleur."
   ]
  },
  {
   "cell_type": "markdown",
   "metadata": {},
   "source": [
    "### 1.3.4. <a id='toc4_3_4_'></a>[Singular Value Decomposition ++ - GridSearch](#toc0_)"
   ]
  },
  {
   "cell_type": "markdown",
   "metadata": {},
   "source": [
    "Essayons d'optimiser le modèle avec une recherche sur grille :"
   ]
  },
  {
   "cell_type": "code",
   "execution_count": 47,
   "metadata": {},
   "outputs": [],
   "source": [
    "param_grid = {\n",
    "    'n_factors': [100, 120],\n",
    "    'n_epochs': [20, 30],\n",
    "    'lr_all': [0.001, 0.003]\n",
    "    }"
   ]
  },
  {
   "cell_type": "code",
   "execution_count": 48,
   "metadata": {},
   "outputs": [
    {
     "data": {
      "text/html": [
       "<div>\n",
       "<style scoped>\n",
       "    .dataframe tbody tr th:only-of-type {\n",
       "        vertical-align: middle;\n",
       "    }\n",
       "\n",
       "    .dataframe tbody tr th {\n",
       "        vertical-align: top;\n",
       "    }\n",
       "\n",
       "    .dataframe thead th {\n",
       "        text-align: right;\n",
       "    }\n",
       "</style>\n",
       "<table border=\"1\" class=\"dataframe\">\n",
       "  <thead>\n",
       "    <tr style=\"text-align: right;\">\n",
       "      <th></th>\n",
       "      <th>split0_test_rmse</th>\n",
       "      <th>split1_test_rmse</th>\n",
       "      <th>split2_test_rmse</th>\n",
       "      <th>split3_test_rmse</th>\n",
       "      <th>split4_test_rmse</th>\n",
       "      <th>mean_test_rmse</th>\n",
       "      <th>std_test_rmse</th>\n",
       "      <th>rank_test_rmse</th>\n",
       "      <th>mean_fit_time</th>\n",
       "      <th>std_fit_time</th>\n",
       "      <th>mean_test_time</th>\n",
       "      <th>std_test_time</th>\n",
       "      <th>params</th>\n",
       "      <th>param_n_factors</th>\n",
       "      <th>param_n_epochs</th>\n",
       "      <th>param_lr_all</th>\n",
       "    </tr>\n",
       "  </thead>\n",
       "  <tbody>\n",
       "    <tr>\n",
       "      <th>2</th>\n",
       "      <td>0.080782</td>\n",
       "      <td>0.080898</td>\n",
       "      <td>0.080973</td>\n",
       "      <td>0.081050</td>\n",
       "      <td>0.080955</td>\n",
       "      <td>0.080932</td>\n",
       "      <td>0.000089</td>\n",
       "      <td>1</td>\n",
       "      <td>1202.435779</td>\n",
       "      <td>17.436806</td>\n",
       "      <td>55.266531</td>\n",
       "      <td>8.206510</td>\n",
       "      <td>{'n_factors': 100, 'n_epochs': 30, 'lr_all': 0...</td>\n",
       "      <td>100</td>\n",
       "      <td>30</td>\n",
       "      <td>0.001</td>\n",
       "    </tr>\n",
       "    <tr>\n",
       "      <th>6</th>\n",
       "      <td>0.082519</td>\n",
       "      <td>0.082577</td>\n",
       "      <td>0.082615</td>\n",
       "      <td>0.082737</td>\n",
       "      <td>0.082552</td>\n",
       "      <td>0.082600</td>\n",
       "      <td>0.000075</td>\n",
       "      <td>2</td>\n",
       "      <td>1478.495026</td>\n",
       "      <td>17.185579</td>\n",
       "      <td>43.368909</td>\n",
       "      <td>6.530638</td>\n",
       "      <td>{'n_factors': 120, 'n_epochs': 30, 'lr_all': 0...</td>\n",
       "      <td>120</td>\n",
       "      <td>30</td>\n",
       "      <td>0.001</td>\n",
       "    </tr>\n",
       "    <tr>\n",
       "      <th>3</th>\n",
       "      <td>0.084313</td>\n",
       "      <td>0.084524</td>\n",
       "      <td>0.084459</td>\n",
       "      <td>0.084727</td>\n",
       "      <td>0.084490</td>\n",
       "      <td>0.084503</td>\n",
       "      <td>0.000133</td>\n",
       "      <td>3</td>\n",
       "      <td>1222.368533</td>\n",
       "      <td>2.714303</td>\n",
       "      <td>61.718657</td>\n",
       "      <td>1.998164</td>\n",
       "      <td>{'n_factors': 100, 'n_epochs': 30, 'lr_all': 0...</td>\n",
       "      <td>100</td>\n",
       "      <td>30</td>\n",
       "      <td>0.003</td>\n",
       "    </tr>\n",
       "    <tr>\n",
       "      <th>7</th>\n",
       "      <td>0.085255</td>\n",
       "      <td>0.085390</td>\n",
       "      <td>0.085330</td>\n",
       "      <td>0.085475</td>\n",
       "      <td>0.085363</td>\n",
       "      <td>0.085362</td>\n",
       "      <td>0.000072</td>\n",
       "      <td>4</td>\n",
       "      <td>1116.262824</td>\n",
       "      <td>174.191342</td>\n",
       "      <td>20.222834</td>\n",
       "      <td>5.111737</td>\n",
       "      <td>{'n_factors': 120, 'n_epochs': 30, 'lr_all': 0...</td>\n",
       "      <td>120</td>\n",
       "      <td>30</td>\n",
       "      <td>0.003</td>\n",
       "    </tr>\n",
       "    <tr>\n",
       "      <th>0</th>\n",
       "      <td>0.086372</td>\n",
       "      <td>0.086552</td>\n",
       "      <td>0.086524</td>\n",
       "      <td>0.086569</td>\n",
       "      <td>0.086387</td>\n",
       "      <td>0.086481</td>\n",
       "      <td>0.000084</td>\n",
       "      <td>5</td>\n",
       "      <td>792.417765</td>\n",
       "      <td>3.212068</td>\n",
       "      <td>47.887406</td>\n",
       "      <td>0.834547</td>\n",
       "      <td>{'n_factors': 100, 'n_epochs': 20, 'lr_all': 0...</td>\n",
       "      <td>100</td>\n",
       "      <td>20</td>\n",
       "      <td>0.001</td>\n",
       "    </tr>\n",
       "  </tbody>\n",
       "</table>\n",
       "</div>"
      ],
      "text/plain": [
       "   split0_test_rmse  split1_test_rmse  split2_test_rmse  split3_test_rmse  \\\n",
       "2          0.080782          0.080898          0.080973          0.081050   \n",
       "6          0.082519          0.082577          0.082615          0.082737   \n",
       "3          0.084313          0.084524          0.084459          0.084727   \n",
       "7          0.085255          0.085390          0.085330          0.085475   \n",
       "0          0.086372          0.086552          0.086524          0.086569   \n",
       "\n",
       "   split4_test_rmse  mean_test_rmse  std_test_rmse  rank_test_rmse  \\\n",
       "2          0.080955        0.080932       0.000089               1   \n",
       "6          0.082552        0.082600       0.000075               2   \n",
       "3          0.084490        0.084503       0.000133               3   \n",
       "7          0.085363        0.085362       0.000072               4   \n",
       "0          0.086387        0.086481       0.000084               5   \n",
       "\n",
       "   mean_fit_time  std_fit_time  mean_test_time  std_test_time  \\\n",
       "2    1202.435779     17.436806       55.266531       8.206510   \n",
       "6    1478.495026     17.185579       43.368909       6.530638   \n",
       "3    1222.368533      2.714303       61.718657       1.998164   \n",
       "7    1116.262824    174.191342       20.222834       5.111737   \n",
       "0     792.417765      3.212068       47.887406       0.834547   \n",
       "\n",
       "                                              params  param_n_factors  \\\n",
       "2  {'n_factors': 100, 'n_epochs': 30, 'lr_all': 0...              100   \n",
       "6  {'n_factors': 120, 'n_epochs': 30, 'lr_all': 0...              120   \n",
       "3  {'n_factors': 100, 'n_epochs': 30, 'lr_all': 0...              100   \n",
       "7  {'n_factors': 120, 'n_epochs': 30, 'lr_all': 0...              120   \n",
       "0  {'n_factors': 100, 'n_epochs': 20, 'lr_all': 0...              100   \n",
       "\n",
       "   param_n_epochs  param_lr_all  \n",
       "2              30         0.001  \n",
       "6              30         0.001  \n",
       "3              30         0.003  \n",
       "7              30         0.003  \n",
       "0              20         0.001  "
      ]
     },
     "execution_count": 48,
     "metadata": {},
     "output_type": "execute_result"
    }
   ],
   "source": [
    "if \"SVDpp_gs_results.joblib\" not in os.listdir(\"mySaves/cf_results\") :\n",
    "    # initiate grid search\n",
    "    gs = GridSearchCV(\n",
    "        algo_class=SVDpp,\n",
    "        param_grid=param_grid,\n",
    "        measures=[\"rmse\"],\n",
    "        cv=cv,\n",
    "        refit=False,\n",
    "        n_jobs=-5,\n",
    "        joblib_verbose=10,\n",
    "        pre_dispatch='1*n_jobs'\n",
    "    )\n",
    "    # fit\n",
    "    gs.fit(X_cf_surprise)\n",
    "    # results\n",
    "    gs_results = pd.DataFrame(gs.cv_results)\n",
    "    gs_params = gs.best_params[\"rmse\"]\n",
    "    # save\n",
    "    dump(gs_results, \"mySaves/cf_results/SVDpp_gs_results.joblib\")\n",
    "    dump(gs_params, \"mySaves/cf_results/SVDpp_gs_params.joblib\")\n",
    "\n",
    "    del gs\n",
    "    gc.collect()\n",
    "else :\n",
    "    # load\n",
    "    gs_results = load(\"mySaves/cf_results/SVDpp_gs_results.joblib\")\n",
    "    gs_params = load(\"mySaves/cf_results/SVDpp_gs_params.joblib\")\n",
    "\n",
    "# top 5 results\n",
    "gs_results.sort_values(by=\"mean_test_rmse\").head()"
   ]
  },
  {
   "cell_type": "code",
   "execution_count": 49,
   "metadata": {},
   "outputs": [],
   "source": [
    "if \"SVDpp_opti_results.joblib\" not in os.listdir(\"mySaves/cf_results\") :\n",
    "    # initiate model\n",
    "    model = SVDpp(**gs_params)\n",
    "    # cross validation\n",
    "    results = cross_validate(algo=model, data=X_cf_surprise, measures=[\"rmse\"], cv=cv, n_jobs=12, verbose = True)\n",
    "    # save\n",
    "    dump(results, \"mySaves/cf_results/SVDpp_opti_results.joblib\")\n",
    "else :\n",
    "    # load\n",
    "    results = load(\"mySaves/cf_results/SVDpp_opti_results.joblib\")\n",
    "# add results to tab\n",
    "cf_results.loc[len(cf_results)] = [\n",
    "    \"SVDpp_opti\",\n",
    "    gs_params,\n",
    "    results[\"test_rmse\"].mean(),\n",
    "    np.array(results[\"fit_time\"]).mean()\n",
    "]"
   ]
  },
  {
   "cell_type": "code",
   "execution_count": 50,
   "metadata": {},
   "outputs": [
    {
     "data": {
      "text/html": [
       "<div>\n",
       "<style scoped>\n",
       "    .dataframe tbody tr th:only-of-type {\n",
       "        vertical-align: middle;\n",
       "    }\n",
       "\n",
       "    .dataframe tbody tr th {\n",
       "        vertical-align: top;\n",
       "    }\n",
       "\n",
       "    .dataframe thead th {\n",
       "        text-align: right;\n",
       "    }\n",
       "</style>\n",
       "<table border=\"1\" class=\"dataframe\">\n",
       "  <thead>\n",
       "    <tr style=\"text-align: right;\">\n",
       "      <th></th>\n",
       "      <th>model_name</th>\n",
       "      <th>parameters</th>\n",
       "      <th>mean_RMSE_CV</th>\n",
       "      <th>mean_training_time_CV</th>\n",
       "    </tr>\n",
       "  </thead>\n",
       "  <tbody>\n",
       "    <tr>\n",
       "      <th>0</th>\n",
       "      <td>PMF</td>\n",
       "      <td>{'n_factors': 100, 'n_epochs': 20, 'biased': F...</td>\n",
       "      <td>0.166966</td>\n",
       "      <td>20.834293</td>\n",
       "    </tr>\n",
       "    <tr>\n",
       "      <th>1</th>\n",
       "      <td>SVD_raw</td>\n",
       "      <td>{'n_factors': 100, 'n_epochs': 20, 'biased': T...</td>\n",
       "      <td>0.091023</td>\n",
       "      <td>20.371960</td>\n",
       "    </tr>\n",
       "    <tr>\n",
       "      <th>2</th>\n",
       "      <td>SVDpp_raw</td>\n",
       "      <td>{'n_factors': 20, 'n_epochs': 20, 'lr_all': 0....</td>\n",
       "      <td>0.089499</td>\n",
       "      <td>112.141973</td>\n",
       "    </tr>\n",
       "    <tr>\n",
       "      <th>3</th>\n",
       "      <td>SVDpp_opti</td>\n",
       "      <td>{'n_factors': 100, 'n_epochs': 30, 'lr_all': 0...</td>\n",
       "      <td>0.080907</td>\n",
       "      <td>774.338434</td>\n",
       "    </tr>\n",
       "  </tbody>\n",
       "</table>\n",
       "</div>"
      ],
      "text/plain": [
       "   model_name                                         parameters  \\\n",
       "0         PMF  {'n_factors': 100, 'n_epochs': 20, 'biased': F...   \n",
       "1     SVD_raw  {'n_factors': 100, 'n_epochs': 20, 'biased': T...   \n",
       "2   SVDpp_raw  {'n_factors': 20, 'n_epochs': 20, 'lr_all': 0....   \n",
       "3  SVDpp_opti  {'n_factors': 100, 'n_epochs': 30, 'lr_all': 0...   \n",
       "\n",
       "   mean_RMSE_CV  mean_training_time_CV  \n",
       "0      0.166966              20.834293  \n",
       "1      0.091023              20.371960  \n",
       "2      0.089499             112.141973  \n",
       "3      0.080907             774.338434  "
      ]
     },
     "execution_count": 50,
     "metadata": {},
     "output_type": "execute_result"
    }
   ],
   "source": [
    "cf_results"
   ]
  },
  {
   "cell_type": "markdown",
   "metadata": {},
   "source": [
    "### 1.3.5. <a id='toc4_3_5_'></a>[Validation croisée - Bilan](#toc0_)"
   ]
  },
  {
   "cell_type": "markdown",
   "metadata": {},
   "source": [
    "Nous pouvons maintenant faire le bilan de notre recherche :"
   ]
  },
  {
   "cell_type": "code",
   "execution_count": 51,
   "metadata": {},
   "outputs": [
    {
     "data": {
      "image/png": "[encoded data removed]",
      "text/plain": [
       "<PIL.PngImagePlugin.PngImageFile image mode=RGBA size=1400x800>"
      ]
     },
     "metadata": {},
     "output_type": "display_data"
    }
   ],
   "source": [
    "# plot RMSE results\n",
    "if \"cf_cv_results.png\" not in os.listdir(\"mySaves/images/plots\") :\n",
    "    # create figure\n",
    "    fig = plt.figure(figsize=(14,8))\n",
    "    # plot\n",
    "    sns.barplot(data=cf_results, y=\"mean_RMSE_CV\", x='model_name')\n",
    "    # title\n",
    "    fig.suptitle(\"Collaborative Filtering : Cross Validation results\", fontsize=14)\n",
    "    # labels\n",
    "    plt.xlabel(\"Models\", fontsize=12)\n",
    "    plt.ylabel(\"Cross-Validation Mean RMSE\", fontsize=12)\n",
    "    # save\n",
    "    fig.savefig(\"mySaves/images/plots/cf_cv_results.png\")\n",
    "    plt.show()\n",
    "else :\n",
    "    # load image\n",
    "    display(Image.open(\"mySaves/images/plots/cf_cv_results.png\"))"
   ]
  },
  {
   "cell_type": "code",
   "execution_count": 52,
   "metadata": {},
   "outputs": [
    {
     "data": {
      "text/plain": [
       "['mySaves/cf_results/cf_results.joblib']"
      ]
     },
     "execution_count": 52,
     "metadata": {},
     "output_type": "execute_result"
    }
   ],
   "source": [
    "# save results\n",
    "dump(cf_results, \"mySaves/cf_results/cf_results.joblib\")"
   ]
  },
  {
   "cell_type": "markdown",
   "metadata": {},
   "source": [
    "Nous partons sur le modèle `SVDpp`."
   ]
  },
  {
   "cell_type": "markdown",
   "metadata": {},
   "source": [
    "## 1.4. <a id='toc4_4_'></a>[Tester le modèle](#toc0_)"
   ]
  },
  {
   "cell_type": "markdown",
   "metadata": {},
   "source": [
    "Entraînons le modèle SVDpp sur l'ensemble des données :"
   ]
  },
  {
   "cell_type": "code",
   "execution_count": 53,
   "metadata": {},
   "outputs": [],
   "source": [
    "# train SVDpp on X_cf_surprise\n",
    "if \"collab_model.joblib\" not in os.listdir(\"mySaves/dev_files\") :\n",
    "    # get best parameters\n",
    "    best_parameters = cf_results.loc[cf_results[\"model_name\"]==\"SVDpp_opti\", \"parameters\"].values[0]\n",
    "    # initiate model\n",
    "    model = SVDpp(**best_parameters)\n",
    "    # use custom function \"fit_and_save\"\n",
    "    mf.fit_and_save(\n",
    "        X_surprise=X_cf_surprise, \n",
    "        model_surprise=model,\n",
    "        path=\"mySaves/dev_files/collab_model.joblib\")\n",
    "else :\n",
    "    # load existing trained model\n",
    "    model = load(\"mySaves/dev_files/collab_model.joblib\")\n"
   ]
  },
  {
   "cell_type": "markdown",
   "metadata": {},
   "source": [
    "Nous pouvons tester notre modèle de recommandation. Pour cela nous avons créé une fonction `cf_top_5` qui, à partir d'un `user_id`, d'un modèle `surprise` et d'un dataframe `X` :\n",
    "- filtre `X` sur le `user_id`\n",
    "- extrait les articles qu'il n'a jamais lu\n",
    "- crée un dataframe `anti_X` avec les colonnes :\n",
    "    - `user_id`, avec toujours la même valeur, notre utilisateur\n",
    "    - `article_id`, avec les articles qu'il n'a jamais lu\n",
    "    - `rating_id`, avec toujours la même valeur également (car pour rappel ces ratings n'existent pas)\n",
    "- transforme ce dataframe en `testset` `surprise`\n",
    "- effectue des prédictions avec le modèle donné\n",
    "- utilise la fonction `get_top_n` (https://surprise.readthedocs.io/en/stable/FAQ.html)\n",
    "- sort la liste des 5 ratings prédits les plus élevés"
   ]
  },
  {
   "cell_type": "code",
   "execution_count": 54,
   "metadata": {},
   "outputs": [
    {
     "name": "stdout",
     "output_type": "stream",
     "text": [
      "For user 172838 : [96210, 234698, 336221, 352094, 331116]\n",
      "For user 132915 : [166072, 342030, 211484, 32730, 293429]\n",
      "For user 115205 : [331587, 289283, 118858, 4400, 70682]\n",
      "For user 93053 : [331116, 96210, 265168, 234698, 183176]\n",
      "For user 254589 : [96210, 331116, 183176, 234698, 336245]\n",
      "For user 86052 : [351876, 331116, 96210, 183176, 234698]\n",
      "For user 146555 : [332125, 355179, 255947, 172761, 279904]\n",
      "For user 42159 : [257972, 288794, 160253, 342380, 348129]\n",
      "For user 245242 : [314181, 111338, 96210, 354580, 261633]\n",
      "For user 147378 : [255747, 352683, 4729, 96690, 42622]\n"
     ]
    }
   ],
   "source": [
    "# test for some users\n",
    "for i in range(10) :\n",
    "    user_id = X_cf[\"user_id\"].sample(1, random_state=i).values[0]\n",
    "    print(\n",
    "        f'For user {user_id} :', \n",
    "        mf.cf_top_5(\n",
    "            user_id=user_id, \n",
    "            data_cf=X_cf, \n",
    "            trained_model=model\n",
    "            )\n",
    "        )"
   ]
  },
  {
   "cell_type": "markdown",
   "metadata": {},
   "source": [
    "## 1.5. <a id='toc4_5_'></a>[Modèle plus léger pour le test de production](#toc0_)"
   ]
  },
  {
   "cell_type": "markdown",
   "metadata": {},
   "source": [
    "Pour le test de la **mise en production** :\n",
    "- afin de réduire l'espace mémoire utilisé, nous allons **entraîner** un modèle sur les interactions d'une **sélection de 100 000 utilisateurs**\n",
    "- afin d'alléger l'interface utilisateur, nous donnerons accès à **une centaine** de `user_id`s, permettant de tester le modèle"
   ]
  },
  {
   "cell_type": "code",
   "execution_count": 55,
   "metadata": {},
   "outputs": [],
   "source": [
    "# select 100000 users\n",
    "if \"kept_user_ids.joblib\" not in os.listdir(\"mySaves/dev_files\") :\n",
    "    seed = np.random.seed(16)\n",
    "    kept_user_ids = np.random.choice(\n",
    "        X_cf[\"user_id\"].cat.categories, \n",
    "        size=100000,\n",
    "        )\n",
    "    # save\n",
    "    dump(kept_user_ids, \"mySaves/dev_files/kept_user_ids.joblib\")\n",
    "    # save some users only for testing in production\n",
    "    dump(kept_user_ids[:100], \"mySaves/prod_files/test_list_user_ids.joblib\")\n",
    "else :\n",
    "    kept_user_ids = load(\"mySaves/dev_files/kept_user_ids.joblib\")"
   ]
  },
  {
   "cell_type": "markdown",
   "metadata": {},
   "source": [
    "Nous pouvons maintenant créer notre dataframe `user_id`, `article_id`, `rating` dans une version allégée, avec seulement ces utilisateurs :"
   ]
  },
  {
   "cell_type": "code",
   "execution_count": 56,
   "metadata": {},
   "outputs": [],
   "source": [
    "# use custom function to create a dataframe for surprise\n",
    "if \"X_cf_light.joblib\" not in os.listdir(\"mySaves/dev_files\") :\n",
    "    X_cf_light = mf.read_clicks_and_prepare_rating(\n",
    "        clicks_folder_path=clicks_folder_path,  \n",
    "        ref_date_for_seniority=datetime.datetime(year=2017, month=10, day=18),\n",
    "        kept_user_ids = kept_user_ids,\n",
    "        min_seniority=0,\n",
    "        max_seniority=None,\n",
    "        minimum_count=10,\n",
    "        min_count_for_best=1000\n",
    "        )\n",
    "\n",
    "    # save\n",
    "    dump(X_cf_light, \"mySaves/dev_files/X_cf_light.joblib\")\n",
    "\n",
    "else :\n",
    "    # load\n",
    "    X_cf_light = load(\"mySaves/dev_files/X_cf_light.joblib\")\n",
    "\n",
    "\n",
    "# create a surprise dataset\n",
    "# create reader with rating scale from 0 to 1\n",
    "reader = Reader(rating_scale=(0,1))\n",
    "# create Dataset\n",
    "X_cf_light_surprise = Dataset.load_from_df(X_cf_light, reader=reader)"
   ]
  },
  {
   "cell_type": "markdown",
   "metadata": {},
   "source": [
    "Et créer un modèle plus léger :"
   ]
  },
  {
   "cell_type": "code",
   "execution_count": 57,
   "metadata": {},
   "outputs": [],
   "source": [
    "# train SVDpp on X_cf_light_surprise\n",
    "if \"collab_model_light.joblib\" not in os.listdir(\"mySaves/prod_files\") :\n",
    "    # get best parameters\n",
    "    best_parameters = cf_results.loc[cf_results[\"model_name\"]==\"SVDpp_opti\", \"parameters\"].values[0]\n",
    "    # initiate model\n",
    "    light_model = SVDpp(**best_parameters)\n",
    "    # use custom function \"fit_and_save\"\n",
    "    mf.fit_and_save(\n",
    "        X_surprise=X_cf_light_surprise, \n",
    "        model_surprise=light_model,\n",
    "        path=\"mySaves/prod_files/collab_model_light.joblib\")\n",
    "else :\n",
    "    # load existing trained model\n",
    "    light_model = load(\"mySaves/prod_files/collab_model_light.joblib\")"
   ]
  },
  {
   "cell_type": "markdown",
   "metadata": {},
   "source": [
    "Nous pouvons tester notre modèle léger de recommandation :"
   ]
  },
  {
   "cell_type": "code",
   "execution_count": 58,
   "metadata": {},
   "outputs": [
    {
     "name": "stdout",
     "output_type": "stream",
     "text": [
      "For user 7432 : [300007, 256756, 175279, 59219, 195428]\n",
      "For user 1607 : [195842, 96210, 234698, 336221, 15755]\n",
      "For user 269236 : [288456, 358109, 16093, 225745, 234698]\n",
      "For user 9869 : [76408, 96210, 270539, 234698, 336221]\n",
      "For user 35602 : [96987, 271914, 187215, 96210, 336221]\n",
      "For user 237956 : [19786, 341225, 360644, 140524, 362272]\n",
      "For user 224043 : [176910, 330894, 114575, 234698, 336221]\n",
      "For user 129347 : [234698, 96210, 336221, 254414, 331116]\n",
      "For user 101579 : [330770, 49034, 234698, 96210, 336221]\n",
      "For user 66077 : [285642, 48460, 96210, 160981, 336964]\n"
     ]
    }
   ],
   "source": [
    "# test for some users\n",
    "for i in range(10) :\n",
    "    user_id = X_cf_light[\"user_id\"].sample(1, random_state=i).values[0]\n",
    "    print(\n",
    "        f'For user {user_id} :', \n",
    "        mf.cf_top_5(\n",
    "            user_id=user_id, \n",
    "            data_cf=X_cf_light, \n",
    "            trained_model=light_model\n",
    "            )\n",
    "        )"
   ]
  },
  {
   "cell_type": "markdown",
   "metadata": {},
   "source": [
    "# 2. <a id='toc5_'></a>[MODÉLISATION *CONTENT BASE*](#toc0_)"
   ]
  },
  {
   "cell_type": "markdown",
   "metadata": {},
   "source": [
    "Nous pouvons passer à la recommandation de type *Content Base*. \n",
    "\n",
    "Celle-ci :\n",
    "- sera principalement basée sur les ***embeddings*** des articles lus par l'utilisateur\n",
    "- et intégrera également un filtre préalable sur les **catégories principales** parcourues par celui-ci"
   ]
  },
  {
   "cell_type": "markdown",
   "metadata": {},
   "source": [
    "## 2.1. <a id='toc5_1_'></a>[Préparer les données](#toc0_)"
   ]
  },
  {
   "cell_type": "markdown",
   "metadata": {},
   "source": [
    "Commençons par charger les données `clicks` et `articles_metadata` dans un seul dataframe :"
   ]
  },
  {
   "cell_type": "code",
   "execution_count": 59,
   "metadata": {},
   "outputs": [
    {
     "data": {
      "text/html": [
       "<div>\n",
       "<style scoped>\n",
       "    .dataframe tbody tr th:only-of-type {\n",
       "        vertical-align: middle;\n",
       "    }\n",
       "\n",
       "    .dataframe tbody tr th {\n",
       "        vertical-align: top;\n",
       "    }\n",
       "\n",
       "    .dataframe thead th {\n",
       "        text-align: right;\n",
       "    }\n",
       "</style>\n",
       "<table border=\"1\" class=\"dataframe\">\n",
       "  <thead>\n",
       "    <tr style=\"text-align: right;\">\n",
       "      <th></th>\n",
       "      <th>user_id</th>\n",
       "      <th>click_timestamp</th>\n",
       "      <th>article_id</th>\n",
       "      <th>category_id</th>\n",
       "    </tr>\n",
       "  </thead>\n",
       "  <tbody>\n",
       "    <tr>\n",
       "      <th>0</th>\n",
       "      <td>320431</td>\n",
       "      <td>2017-11-13 20:04:14.886</td>\n",
       "      <td>145309</td>\n",
       "      <td>269</td>\n",
       "    </tr>\n",
       "    <tr>\n",
       "      <th>1</th>\n",
       "      <td>320431</td>\n",
       "      <td>2017-11-13 20:03:44.886</td>\n",
       "      <td>203538</td>\n",
       "      <td>327</td>\n",
       "    </tr>\n",
       "    <tr>\n",
       "      <th>2</th>\n",
       "      <td>252642</td>\n",
       "      <td>2017-11-07 22:31:52.860</td>\n",
       "      <td>96333</td>\n",
       "      <td>209</td>\n",
       "    </tr>\n",
       "    <tr>\n",
       "      <th>3</th>\n",
       "      <td>252642</td>\n",
       "      <td>2017-11-07 22:31:22.860</td>\n",
       "      <td>207672</td>\n",
       "      <td>331</td>\n",
       "    </tr>\n",
       "    <tr>\n",
       "      <th>4</th>\n",
       "      <td>201738</td>\n",
       "      <td>2017-11-04 12:27:02.502</td>\n",
       "      <td>224148</td>\n",
       "      <td>354</td>\n",
       "    </tr>\n",
       "    <tr>\n",
       "      <th>...</th>\n",
       "      <td>...</td>\n",
       "      <td>...</td>\n",
       "      <td>...</td>\n",
       "      <td>...</td>\n",
       "    </tr>\n",
       "    <tr>\n",
       "      <th>2950705</th>\n",
       "      <td>70</td>\n",
       "      <td>2017-10-01 03:00:18.863</td>\n",
       "      <td>119592</td>\n",
       "      <td>247</td>\n",
       "    </tr>\n",
       "    <tr>\n",
       "      <th>2950706</th>\n",
       "      <td>111</td>\n",
       "      <td>2017-10-01 03:00:14.140</td>\n",
       "      <td>202436</td>\n",
       "      <td>327</td>\n",
       "    </tr>\n",
       "    <tr>\n",
       "      <th>2950707</th>\n",
       "      <td>154</td>\n",
       "      <td>2017-10-01 03:00:04.207</td>\n",
       "      <td>96663</td>\n",
       "      <td>209</td>\n",
       "    </tr>\n",
       "    <tr>\n",
       "      <th>2950708</th>\n",
       "      <td>79</td>\n",
       "      <td>2017-10-01 03:00:01.702</td>\n",
       "      <td>159359</td>\n",
       "      <td>281</td>\n",
       "    </tr>\n",
       "    <tr>\n",
       "      <th>2950709</th>\n",
       "      <td>59</td>\n",
       "      <td>2017-10-01 03:00:00.026</td>\n",
       "      <td>234853</td>\n",
       "      <td>375</td>\n",
       "    </tr>\n",
       "  </tbody>\n",
       "</table>\n",
       "<p>2950710 rows × 4 columns</p>\n",
       "</div>"
      ],
      "text/plain": [
       "        user_id         click_timestamp article_id category_id\n",
       "0        320431 2017-11-13 20:04:14.886     145309         269\n",
       "1        320431 2017-11-13 20:03:44.886     203538         327\n",
       "2        252642 2017-11-07 22:31:52.860      96333         209\n",
       "3        252642 2017-11-07 22:31:22.860     207672         331\n",
       "4        201738 2017-11-04 12:27:02.502     224148         354\n",
       "...         ...                     ...        ...         ...\n",
       "2950705      70 2017-10-01 03:00:18.863     119592         247\n",
       "2950706     111 2017-10-01 03:00:14.140     202436         327\n",
       "2950707     154 2017-10-01 03:00:04.207      96663         209\n",
       "2950708      79 2017-10-01 03:00:01.702     159359         281\n",
       "2950709      59 2017-10-01 03:00:00.026     234853         375\n",
       "\n",
       "[2950710 rows x 4 columns]"
      ]
     },
     "execution_count": 59,
     "metadata": {},
     "output_type": "execute_result"
    }
   ],
   "source": [
    "# load, prepare and merge \"clicks\" and \"articles_metadata\" CSVs\n",
    "if \"data_cb.joblib\" not in os.listdir(\"mySaves/dev_files\") :\n",
    "    # necessary columns\n",
    "    clicks_usecols = [\n",
    "        'user_id', \n",
    "        'click_article_id', \n",
    "        'click_timestamp',\n",
    "        ]\n",
    "    meta_usecols = [\n",
    "        'article_id', \n",
    "        'category_id'\n",
    "    ]\n",
    "\n",
    "    # unnecessary columns (only used for preparation (sorting) and merging)\n",
    "    drop_after_prep_cols = [\n",
    "        \"click_article_id\", \n",
    "        # \"click_timestamp\"\n",
    "    ]\n",
    "\n",
    "    # use custom function\n",
    "    data_cb = mf.read_clicks_and_meta(\n",
    "        clicks_folder_path=clicks_folder_path,\n",
    "        meta_path=meta_path,\n",
    "        clicks_usecols=clicks_usecols,\n",
    "        meta_usecols=meta_usecols,\n",
    "        drop_after_prep_cols=drop_after_prep_cols\n",
    "        )\n",
    "\n",
    "    # save\n",
    "    dump(data_cb, \"mySaves/dev_files/data_cb.joblib\")\n",
    "\n",
    "else :\n",
    "    data_cb = load(\"mySaves/dev_files/data_cb.joblib\")\n",
    "\n",
    "data_cb"
   ]
  },
  {
   "cell_type": "markdown",
   "metadata": {},
   "source": [
    "## 2.2. <a id='toc5_2_'></a>[Obtenir les catégories principales de l'utilisateur](#toc0_)"
   ]
  },
  {
   "cell_type": "markdown",
   "metadata": {},
   "source": [
    "Nous avons rédigé une fonction `get_user_top2_categories_and_list_of_ids`.\n",
    "\n",
    "L'idée est d'isoler les catégories \"préférées du moment\" de l'utilisateur. Pour essayer d'approcher cela, nous nous basons sur :\n",
    "- le fait que les articles de la catégorie aient été **lus récemment**\n",
    "- le **nombre d'articles** lus appartenant à la catégorie\n",
    "\n",
    "Nous faisons également le **choix de considérer 2 catégories** (ou 1 seule si l'utilisateur n'a lu au sein que d'une seule catégorie).\n",
    "\n",
    "La fonction prend en **arguments** un `user_id` et `data_cb`, le dataframe ci-dessus, et **retourne** un **dictionnaire** avec :\n",
    "- comme clés, nos 2 *category_id*s\n",
    "- comme valeurs, les liste d'`article_id`s associés\n"
   ]
  },
  {
   "cell_type": "markdown",
   "metadata": {},
   "source": [
    "Voyons ce que cela donne avec un exemple :"
   ]
  },
  {
   "cell_type": "code",
   "execution_count": 60,
   "metadata": {},
   "outputs": [
    {
     "data": {
      "text/plain": [
       "203083"
      ]
     },
     "execution_count": 60,
     "metadata": {},
     "output_type": "execute_result"
    }
   ],
   "source": [
    "# pick a user\n",
    "np.random.seed(seed=6)\n",
    "test_user_id = np.random.choice(kept_user_ids, size=1)[0]\n",
    "test_user_id"
   ]
  },
  {
   "cell_type": "code",
   "execution_count": 61,
   "metadata": {},
   "outputs": [
    {
     "data": {
      "text/plain": [
       "{127: [62701, 62464, 62675], 136: [71542]}"
      ]
     },
     "execution_count": 61,
     "metadata": {},
     "output_type": "execute_result"
    }
   ],
   "source": [
    "# test custom function get_user_top2_categories_and_list_of_ids\n",
    "test_user_dict = mf.get_user_top2_categories_and_list_of_ids(\n",
    "    data_cb=data_cb, \n",
    "    user_id=test_user_id)\n",
    "\n",
    "test_user_dict"
   ]
  },
  {
   "cell_type": "markdown",
   "metadata": {},
   "source": [
    "## 2.3. <a id='toc5_3_'></a>[Filtrer les embeddings sur les catégories principales](#toc0_)"
   ]
  },
  {
   "cell_type": "markdown",
   "metadata": {},
   "source": [
    "Pour chaque *category_id* sélectionné, nous filtrons le fichier d'*embeddings*, pour ne conserver que ceux des articles appartenant à cette catégorie. Pour cela nous avons rédigé la fonction `get_cat_embeddings`, qui prend en entrée :\n",
    "- les catégories `cat_ids_list`\n",
    "- un *embedding* `emb`\n",
    "- un dataframe des *articles_metadata* `meta`\n",
    "\n",
    "La fonction retourne également un dictionnaire, mais cette fois les valeurs sont les ***embeddings* filtrés**."
   ]
  },
  {
   "cell_type": "code",
   "execution_count": 62,
   "metadata": {},
   "outputs": [
    {
     "data": {
      "text/plain": [
       "{127:              0         1         2         3         4         5         6   \\\n",
       " 61865  7.576358  2.534658  4.392003  0.862846 -5.170998 -4.608817 -1.094802   \n",
       " 61866  2.293916  0.127101  1.570541  2.241727 -1.686441  3.263310 -0.821275   \n",
       " 61867  4.220024  2.267296  2.339798 -2.435086 -3.593882 -2.300511 -0.806614   \n",
       " 61868  7.555596  1.069995  4.057072  0.957219 -2.581642 -0.263557 -0.501203   \n",
       " 61869  7.466855  2.048302  3.941885 -1.471380 -4.417357 -0.861462  0.983991   \n",
       " ...         ...       ...       ...       ...       ...       ...       ...   \n",
       " 62788  9.685449 -1.962937  2.115432 -1.130606 -5.548280 -4.446809 -0.864685   \n",
       " 62789  2.888261 -2.032840  0.595348 -2.511675  1.076206  2.888155 -2.792193   \n",
       " 62790  3.986691 -1.145274  4.728462 -3.207933  2.231805  1.706199 -3.357298   \n",
       " 62791  2.033399  1.931885  1.319022  0.080482 -4.247724  0.306637 -1.358061   \n",
       " 62792  2.149336 -4.426373  5.088209 -6.392074  1.616551  0.976085  1.284007   \n",
       " \n",
       "              7         8         9   ...        43        44        45  \\\n",
       " 61865 -0.386233  1.435917 -1.955213  ...  1.587507 -0.178569 -0.807700   \n",
       " 61866  4.006988  2.352311  0.262019  ...  0.258404 -0.492241 -1.141028   \n",
       " 61867  2.671355  0.389085 -1.186251  ... -0.296441  0.957583 -0.863662   \n",
       " 61868  3.076471 -1.439094 -0.591002  ...  0.174667 -0.852001  0.088327   \n",
       " 61869  2.915182  2.490968 -2.452621  ... -0.695491  0.539521 -0.725857   \n",
       " ...         ...       ...       ...  ...       ...       ...       ...   \n",
       " 62788  3.558416  0.087123 -0.476182  ...  0.197087  0.354079  0.705417   \n",
       " 62789  3.177737  3.019011  3.723818  ...  0.574330 -0.891453  2.006278   \n",
       " 62790  2.944136  6.049349  2.395433  ... -0.255457 -2.106055 -1.449873   \n",
       " 62791  3.004097  2.586582 -2.269095  ...  0.882938 -1.642180  0.003437   \n",
       " 62792  7.544868  2.729342  2.506337  ... -0.033953 -0.115767 -0.319337   \n",
       " \n",
       "              46        47        48        49        50        51        52  \n",
       " 61865 -0.128046  1.293580 -0.105655 -0.506350  0.007387 -0.378566 -0.272957  \n",
       " 61866  3.343830  0.216199 -0.985037 -0.817473 -0.401805  0.272335 -1.343680  \n",
       " 61867  0.792527 -0.930212 -0.184934 -0.860172 -0.028893 -0.436601 -0.279224  \n",
       " 61868  1.641251 -0.495759  1.144070 -0.622756  0.210334 -0.476644 -0.037432  \n",
       " 61869  2.069306  0.636172  0.363920 -0.079962  0.215014  0.173719 -0.487508  \n",
       " ...         ...       ...       ...       ...       ...       ...       ...  \n",
       " 62788 -0.484484  0.010914  0.864574 -0.808678 -0.235675 -0.344209 -0.844535  \n",
       " 62789  2.078095  0.156784 -0.308001  0.336983 -0.330612 -0.086030  0.430967  \n",
       " 62790  3.972011 -0.103138  0.002823  0.637049  0.236743  0.147689 -0.800458  \n",
       " 62791  4.049262 -0.996490 -0.343832 -0.183956  0.995533  0.992459 -1.147639  \n",
       " 62792  2.489216  0.561099  0.569125 -1.259408  1.863892  0.514336 -1.553477  \n",
       " \n",
       " [928 rows x 53 columns],\n",
       " 136:              0         1         2         3         4         5         6   \\\n",
       " 66482  8.311196 -4.689248 -2.005250 -5.969830  2.844563  4.269057 -1.923912   \n",
       " 66483  3.131041 -2.547761 -2.627303 -0.789648 -1.278512  5.268628 -2.349313   \n",
       " 66484  3.476183 -1.430715 -1.322077 -1.735298  0.821115  4.182617  0.417727   \n",
       " 66485  8.286956 -4.899880 -1.065807 -1.378029  4.090248  1.939154 -1.325033   \n",
       " 66486  1.478709 -2.653499 -0.506373 -1.778291 -0.382147  5.763961  2.977839   \n",
       " ...         ...       ...       ...       ...       ...       ...       ...   \n",
       " 71659  7.968795 -2.165900 -3.228957 -6.836682 -1.677072 -0.136231 -0.280139   \n",
       " 71660  9.973549 -2.879682 -0.169529 -4.583239 -2.342314  2.200308  0.933632   \n",
       " 71661  7.235588 -4.361461 -2.959046 -3.950218 -1.775106  2.920655 -0.103554   \n",
       " 71662  5.263305 -4.517986  1.604997 -3.208224  3.678250  5.734046 -0.309794   \n",
       " 71663  6.761759 -2.437595 -1.522013 -2.173319 -1.113679  3.981291 -2.548004   \n",
       " \n",
       "              7         8         9   ...        43        44        45  \\\n",
       " 66482  0.711929  1.522021  1.405795  ...  0.686872 -0.914791  0.507371   \n",
       " 66483  4.715428  0.530683  2.297644  ... -1.277064 -0.852578 -1.039428   \n",
       " 66484  3.914535 -5.327291  1.174271  ... -0.259352 -0.930132 -0.746322   \n",
       " 66485  2.020198 -2.015353  4.571291  ... -0.471672  0.310196  0.202867   \n",
       " 66486 -0.124748 -3.502305  1.374350  ... -0.488274 -1.467778 -0.478811   \n",
       " ...         ...       ...       ...  ...       ...       ...       ...   \n",
       " 71659  0.361973 -1.910294 -0.186553  ...  0.661531 -0.197239  1.028881   \n",
       " 71660  2.866020 -1.718177  1.659395  ...  0.755684  0.562658 -1.638824   \n",
       " 71661 -0.262678 -5.390525  1.927210  ...  0.867607  0.765274 -0.578600   \n",
       " 71662 -1.462422 -0.818348  5.649025  ...  0.198051 -0.448629  0.554100   \n",
       " 71663 -1.572242 -4.666584  1.280204  ...  0.334817 -0.787640 -0.516449   \n",
       " \n",
       "              46        47        48        49        50        51        52  \n",
       " 66482 -0.204685  0.667810  0.249090 -0.352344  0.408016  0.015941  0.037342  \n",
       " 66483  0.195969  0.094259 -0.379155  2.119083 -1.059964 -0.907237  0.078844  \n",
       " 66484 -0.217191  0.004370  0.376035  0.144652 -0.170980 -0.010531  0.044796  \n",
       " 66485  0.324632 -0.246099  0.890077  0.103793  0.897691 -0.256712  0.778872  \n",
       " 66486 -1.307311 -0.240159 -0.950527  0.658109  0.746213 -0.568081  0.050029  \n",
       " ...         ...       ...       ...       ...       ...       ...       ...  \n",
       " 71659  0.127377  0.048648  0.427007  0.131637 -0.271410  0.027468  0.827853  \n",
       " 71660 -0.041442 -0.283037  1.593546 -1.298774  0.394346  0.203013  1.034076  \n",
       " 71661 -0.420738  0.565558  1.652985 -0.875197  0.297554  1.077264 -0.566864  \n",
       " 71662  0.600781  0.318637  1.184419 -0.502178  0.698963  1.761780  0.235895  \n",
       " 71663  0.883681  0.573815  1.192002  0.793512 -0.867645  0.508041  0.993173  \n",
       " \n",
       " [5182 rows x 53 columns]}"
      ]
     },
     "execution_count": 62,
     "metadata": {},
     "output_type": "execute_result"
    }
   ],
   "source": [
    "# extract the 2 categories\n",
    "test_cats = list(test_user_dict.keys())\n",
    "# load \"articles_metadata.csv\" only with \"article_id\", \"category_id\" columns\n",
    "# use custom function \"read_meta\"\n",
    "if \"meta_cb.joblib\" not in os.listdir(\"mySaves/prod_files\") :\n",
    "    meta_cb = mf.read_meta(meta_path, usecols = [\"article_id\", \"category_id\"]).astype(int)\n",
    "    # save\n",
    "    dump(meta_cb, \"mySaves/prod_files/meta_cb.joblib\")\n",
    "else :\n",
    "    meta_cb = load(\"mySaves/prod_files/meta_cb.joblib\")\n",
    "# test custom function \"get_cat_embeddings\"\n",
    "test_embs = mf.get_cat_embeddings(\n",
    "    cat_ids_list=test_cats, \n",
    "    emb = emb_reduced,\n",
    "    meta = meta_cb\n",
    "    )\n",
    "\n",
    "test_embs"
   ]
  },
  {
   "cell_type": "markdown",
   "metadata": {},
   "source": [
    "## 2.4. <a id='toc5_4_'></a>[Obtenir 5 recommendations d'articles](#toc0_)"
   ]
  },
  {
   "cell_type": "markdown",
   "metadata": {},
   "source": [
    "Grâce à ces 2 dictionnaires, nous obtenons nos 5 recommandations : 3 pour la première catégorie, 2 pour la deuxième. Pour cela nous avons rédigé la fonction  `get_5_content_base_reco_from_dicts`, qui :\n",
    "- pour chaque catégorie\n",
    "- filtre les embeddings de la catégorie sur les articles DÉJÀ lus par l'utilisateur\n",
    "- synthétise ces embeddings en les moyennant\n",
    "- isole également les embeddings, toujours de cette catégorie, correspondant aux articles n'ayant PAS été lus\n",
    "- calcule la `cosine_similarity` entre l'embedding synthétique des articles lus et les embeddings des articles non lus\n",
    "- récupère les \"article_id\"s avec les meilleurs scores (3 pour la première catégorie, 2 pour la deuxième)"
   ]
  },
  {
   "cell_type": "code",
   "execution_count": 63,
   "metadata": {},
   "outputs": [
    {
     "name": "stdout",
     "output_type": "stream",
     "text": [
      "For user 203083 : [62416, 62166, 62569, 66950, 66523]\n"
     ]
    }
   ],
   "source": [
    "# test custom function \"get_5_content_base_reco_from_dicts\"\n",
    "print(\n",
    "    f'For user {test_user_id} :',\n",
    "    mf.get_5_content_base_reco_from_dicts(\n",
    "        user_dict=test_user_dict, \n",
    "        emb_dict=test_embs\n",
    "        )\n",
    ")\n"
   ]
  },
  {
   "cell_type": "markdown",
   "metadata": {},
   "source": [
    "## 2.5. <a id='toc5_5_'></a>[Modèle final](#toc0_)"
   ]
  },
  {
   "cell_type": "markdown",
   "metadata": {},
   "source": [
    "Nous synthétisons ces différentes étapes dans une fonction unique `cb_top_5`. Celle-ci prend alors en entrée un `user_id`, nos données clicks `data_cb`, un array d'embeddings `emb` et un dataframe des *articles_metadata* `meta` :"
   ]
  },
  {
   "cell_type": "code",
   "execution_count": 64,
   "metadata": {},
   "outputs": [
    {
     "name": "stdout",
     "output_type": "stream",
     "text": [
      "For user 203083 : [62416, 62166, 62569, 66950, 66523]\n"
     ]
    }
   ],
   "source": [
    "# use custom function \"cb_top_5\" on our test user_id\n",
    "print(\n",
    "    f'For user {test_user_id} :',\n",
    "    mf.cb_top_5(\n",
    "        user_id=test_user_id,\n",
    "        data_cb=data_cb, \n",
    "        emb=emb_reduced,\n",
    "        meta=meta_cb\n",
    "    )\n",
    ")"
   ]
  },
  {
   "cell_type": "markdown",
   "metadata": {},
   "source": [
    "## 2.6. <a id='toc5_6_'></a>[Quel impact de la réduction ACP des *embeddings* initiaux sur les résultats ?](#toc0_)"
   ]
  },
  {
   "cell_type": "markdown",
   "metadata": {},
   "source": [
    "Nous pouvons comparer le résultat en fonction du fichier d'embeddings :\n",
    "- la version initiale\n",
    "- la version légère (suite à la réduction ACP)\n",
    "\n",
    "Pour cela nous comparerons les recommandations obtenues (le **nombre d'\"article_id\"s en communs**) pour quelques échantillons :"
   ]
  },
  {
   "cell_type": "code",
   "execution_count": 65,
   "metadata": {},
   "outputs": [
    {
     "data": {
      "image/png": "[encoded data removed]",
      "text/plain": [
       "<PIL.PngImagePlugin.PngImageFile image mode=RGBA size=800x800>"
      ]
     },
     "metadata": {},
     "output_type": "display_data"
    }
   ],
   "source": [
    "# compare content base recommendations for some samples \n",
    "if \"embedding_comparison_for_content_base.png\" not in os.listdir(\"mySaves/images/plots\") :\n",
    "\n",
    "    # pick \"user_id\" samples\n",
    "    np.random.seed(seed=16)\n",
    "    test_user_ids = np.random.choice(data_cb[\"user_id\"].unique(), 1000)\n",
    "\n",
    "    # initiate a Series to store the number of common \"article_id\"s between :\n",
    "    # - recommendations obtained from initial embeddings file \n",
    "    # - recommendations obtained from reduced (with PCA) embedding file\n",
    "    number_of_common_recs_Series = pd.Series(index=test_user_ids, name=\"number_of_common_articles\")\n",
    "\n",
    "    # load full embedding\n",
    "    emb_large = pd.read_pickle(emb_path)\n",
    "\n",
    "    # for each user\n",
    "    for user_id in test_user_ids :\n",
    "        # get recs from \"emb_reduced\"\n",
    "        rec_light = mf.cb_top_5(\n",
    "            user_id=user_id,\n",
    "            data_cb=data_cb, \n",
    "            emb=emb_reduced,\n",
    "            meta=meta_cb\n",
    "        )\n",
    "        # get recs from original \"articles_embeddings\"\n",
    "        rec_full = mf.cb_top_5(\n",
    "            user_id=user_id,\n",
    "            data_cb=data_cb, \n",
    "            emb=emb_large,\n",
    "            meta=meta_cb\n",
    "        )\n",
    "        # compute the number of common articles\n",
    "        number_of_common_recs = len(\n",
    "            set(rec_light).intersection(set(rec_full))\n",
    "        )\n",
    "        # add to Series\n",
    "        number_of_common_recs_Series[user_id] = number_of_common_recs\n",
    "\n",
    "    # plot\n",
    "    # create figure\n",
    "    fig, (ax_box, ax_count) = plt.subplots(2, 1, figsize=(8,8), height_ratios=(0.1,0.9), sharex=True)\n",
    "    plt.subplots_adjust(hspace=0)\n",
    "    # plot\n",
    "    sns.countplot(\n",
    "        x=number_of_common_recs_Series.astype(int), \n",
    "        ax=ax_count, \n",
    "        palette = [\"darkred\"]+sns.color_palette(\"Spectral\")[:-1],\n",
    "        )\n",
    "    sns.boxplot(x=number_of_common_recs_Series.astype(int), ax=ax_box, color=\"gray\")\n",
    "    # title\n",
    "    fig.suptitle(\"Content base : Impact of PCA reduction on recommendations \\n For 1000 samples\", fontsize=14)\n",
    "    # remove box plot axis\n",
    "    ax_box.axis(False)\n",
    "    # labels\n",
    "    ax_count.set_xlabel(\"Number of common articles between initial and reduced embeddings\", fontsize=12)\n",
    "    ax_count.set_ylabel(\"Number of occurrences\", fontsize=12)\n",
    "    # save\n",
    "    fig.savefig(\"mySaves/images/plots/embedding_comparison_for_content_base.png\")\n",
    "    plt.show()\n",
    "else :\n",
    "    # load image\n",
    "    display(Image.open(\"mySaves/images/plots/embedding_comparison_for_content_base.png\"))\n"
   ]
  },
  {
   "cell_type": "markdown",
   "metadata": {},
   "source": [
    "Les recommendations sont globalement similaires."
   ]
  },
  {
   "cell_type": "markdown",
   "metadata": {},
   "source": [
    "## 2.7. <a id='toc5_7_'></a>[Modèle final léger pour le test en production](#toc0_)"
   ]
  },
  {
   "cell_type": "markdown",
   "metadata": {},
   "source": [
    "Pour le test de mise en production, nous n'utiliserons pour rappel que des utilisateurs appartenant à `kept_user_ids`. Nous pouvons donc utiliser des données clicks moins volumineuses :"
   ]
  },
  {
   "cell_type": "code",
   "execution_count": 66,
   "metadata": {},
   "outputs": [],
   "source": [
    "# build a light data_cb\n",
    "# load, prepare and merge \"clicks\" and \"articles_metadata\" CSVs\n",
    "if \"data_cb_light.joblib\" not in os.listdir(\"mySaves/dev_files\") :\n",
    "    # necessary columns\n",
    "    clicks_usecols = [\n",
    "        'user_id', \n",
    "        'click_article_id', \n",
    "        'click_timestamp',\n",
    "        ]\n",
    "    meta_usecols = [\n",
    "        'article_id', \n",
    "        'category_id'\n",
    "    ]\n",
    "\n",
    "    # unnecessary columns (only used for preparation (sorting) and merging)\n",
    "    drop_after_prep_cols = [\n",
    "        \"click_article_id\", \n",
    "        # \"click_timestamp\"\n",
    "    ]\n",
    "\n",
    "    # use custom function\n",
    "\n",
    "    data_cb_light = mf.read_clicks_and_meta(\n",
    "        clicks_folder_path=clicks_folder_path,\n",
    "        meta_path=meta_path,\n",
    "        kept_user_ids=kept_user_ids,\n",
    "        clicks_usecols=clicks_usecols,\n",
    "        meta_usecols=meta_usecols,\n",
    "        drop_after_prep_cols=drop_after_prep_cols\n",
    "        )\n",
    "\n",
    "    # save\n",
    "    dump(data_cb_light, \"mySaves/dev_files/data_cb_light.joblib\")\n",
    "\n",
    "else :\n",
    "    data_cb_light = load(\"mySaves/dev_files/data_cb_light.joblib\")"
   ]
  },
  {
   "cell_type": "code",
   "execution_count": 67,
   "metadata": {},
   "outputs": [
    {
     "data": {
      "text/plain": [
       "[62416, 62166, 62569, 66950, 66523]"
      ]
     },
     "execution_count": 67,
     "metadata": {},
     "output_type": "execute_result"
    }
   ],
   "source": [
    "# use custom function \"cb_top_5\" on our test user_id\n",
    "mf.cb_top_5(\n",
    "    user_id=test_user_id,\n",
    "    data_cb=data_cb_light, \n",
    "    emb=emb_reduced,\n",
    "    meta=meta_cb\n",
    ")"
   ]
  },
  {
   "cell_type": "markdown",
   "metadata": {},
   "source": [
    "# 3. <a id='toc6_'></a>[MIXER LES DEUX TYPES DE RECOMMANDATION](#toc0_)"
   ]
  },
  {
   "cell_type": "markdown",
   "metadata": {},
   "source": [
    "Nous pouvons mixer les deux approches en combiant les deux fonction `cf_top_5` et `cb_top_5`.\n",
    "\n",
    "Afin de rationaliser les paramètres d'entrée, nous effectuerons une jointure entre nos dataframe des données *clicks* (`X_cf_light` et `data_cb`). Cela aura pour conséquence de modifier certaines recommendations pour la partie *Content Base*.\n",
    "\n",
    "(Pour rappel, nous avions effectué un filtre sur les données *Collaborative Filtering*, avec un nombre minimal d'apparitions des articles, avec le paramètre `minimum_count`. Certains articles n'apparaîtreront donc plus pour la partie *Content Base* après la fusion)"
   ]
  },
  {
   "cell_type": "code",
   "execution_count": 68,
   "metadata": {},
   "outputs": [
    {
     "data": {
      "text/html": [
       "<div>\n",
       "<style scoped>\n",
       "    .dataframe tbody tr th:only-of-type {\n",
       "        vertical-align: middle;\n",
       "    }\n",
       "\n",
       "    .dataframe tbody tr th {\n",
       "        vertical-align: top;\n",
       "    }\n",
       "\n",
       "    .dataframe thead th {\n",
       "        text-align: right;\n",
       "    }\n",
       "</style>\n",
       "<table border=\"1\" class=\"dataframe\">\n",
       "  <thead>\n",
       "    <tr style=\"text-align: right;\">\n",
       "      <th></th>\n",
       "      <th>user_id</th>\n",
       "      <th>click_timestamp</th>\n",
       "      <th>article_id</th>\n",
       "      <th>category_id</th>\n",
       "      <th>rating</th>\n",
       "    </tr>\n",
       "  </thead>\n",
       "  <tbody>\n",
       "    <tr>\n",
       "      <th>0</th>\n",
       "      <td>317399</td>\n",
       "      <td>2017-10-19 16:24:07.392</td>\n",
       "      <td>336587</td>\n",
       "      <td>437</td>\n",
       "      <td>0.075264</td>\n",
       "    </tr>\n",
       "    <tr>\n",
       "      <th>1</th>\n",
       "      <td>317399</td>\n",
       "      <td>2017-10-19 16:23:39.704</td>\n",
       "      <td>285849</td>\n",
       "      <td>412</td>\n",
       "      <td>0.212186</td>\n",
       "    </tr>\n",
       "    <tr>\n",
       "      <th>2</th>\n",
       "      <td>215206</td>\n",
       "      <td>2017-10-18 07:48:09.240</td>\n",
       "      <td>285642</td>\n",
       "      <td>412</td>\n",
       "      <td>0.031609</td>\n",
       "    </tr>\n",
       "    <tr>\n",
       "      <th>3</th>\n",
       "      <td>20310</td>\n",
       "      <td>2017-10-17 21:32:04.795</td>\n",
       "      <td>285642</td>\n",
       "      <td>412</td>\n",
       "      <td>0.027188</td>\n",
       "    </tr>\n",
       "    <tr>\n",
       "      <th>4</th>\n",
       "      <td>82782</td>\n",
       "      <td>2017-10-17 20:51:55.181</td>\n",
       "      <td>285642</td>\n",
       "      <td>412</td>\n",
       "      <td>0.028066</td>\n",
       "    </tr>\n",
       "    <tr>\n",
       "      <th>...</th>\n",
       "      <td>...</td>\n",
       "      <td>...</td>\n",
       "      <td>...</td>\n",
       "      <td>...</td>\n",
       "      <td>...</td>\n",
       "    </tr>\n",
       "    <tr>\n",
       "      <th>740272</th>\n",
       "      <td>154</td>\n",
       "      <td>2017-10-01 03:00:34.207</td>\n",
       "      <td>108854</td>\n",
       "      <td>230</td>\n",
       "      <td>0.000000</td>\n",
       "    </tr>\n",
       "    <tr>\n",
       "      <th>740273</th>\n",
       "      <td>79</td>\n",
       "      <td>2017-10-01 03:00:31.702</td>\n",
       "      <td>205897</td>\n",
       "      <td>331</td>\n",
       "      <td>0.000000</td>\n",
       "    </tr>\n",
       "    <tr>\n",
       "      <th>740274</th>\n",
       "      <td>70</td>\n",
       "      <td>2017-10-01 03:00:18.863</td>\n",
       "      <td>119592</td>\n",
       "      <td>247</td>\n",
       "      <td>0.000000</td>\n",
       "    </tr>\n",
       "    <tr>\n",
       "      <th>740275</th>\n",
       "      <td>154</td>\n",
       "      <td>2017-10-01 03:00:04.207</td>\n",
       "      <td>96663</td>\n",
       "      <td>209</td>\n",
       "      <td>0.000000</td>\n",
       "    </tr>\n",
       "    <tr>\n",
       "      <th>740276</th>\n",
       "      <td>79</td>\n",
       "      <td>2017-10-01 03:00:01.702</td>\n",
       "      <td>159359</td>\n",
       "      <td>281</td>\n",
       "      <td>0.000000</td>\n",
       "    </tr>\n",
       "  </tbody>\n",
       "</table>\n",
       "<p>740277 rows × 5 columns</p>\n",
       "</div>"
      ],
      "text/plain": [
       "       user_id         click_timestamp  article_id category_id    rating\n",
       "0       317399 2017-10-19 16:24:07.392      336587         437  0.075264\n",
       "1       317399 2017-10-19 16:23:39.704      285849         412  0.212186\n",
       "2       215206 2017-10-18 07:48:09.240      285642         412  0.031609\n",
       "3        20310 2017-10-17 21:32:04.795      285642         412  0.027188\n",
       "4        82782 2017-10-17 20:51:55.181      285642         412  0.028066\n",
       "...        ...                     ...         ...         ...       ...\n",
       "740272     154 2017-10-01 03:00:34.207      108854         230  0.000000\n",
       "740273      79 2017-10-01 03:00:31.702      205897         331  0.000000\n",
       "740274      70 2017-10-01 03:00:18.863      119592         247  0.000000\n",
       "740275     154 2017-10-01 03:00:04.207       96663         209  0.000000\n",
       "740276      79 2017-10-01 03:00:01.702      159359         281  0.000000\n",
       "\n",
       "[740277 rows x 5 columns]"
      ]
     },
     "execution_count": 68,
     "metadata": {},
     "output_type": "execute_result"
    }
   ],
   "source": [
    "# merge \"cf\" data et \"cb\" data\n",
    "if \"data_light.joblib\" not in os.listdir(\"mySaves/prod_files\") :\n",
    "    # filter \"data_cb_light\" on articles contained in \"X_cf_light\"\n",
    "    mask = data_cb_light[\"article_id\"].isin(X_cf_light[\"article_id\"].unique())\n",
    "    data_light = data_cb_light.loc[mask]\n",
    "    # merge\n",
    "    # (If \"on\" is None and not merging on indexes then this defaults to the intersection of the columns in both DataFrames.)\n",
    "    data_light = data_light.merge(X_cf_light, how=\"inner\", on=None)\n",
    "    # save\n",
    "    dump(data_light, \"mySaves/prod_files/data_light.joblib\")\n",
    "\n",
    "else :\n",
    "    data_light = load(\"mySaves/prod_files/data_light.joblib\")\n",
    "\n",
    "data_light"
   ]
  },
  {
   "cell_type": "markdown",
   "metadata": {},
   "source": [
    "La fonction `cf_and_cb_mix_top_5` est donc un mix entre `cf_top_5` et `cb_top_5`. Afin de rester sur notre objectif de **5 recommandations**, nous rajoutons un paramètre `n_cf` qui correspond au nombre d'articles à conserver de la prédiction par *Collaborative Filtering*."
   ]
  },
  {
   "cell_type": "code",
   "execution_count": 69,
   "metadata": {},
   "outputs": [
    {
     "name": "stdout",
     "output_type": "stream",
     "text": [
      "Recommendations for user 203083 :\n",
      "Collaborative filtering : [144979, 119066, 142086, 289203, 234698]\n",
      "Content base : [62416, 62166, 62569, 66950, 66523]\n",
      "Hybrid model (3 from CF, 2 from CB) : [144979, 119066, 142086, 62416, 62166]\n"
     ]
    }
   ],
   "source": [
    "# test a mix of collaborative filtering and content base\n",
    "\n",
    "# number of recommendations from collaborative filtering\n",
    "n_cf = 3\n",
    "# collaborative filtering model\n",
    "cf_top_5 = mf.cf_top_5(\n",
    "    user_id=test_user_id, \n",
    "    data_cf=data_light[[\"user_id\", \"article_id\", \"rating\"]], \n",
    "    trained_model=light_model,\n",
    ")\n",
    "print(f'Recommendations for user {test_user_id} :')\n",
    "print(\"Collaborative filtering :\", cf_top_5)\n",
    "# content base model\n",
    "cb_top_5 = mf.cb_top_5(\n",
    "    user_id=test_user_id, \n",
    "    data_cb=data_light[[\"user_id\", \"click_timestamp\", \"article_id\", \"category_id\"]], \n",
    "    emb=emb_reduced,\n",
    "    meta=meta_cb\n",
    ")\n",
    "print(\"Content base :\", cb_top_5)\n",
    "# use new custom function \"cf_and_cb_mix_top_5\"\n",
    "mix_top_5 = mf.cf_and_cb_mix_top_5(\n",
    "    user_id=test_user_id, \n",
    "    n_cf=n_cf,\n",
    "    data=data_light, \n",
    "    trained_model=load(\"mySaves/prod_files/collab_model_light.joblib\"),\n",
    "    emb=emb_reduced,\n",
    "    meta=meta_cb\n",
    ")\n",
    "print(f\"Hybrid model ({n_cf} from CF, {5-n_cf} from CB) :\", mix_top_5)"
   ]
  }
 ],
 "metadata": {
  "kernelspec": {
   "display_name": "envProject9",
   "language": "python",
   "name": "python3"
  },
  "language_info": {
   "codemirror_mode": {
    "name": "ipython",
    "version": 3
   },
   "file_extension": ".py",
   "mimetype": "text/x-python",
   "name": "python",
   "nbconvert_exporter": "python",
   "pygments_lexer": "ipython3",
   "version": "3.11.8"
  }
 },
 "nbformat": 4,
 "nbformat_minor": 2
}
