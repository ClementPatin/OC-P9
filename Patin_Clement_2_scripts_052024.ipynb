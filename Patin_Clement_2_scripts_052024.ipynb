{
 "cells": [
  {
   "cell_type": "markdown",
   "metadata": {},
   "source": [
    "# RÉALISEZ UNE APPLICATION DE RECOMMANDATION DE CONTENU"
   ]
  },
  {
   "cell_type": "markdown",
   "metadata": {},
   "source": [
    "<img src=\"mySaves/images/myContentLogo.png\" alt=\"logo_myContent\" width=\"400\" class=\"center\"/>"
   ]
  },
  {
   "cell_type": "markdown",
   "metadata": {},
   "source": [
    "# SOMMAIRE"
   ]
  },
  {
   "cell_type": "markdown",
   "metadata": {},
   "source": []
  },
  {
   "cell_type": "markdown",
   "metadata": {},
   "source": [
    "# 0. PRÉAMBULE"
   ]
  },
  {
   "cell_type": "markdown",
   "metadata": {},
   "source": [
    "## 0.1. Imports"
   ]
  },
  {
   "cell_type": "markdown",
   "metadata": {},
   "source": [
    "Commençons par charger les librairies nécessaires"
   ]
  },
  {
   "cell_type": "code",
   "execution_count": 94,
   "metadata": {},
   "outputs": [
    {
     "name": "stdout",
     "output_type": "stream",
     "text": [
      "The autoreload extension is already loaded. To reload it, use:\n",
      "  %reload_ext autoreload\n"
     ]
    }
   ],
   "source": [
    "# import necessary packages\n",
    "\n",
    "# manipulate files\n",
    "import os\n",
    "from joblib import load, dump\n",
    "# manipulate data\n",
    "import pandas as pd\n",
    "import numpy as np\n",
    "# plots\n",
    "import matplotlib.pyplot as plt\n",
    "%matplotlib inline\n",
    "from PIL import Image\n",
    "import seaborn as sns\n",
    "# custom functions\n",
    "import myFunctions as mf\n",
    "%load_ext autoreload\n",
    "%autoreload 2\n",
    "# datetime\n",
    "import dateutil.relativedelta\n",
    "import datetime\n",
    "# collaborative filtering\n",
    "from surprise import Reader, Dataset, accuracy\n",
    "from surprise import SVD\n",
    "from surprise.model_selection import train_test_split, cross_validate, GridSearchCV, KFold\n",
    "# other tools\n",
    "import time\n",
    "import gc\n"
   ]
  },
  {
   "cell_type": "markdown",
   "metadata": {},
   "source": [
    "Créons un dossier pour nos sauvegardes :"
   ]
  },
  {
   "cell_type": "code",
   "execution_count": 2,
   "metadata": {},
   "outputs": [],
   "source": [
    "# create folder for saving\n",
    "if not os.path.isdir(\"mySaves\"):\n",
    "    os.mkdir(\"mySaves\")"
   ]
  },
  {
   "cell_type": "markdown",
   "metadata": {},
   "source": [
    "## 0.2. Le projet"
   ]
  },
  {
   "cell_type": "markdown",
   "metadata": {},
   "source": [
    "## 0.3. Charger et explorer les données"
   ]
  },
  {
   "cell_type": "markdown",
   "metadata": {},
   "source": [
    "### 0.3.1. Les fichiers à notre disposition"
   ]
  },
  {
   "cell_type": "markdown",
   "metadata": {},
   "source": [
    "Les données représentent les intéractions avec des utilisateurs avec les articles disponibles. Elles sont organisées en plusieurs parties :\n",
    "- **clicks** :\n",
    "    - `clicks_sample.csv`\n",
    "    - `clicks/` :\n",
    "        - `clicks_hour_000.csv`\n",
    "        - `clicks_hour_001.csv`\n",
    "        - ...\n",
    "        - `clicks_hour_383.csv`\n",
    "        - `clicks_hour_384.csv`\n",
    "- **articles** :\n",
    "    - `articles_metadata.csv`\n",
    "    - `articles_embeddings.pickle`"
   ]
  },
  {
   "cell_type": "markdown",
   "metadata": {},
   "source": [
    "### 0.3.2. Les données *clicks*"
   ]
  },
  {
   "cell_type": "markdown",
   "metadata": {},
   "source": [
    "#### 0.3.2.1. Échantillon"
   ]
  },
  {
   "cell_type": "markdown",
   "metadata": {},
   "source": [
    "Regardons tout d'abord le fichier `clicks_sample.csv` :"
   ]
  },
  {
   "cell_type": "code",
   "execution_count": 3,
   "metadata": {},
   "outputs": [
    {
     "data": {
      "text/html": [
       "<div>\n",
       "<style scoped>\n",
       "    .dataframe tbody tr th:only-of-type {\n",
       "        vertical-align: middle;\n",
       "    }\n",
       "\n",
       "    .dataframe tbody tr th {\n",
       "        vertical-align: top;\n",
       "    }\n",
       "\n",
       "    .dataframe thead th {\n",
       "        text-align: right;\n",
       "    }\n",
       "</style>\n",
       "<table border=\"1\" class=\"dataframe\">\n",
       "  <thead>\n",
       "    <tr style=\"text-align: right;\">\n",
       "      <th></th>\n",
       "      <th>user_id</th>\n",
       "      <th>session_id</th>\n",
       "      <th>session_start</th>\n",
       "      <th>session_size</th>\n",
       "      <th>click_article_id</th>\n",
       "      <th>click_timestamp</th>\n",
       "      <th>click_environment</th>\n",
       "      <th>click_deviceGroup</th>\n",
       "      <th>click_os</th>\n",
       "      <th>click_country</th>\n",
       "      <th>click_region</th>\n",
       "      <th>click_referrer_type</th>\n",
       "    </tr>\n",
       "  </thead>\n",
       "  <tbody>\n",
       "    <tr>\n",
       "      <th>0</th>\n",
       "      <td>0</td>\n",
       "      <td>1506825423271737</td>\n",
       "      <td>1506825423000</td>\n",
       "      <td>2</td>\n",
       "      <td>157541</td>\n",
       "      <td>1506826828020</td>\n",
       "      <td>4</td>\n",
       "      <td>3</td>\n",
       "      <td>20</td>\n",
       "      <td>1</td>\n",
       "      <td>20</td>\n",
       "      <td>2</td>\n",
       "    </tr>\n",
       "    <tr>\n",
       "      <th>1</th>\n",
       "      <td>0</td>\n",
       "      <td>1506825423271737</td>\n",
       "      <td>1506825423000</td>\n",
       "      <td>2</td>\n",
       "      <td>68866</td>\n",
       "      <td>1506826858020</td>\n",
       "      <td>4</td>\n",
       "      <td>3</td>\n",
       "      <td>20</td>\n",
       "      <td>1</td>\n",
       "      <td>20</td>\n",
       "      <td>2</td>\n",
       "    </tr>\n",
       "    <tr>\n",
       "      <th>2</th>\n",
       "      <td>1</td>\n",
       "      <td>1506825426267738</td>\n",
       "      <td>1506825426000</td>\n",
       "      <td>2</td>\n",
       "      <td>235840</td>\n",
       "      <td>1506827017951</td>\n",
       "      <td>4</td>\n",
       "      <td>1</td>\n",
       "      <td>17</td>\n",
       "      <td>1</td>\n",
       "      <td>16</td>\n",
       "      <td>2</td>\n",
       "    </tr>\n",
       "    <tr>\n",
       "      <th>3</th>\n",
       "      <td>1</td>\n",
       "      <td>1506825426267738</td>\n",
       "      <td>1506825426000</td>\n",
       "      <td>2</td>\n",
       "      <td>96663</td>\n",
       "      <td>1506827047951</td>\n",
       "      <td>4</td>\n",
       "      <td>1</td>\n",
       "      <td>17</td>\n",
       "      <td>1</td>\n",
       "      <td>16</td>\n",
       "      <td>2</td>\n",
       "    </tr>\n",
       "    <tr>\n",
       "      <th>4</th>\n",
       "      <td>2</td>\n",
       "      <td>1506825435299739</td>\n",
       "      <td>1506825435000</td>\n",
       "      <td>2</td>\n",
       "      <td>119592</td>\n",
       "      <td>1506827090575</td>\n",
       "      <td>4</td>\n",
       "      <td>1</td>\n",
       "      <td>17</td>\n",
       "      <td>1</td>\n",
       "      <td>24</td>\n",
       "      <td>2</td>\n",
       "    </tr>\n",
       "    <tr>\n",
       "      <th>...</th>\n",
       "      <td>...</td>\n",
       "      <td>...</td>\n",
       "      <td>...</td>\n",
       "      <td>...</td>\n",
       "      <td>...</td>\n",
       "      <td>...</td>\n",
       "      <td>...</td>\n",
       "      <td>...</td>\n",
       "      <td>...</td>\n",
       "      <td>...</td>\n",
       "      <td>...</td>\n",
       "      <td>...</td>\n",
       "    </tr>\n",
       "    <tr>\n",
       "      <th>1878</th>\n",
       "      <td>705</td>\n",
       "      <td>1506828968165442</td>\n",
       "      <td>1506828968000</td>\n",
       "      <td>2</td>\n",
       "      <td>119592</td>\n",
       "      <td>1506830912301</td>\n",
       "      <td>4</td>\n",
       "      <td>1</td>\n",
       "      <td>17</td>\n",
       "      <td>1</td>\n",
       "      <td>21</td>\n",
       "      <td>2</td>\n",
       "    </tr>\n",
       "    <tr>\n",
       "      <th>1879</th>\n",
       "      <td>705</td>\n",
       "      <td>1506828968165442</td>\n",
       "      <td>1506828968000</td>\n",
       "      <td>2</td>\n",
       "      <td>284847</td>\n",
       "      <td>1506830942301</td>\n",
       "      <td>4</td>\n",
       "      <td>1</td>\n",
       "      <td>17</td>\n",
       "      <td>1</td>\n",
       "      <td>21</td>\n",
       "      <td>2</td>\n",
       "    </tr>\n",
       "    <tr>\n",
       "      <th>1880</th>\n",
       "      <td>706</td>\n",
       "      <td>1506828979881443</td>\n",
       "      <td>1506828979000</td>\n",
       "      <td>3</td>\n",
       "      <td>108854</td>\n",
       "      <td>1506829027334</td>\n",
       "      <td>4</td>\n",
       "      <td>3</td>\n",
       "      <td>2</td>\n",
       "      <td>1</td>\n",
       "      <td>25</td>\n",
       "      <td>1</td>\n",
       "    </tr>\n",
       "    <tr>\n",
       "      <th>1881</th>\n",
       "      <td>706</td>\n",
       "      <td>1506828979881443</td>\n",
       "      <td>1506828979000</td>\n",
       "      <td>3</td>\n",
       "      <td>96663</td>\n",
       "      <td>1506829095732</td>\n",
       "      <td>4</td>\n",
       "      <td>3</td>\n",
       "      <td>2</td>\n",
       "      <td>1</td>\n",
       "      <td>25</td>\n",
       "      <td>1</td>\n",
       "    </tr>\n",
       "    <tr>\n",
       "      <th>1882</th>\n",
       "      <td>706</td>\n",
       "      <td>1506828979881443</td>\n",
       "      <td>1506828979000</td>\n",
       "      <td>3</td>\n",
       "      <td>68866</td>\n",
       "      <td>1506829125732</td>\n",
       "      <td>4</td>\n",
       "      <td>3</td>\n",
       "      <td>2</td>\n",
       "      <td>1</td>\n",
       "      <td>25</td>\n",
       "      <td>1</td>\n",
       "    </tr>\n",
       "  </tbody>\n",
       "</table>\n",
       "<p>1883 rows × 12 columns</p>\n",
       "</div>"
      ],
      "text/plain": [
       "      user_id        session_id  session_start  session_size  \\\n",
       "0           0  1506825423271737  1506825423000             2   \n",
       "1           0  1506825423271737  1506825423000             2   \n",
       "2           1  1506825426267738  1506825426000             2   \n",
       "3           1  1506825426267738  1506825426000             2   \n",
       "4           2  1506825435299739  1506825435000             2   \n",
       "...       ...               ...            ...           ...   \n",
       "1878      705  1506828968165442  1506828968000             2   \n",
       "1879      705  1506828968165442  1506828968000             2   \n",
       "1880      706  1506828979881443  1506828979000             3   \n",
       "1881      706  1506828979881443  1506828979000             3   \n",
       "1882      706  1506828979881443  1506828979000             3   \n",
       "\n",
       "      click_article_id  click_timestamp  click_environment  click_deviceGroup  \\\n",
       "0               157541    1506826828020                  4                  3   \n",
       "1                68866    1506826858020                  4                  3   \n",
       "2               235840    1506827017951                  4                  1   \n",
       "3                96663    1506827047951                  4                  1   \n",
       "4               119592    1506827090575                  4                  1   \n",
       "...                ...              ...                ...                ...   \n",
       "1878            119592    1506830912301                  4                  1   \n",
       "1879            284847    1506830942301                  4                  1   \n",
       "1880            108854    1506829027334                  4                  3   \n",
       "1881             96663    1506829095732                  4                  3   \n",
       "1882             68866    1506829125732                  4                  3   \n",
       "\n",
       "      click_os  click_country  click_region  click_referrer_type  \n",
       "0           20              1            20                    2  \n",
       "1           20              1            20                    2  \n",
       "2           17              1            16                    2  \n",
       "3           17              1            16                    2  \n",
       "4           17              1            24                    2  \n",
       "...        ...            ...           ...                  ...  \n",
       "1878        17              1            21                    2  \n",
       "1879        17              1            21                    2  \n",
       "1880         2              1            25                    1  \n",
       "1881         2              1            25                    1  \n",
       "1882         2              1            25                    1  \n",
       "\n",
       "[1883 rows x 12 columns]"
      ]
     },
     "execution_count": 3,
     "metadata": {},
     "output_type": "execute_result"
    }
   ],
   "source": [
    "# load clicks_sample in a dataframe\n",
    "clicks_sample_df = pd.read_csv(\"news-portal-user-interactions-by-globocom/clicks_sample.csv\")\n",
    "clicks_sample_df"
   ]
  },
  {
   "cell_type": "markdown",
   "metadata": {},
   "source": [
    "Ce fichier est un échantillon et nous permet de comprendre les différentes features à notre disposition. Regardons chacune d'elle grâce à la fonction `myDescribe` :"
   ]
  },
  {
   "cell_type": "code",
   "execution_count": 4,
   "metadata": {},
   "outputs": [
    {
     "data": {
      "application/vnd.jupyter.widget-view+json": {
       "model_id": "169756294a4343199b8f180bb23e7663",
       "version_major": 2,
       "version_minor": 0
      },
      "text/plain": [
       "HBox(children=(RadioButtons(description='Which features :', index=2, options=('quantitative', 'qualitative', '…"
      ]
     },
     "metadata": {},
     "output_type": "display_data"
    },
    {
     "data": {
      "application/vnd.jupyter.widget-view+json": {
       "model_id": "07982aac6d894bdfb115103348ae153d",
       "version_major": 2,
       "version_minor": 0
      },
      "text/plain": [
       "Output()"
      ]
     },
     "metadata": {},
     "output_type": "display_data"
    }
   ],
   "source": [
    "# use custom function \"myDescribe\" on \"clicks_sample_df\"\n",
    "mf.myDescribe(clicks_sample_df)"
   ]
  },
  {
   "cell_type": "markdown",
   "metadata": {},
   "source": [
    "Les features sont décrites ici : https://www.kaggle.com/datasets/gspmoreira/news-portal-user-interactions-by-globocom?select=clicks_sample.csv\n",
    "\n",
    "Ce que l'on peut en retenir :\n",
    "- `user_id` : l'identifiant de l'utilisateur\n",
    "- `session_id` : un identifiant donnée à la session dans laquelle le click a lieu. Tous les clicks d'une session d'utilisation ont donc le même identifiant\n",
    "- `session_start` : horodatage du début de la session. De type *Unix time*, mais en **ms**\n",
    "- `session_size` : nombre de clicks dans la session d'utilisation. Pour le fichier échantillon, compris entre 2 et 46.\n",
    "- `click_article_id` : identifiant de l'article sur lequel le click a eu lieu\n",
    "- `click_timestamp` : horodatage du click\n",
    "- `click_environment` : environnement d'utilisation (`1` - *Facebook Instant Article*, `2` - *Mobile App*, `3` - *AMP (Accelerated Modile Pages)*, `4` - Web). Pour l'échantllon, la grande majorité des clicks ont eu lieu sur le site web.\n",
    "- `click_deviceGroup` : type d'appareil utilisé (`1` - Tablette, `2` - télévision, `3` - vide (inconnu), `4` - smartphone, `5` - ordinateur de bureau)\n",
    "- `click_os` : système d'exploitation de l'appareil. Peut être considérée comme catégorielle.\n",
    "- `click_country` : identifiant donné au pays de l'utilisateur. La plupart des clicks ont été effectués depuis le pays 1.\n",
    "- `click_region` : identifiant donné à la région de l'utilisateur\n",
    "- `click_referrer_type` : inconnu\n",
    "\n",
    "Mise à part `session_size`, `click_timestamp` et `session_start`, les colonnes peuvent être considérées comme catégorielles."
   ]
  },
  {
   "cell_type": "code",
   "execution_count": 5,
   "metadata": {},
   "outputs": [
    {
     "data": {
      "text/plain": [
       "0"
      ]
     },
     "execution_count": 5,
     "metadata": {},
     "output_type": "execute_result"
    }
   ],
   "source": [
    "del clicks_sample_df\n",
    "gc.collect()"
   ]
  },
  {
   "cell_type": "markdown",
   "metadata": {},
   "source": [
    "#### 0.3.2.2. Charger toutes les données *clicks*"
   ]
  },
  {
   "cell_type": "markdown",
   "metadata": {},
   "source": [
    "Chargeons maintenant l'ensemble des données `clicks_hour_xxx`. Pour cela nous avons rédigé une fonction `read_all_clicks` :"
   ]
  },
  {
   "cell_type": "code",
   "execution_count": 58,
   "metadata": {},
   "outputs": [],
   "source": [
    "# create folder for saving\n",
    "if not os.path.isdir(\"mySaves/working_dfs\"):\n",
    "    os.mkdir(\"mySaves/working_dfs\")"
   ]
  },
  {
   "cell_type": "code",
   "execution_count": 73,
   "metadata": {},
   "outputs": [],
   "source": [
    "# use custom function \"read_all_clicks\"\n",
    "if \"clicks_df.joblib\" not in os.listdir(\"mySaves/working_dfs\") : \n",
    "    clicks_df = mf.read_all_clicks(clicks_folder_path=\"news-portal-user-interactions-by-globocom/clicks\", usecols = None)\n",
    "    # save\n",
    "    # clicks_df.to_csv(path_or_buf=\"mySaves/working_dfs/clicks_df.csv\", index=False)\n",
    "    dump(clicks_df, \"mySaves/working_dfs/clicks_df.joblib\")\n",
    "    \n",
    "else :\n",
    "    # load\n",
    "    clicks_df = load(\"mySaves/working_dfs/clicks_df.joblib\")\n"
   ]
  },
  {
   "cell_type": "markdown",
   "metadata": {},
   "source": [
    "#### 0.3.2.3. La taille de la session `session_size`"
   ]
  },
  {
   "cell_type": "markdown",
   "metadata": {},
   "source": [
    "Regardons la distribution de `session_size` :"
   ]
  },
  {
   "cell_type": "code",
   "execution_count": 7,
   "metadata": {},
   "outputs": [],
   "source": [
    "# create folder for saving\n",
    "if not os.path.isdir(\"mySaves/images\"):\n",
    "    os.mkdir(\"mySaves/images\")\n",
    "if not os.path.isdir(\"mySaves/images/plots\"):\n",
    "    os.mkdir(\"mySaves/images/plots\")"
   ]
  },
  {
   "cell_type": "code",
   "execution_count": 8,
   "metadata": {},
   "outputs": [
    {
     "data": {
      "image/png": "[encoded data removed]",
      "text/plain": [
       "<PIL.PngImagePlugin.PngImageFile image mode=RGBA size=1400x700>"
      ]
     },
     "metadata": {},
     "output_type": "display_data"
    }
   ],
   "source": [
    "# plot distribution of \"session_size\"\n",
    "\n",
    "if \"distrib_session_size.png\" not in os.listdir(\"mySaves/images/plots\") :\n",
    "    # create figure\n",
    "    fig, (ax_hist, ax_box) = plt.subplots(2,1,figsize=(14,7), height_ratios=[0.9,0.1], sharex=True)\n",
    "\n",
    "    # no space between plots\n",
    "    plt.subplots_adjust(hspace=0)\n",
    "\n",
    "    # clip values\n",
    "    upper = 20\n",
    "    session_size_clip = clicks_df[\"session_size\"].clip(lower=0, upper=upper)\n",
    "\n",
    "    ## boxplot\n",
    "\n",
    "    sns.boxplot(x=session_size_clip, ax=ax_box)\n",
    "\n",
    "    ## histogram\n",
    "\n",
    "    # plot\n",
    "    sns.histplot(session_size_clip, bins=upper, binrange=(0.5,upper+0.5), ax=ax_hist)\n",
    "\n",
    "    # y logscale\n",
    "    ax_hist.set_yscale(\"log\")\n",
    "    ax_hist.set_ylabel(\"Count - log scale\")\n",
    "    ax_hist.set_ylim(10**3,2*10**6)\n",
    "    ax_hist.grid(True, axis=\"y\", which='both')\n",
    "\n",
    "    # x tick labels\n",
    "    xticks = np.arange(1,upper+1)\n",
    "    ax_hist.set_xticks(ticks=xticks, labels=[str(i) for i in xticks[:-1]]+[\">=\"+str(upper)])\n",
    "    ax_hist.tick_params(axis=\"x\", bottom=False)\n",
    "\n",
    "    # title\n",
    "    fig.suptitle(\"'session_size' - Empirical distribution\")\n",
    "\n",
    "    fig.savefig(fname=\"mySaves/images/plots/distrib_session_size.png\")\n",
    "\n",
    "    plt.show()\n",
    "\n",
    "else :\n",
    "    # load image\n",
    "    display(Image.open(\"mySaves/images/plots/distrib_session_size.png\"))\n",
    "    "
   ]
  },
  {
   "cell_type": "markdown",
   "metadata": {},
   "source": [
    "Ce que l'on peut en retenir :\n",
    "- il n'existe pas une seule session avec un click unique. Il s'agit peut-être d'un choix opéré par le créateur du dataset\n",
    "- nous avons été contraint de tracer le graph avec une échelle logarithmique : la très grande majorité des sessions comporte peu de clicks"
   ]
  },
  {
   "cell_type": "markdown",
   "metadata": {},
   "source": [
    "#### 0.3.2.4. Les données temporelles `session_start` et `click_timestamp`"
   ]
  },
  {
   "cell_type": "markdown",
   "metadata": {},
   "source": [
    "Maintenant que ces features sont converties en type `datetime`, observons-les de nouveau :"
   ]
  },
  {
   "cell_type": "code",
   "execution_count": 9,
   "metadata": {},
   "outputs": [
    {
     "data": {
      "application/vnd.jupyter.widget-view+json": {
       "model_id": "9f44d1607ad24106924a41bcae5f02ee",
       "version_major": 2,
       "version_minor": 0
      },
      "text/plain": [
       "HBox(children=(RadioButtons(description='Which features :', index=2, options=('quantitative', 'qualitative', '…"
      ]
     },
     "metadata": {},
     "output_type": "display_data"
    },
    {
     "data": {
      "application/vnd.jupyter.widget-view+json": {
       "model_id": "d1a52558065345969af4541c340b1fa1",
       "version_major": 2,
       "version_minor": 0
      },
      "text/plain": [
       "Output()"
      ]
     },
     "metadata": {},
     "output_type": "display_data"
    }
   ],
   "source": [
    "# use custom function myDescribe on datetime features\n",
    "mf.myDescribe(clicks_df[[\"session_start\", \"click_timestamp\"]])"
   ]
  },
  {
   "cell_type": "markdown",
   "metadata": {},
   "source": [
    "Ce que l'on peut retenir :\n",
    "- les sessions de notre dataset ont démarré entre le 1er octobre et le 17 octobre 2017\n",
    "- la grande majorité des clicks s'étale sur cette même période\n",
    "- il y a cependant des clicks survenus bien après, jusqu'à 13 novembre...\n",
    "- ces cas sont peu nombreux\n",
    "\n",
    "Les temps de session doivent être alors anormalement élevés :"
   ]
  },
  {
   "cell_type": "code",
   "execution_count": 10,
   "metadata": {},
   "outputs": [
    {
     "data": {
      "image/png": "[encoded data removed]",
      "text/plain": [
       "<PIL.PngImagePlugin.PngImageFile image mode=RGBA size=1400x800>"
      ]
     },
     "metadata": {},
     "output_type": "display_data"
    }
   ],
   "source": [
    "# explore clicks after october 17th\n",
    "\n",
    "if \"late_clicks_explore.png\" not in os.listdir(\"mySaves/images/plots\") :\n",
    "\n",
    "    # make copy\n",
    "    explore_late_clicks = clicks_df.copy()\n",
    "    # compute time between the click and session start\n",
    "    explore_late_clicks[\"time_from_session_start (in days)\"] = (explore_late_clicks[\"click_timestamp\"] - explore_late_clicks[\"session_start\"]).dt.days\n",
    "    # feature to tag clicks after october 17th\n",
    "    explore_late_clicks[\"late_clicks?\"] = explore_late_clicks[\"click_timestamp\"].apply(lambda x : \"after oct 17th\" if x > datetime.datetime(year=2017, month=10, day=18) else \"before oct 17th\")\n",
    "\n",
    "    ## plot \"time_from_session_start\", \"session_size\", \"click_environment\", \"click_deviceGroup\" distributions by \"late_clicks?\"\n",
    "\n",
    "    # create figure\n",
    "    fig, axs = plt.subplots(2,2, figsize=(14,8))\n",
    "    axs = axs.flatten()\n",
    "\n",
    "    # box plots for \"time_from_session_start\" and \"session_size\"\n",
    "    sns.boxplot(data=explore_late_clicks, x=\"time_from_session_start (in days)\", hue=\"late_clicks?\", ax=axs[0])\n",
    "    sns.boxplot(data=explore_late_clicks, x=\"session_size\", hue=\"late_clicks?\", ax=axs[1])\n",
    "\n",
    "    # barplots for \"click_environment\" and \"click_deviceGroup\"\n",
    "    for ax, col in zip([axs[2], axs[3]],[\"click_environment\", \"click_deviceGroup\"]) :\n",
    "        # create mask to filter \"explore_late_clicks\" by \"late_clicks?\"\n",
    "        mask = explore_late_clicks[\"late_clicks?\"] == \"after oct 17th\"\n",
    "        # filter and \"value_counts\"\n",
    "        late_prop = explore_late_clicks.loc[mask, col].value_counts(normalize=True).to_frame()\n",
    "        late_prop[\"late_clicks?\"] = \"after oct 17th\"\n",
    "        casual_prop = explore_late_clicks.loc[~mask, col].value_counts(normalize=True).to_frame()\n",
    "        casual_prop[\"late_clicks?\"] = \"before oct 17th\"\n",
    "        # concatenate\n",
    "        prop = pd.concat([casual_prop, late_prop]).reset_index()\n",
    "        # plot\n",
    "        sns.barplot(data=prop, x=col, y=\"proportion\", hue=\"late_clicks?\", ax=ax, edgecolor=\"k\")\n",
    "\n",
    "    # titles\n",
    "    for i,col in enumerate([\"time_from_session_start\", \"session_size\", \"click_environment\", \"click_deviceGroup\"]) :\n",
    "        axs[i].set_title(col)\n",
    "        axs[i].set_xlabel(\"\")\n",
    "    fig.suptitle(\"Clicks after 2017 october 17th\")\n",
    "\n",
    "    # save\n",
    "    fig.savefig(\"mySaves/images/plots/late_clicks_explore.png\")\n",
    "\n",
    "    plt.show()\n",
    "\n",
    "    del explore_late_clicks\n",
    "    gc.collect()\n",
    "\n",
    "else :\n",
    "    # load image\n",
    "    display(Image.open(\"mySaves/images/plots/late_clicks_explore.png\"))"
   ]
  },
  {
   "cell_type": "markdown",
   "metadata": {},
   "source": [
    "On voit effectivement que les **durées de sessions sont majoritairement plus élevées après le 17 octobre 2017**, date de la dernière session prise en compte dans le dataset.\n",
    "\n",
    "On peut penser à un bug, ou bien à un navigateur resté ouvert.\n",
    "\n",
    "On remarque en effet que, passée cette date, 100% de l'utilisation s'est faite sur la **page web** de l'application, en très grande majorité depuis une tablette. L'application ne doit pas déconnecter automatiquement l'utilisateur passé une certaine durée."
   ]
  },
  {
   "cell_type": "markdown",
   "metadata": {},
   "source": [
    "Nous ne prendrons donc **pas en compte la taille de la session `session_size`** dans notre projet sur la recommendation, celle-ci n'étant pas vraiment représentative de la réalité."
   ]
  },
  {
   "cell_type": "markdown",
   "metadata": {},
   "source": [
    "En revanche il pourrait être intéressant d'utiliser `click_timestamp` pour notre système de notation *Collaborative Filtering*. **Il serait en effet pertinent que le *rating* prennent en compte le degré d'ancienneté de la consommation du contenu**."
   ]
  },
  {
   "cell_type": "markdown",
   "metadata": {},
   "source": [
    "#### 0.3.2.3. Les identifiants `user_id`, `session_id`, `click_article_id`"
   ]
  },
  {
   "cell_type": "markdown",
   "metadata": {},
   "source": [
    "Regardons les identifiants, qui pourront nous aider à contruire notre système de notation."
   ]
  },
  {
   "cell_type": "code",
   "execution_count": 11,
   "metadata": {},
   "outputs": [
    {
     "data": {
      "application/vnd.jupyter.widget-view+json": {
       "model_id": "1361161d3dc64b30b1bff934ce34a96b",
       "version_major": 2,
       "version_minor": 0
      },
      "text/plain": [
       "HBox(children=(RadioButtons(description='Which features :', index=2, options=('quantitative', 'qualitative', '…"
      ]
     },
     "metadata": {},
     "output_type": "display_data"
    },
    {
     "data": {
      "application/vnd.jupyter.widget-view+json": {
       "model_id": "bacf46e83df54d7482fdd75c13a3ff73",
       "version_major": 2,
       "version_minor": 0
      },
      "text/plain": [
       "Output()"
      ]
     },
     "metadata": {},
     "output_type": "display_data"
    }
   ],
   "source": [
    "# use custom function myDescribe on id features\n",
    "mf.myDescribe(clicks_df[[\"user_id\", \"session_id\", \"click_article_id\"]])"
   ]
  },
  {
   "cell_type": "markdown",
   "metadata": {},
   "source": [
    "Ce que l'on peut en retenir :\n",
    "- `user_id` : certains utilisateurs sont très actifs\n",
    "- `session_id` : certaines sessions sont très longues, ce qui est étonnant\n",
    "- `click_article_id` : nous avons **46033 articles différents** lus par les utilisateurs\n",
    "\n",
    "On peut combiner ces `id` et nous intéresser aux articles lus par utilisateurs :\n",
    "- combien ?\n",
    "- certains ont-ils était lus plusieurs fois (plusieurs clicks) ?"
   ]
  },
  {
   "cell_type": "code",
   "execution_count": 12,
   "metadata": {},
   "outputs": [
    {
     "data": {
      "application/vnd.jupyter.widget-view+json": {
       "model_id": "9f672d160fac49edb32418abe9dca9f2",
       "version_major": 2,
       "version_minor": 0
      },
      "text/plain": [
       "HBox(children=(RadioButtons(description='Which features :', index=2, options=('quantitative', 'qualitative', '…"
      ]
     },
     "metadata": {},
     "output_type": "display_data"
    },
    {
     "data": {
      "application/vnd.jupyter.widget-view+json": {
       "model_id": "85f66b8f0fd04efc9c52205003b22bf6",
       "version_major": 2,
       "version_minor": 0
      },
      "text/plain": [
       "Output()"
      ]
     },
     "metadata": {},
     "output_type": "display_data"
    }
   ],
   "source": [
    "# explore \"click_df\" by \"user_id\"\n",
    "\n",
    "# create a dictionnary with aggregation functions\n",
    "aggDict = {\"click_article_id\" : [\"count\", \"nunique\", mf.n_duplicates]}\n",
    "# aggregate\n",
    "clicks_by_uid = clicks_df.groupby(by=\"user_id\", observed=True).agg(func=aggDict)\n",
    "# handle columns names\n",
    "clicks_by_uid.columns = [col[0]+\"_\"+col[1].upper() for col in clicks_by_uid.columns]\n",
    "# use custom function myDescribe\n",
    "mf.myDescribe(clicks_by_uid)"
   ]
  },
  {
   "cell_type": "markdown",
   "metadata": {},
   "source": [
    "Ce que l'on peut en retenir :\n",
    "- La grande majorité des utilisateurs ont lu moins de 10 articles\n",
    "- Il y a cependant des utilisateurs très actifs qui perturbent la distribution. Il faudra **prendre garde à cela dans la construction de notre système de notation**\n",
    "- Concernant les doublons, les utilisateurs ont, dans presque l'ensemble, logiquement lu chaque article une seule fois\n",
    "- Certains ont cependant lu plusieurs fois certains articles. **Ce comportement mérite d'être étudié**\n",
    "\n",
    "Regardons un exemple :"
   ]
  },
  {
   "cell_type": "code",
   "execution_count": 13,
   "metadata": {},
   "outputs": [
    {
     "data": {
      "text/html": [
       "<div>\n",
       "<style scoped>\n",
       "    .dataframe tbody tr th:only-of-type {\n",
       "        vertical-align: middle;\n",
       "    }\n",
       "\n",
       "    .dataframe tbody tr th {\n",
       "        vertical-align: top;\n",
       "    }\n",
       "\n",
       "    .dataframe thead th {\n",
       "        text-align: right;\n",
       "    }\n",
       "</style>\n",
       "<table border=\"1\" class=\"dataframe\">\n",
       "  <thead>\n",
       "    <tr style=\"text-align: right;\">\n",
       "      <th></th>\n",
       "      <th>click_article_id_COUNT</th>\n",
       "      <th>click_article_id_NUNIQUE</th>\n",
       "      <th>click_article_id_N_DUPLICATES</th>\n",
       "    </tr>\n",
       "    <tr>\n",
       "      <th>user_id</th>\n",
       "      <th></th>\n",
       "      <th></th>\n",
       "      <th></th>\n",
       "    </tr>\n",
       "  </thead>\n",
       "  <tbody>\n",
       "    <tr>\n",
       "      <th>2151</th>\n",
       "      <td>722</td>\n",
       "      <td>513</td>\n",
       "      <td>209</td>\n",
       "    </tr>\n",
       "    <tr>\n",
       "      <th>15867</th>\n",
       "      <td>900</td>\n",
       "      <td>691</td>\n",
       "      <td>209</td>\n",
       "    </tr>\n",
       "  </tbody>\n",
       "</table>\n",
       "</div>"
      ],
      "text/plain": [
       "         click_article_id_COUNT  click_article_id_NUNIQUE  \\\n",
       "user_id                                                     \n",
       "2151                        722                       513   \n",
       "15867                       900                       691   \n",
       "\n",
       "         click_article_id_N_DUPLICATES  \n",
       "user_id                                 \n",
       "2151                               209  \n",
       "15867                              209  "
      ]
     },
     "execution_count": 13,
     "metadata": {},
     "output_type": "execute_result"
    }
   ],
   "source": [
    "# filter \"clicks_by_uid\" on \"N_DUPLICATES\" == 209 (the max)\n",
    "clicks_by_uid.loc[clicks_by_uid[\"click_article_id_N_DUPLICATES\"]==209]"
   ]
  },
  {
   "cell_type": "markdown",
   "metadata": {},
   "source": [
    "Regardons par exemple l'utilisateur `2151`, sur ses 30 dernier clicks :"
   ]
  },
  {
   "cell_type": "code",
   "execution_count": 14,
   "metadata": {},
   "outputs": [
    {
     "data": {
      "text/html": [
       "<div>\n",
       "<style scoped>\n",
       "    .dataframe tbody tr th:only-of-type {\n",
       "        vertical-align: middle;\n",
       "    }\n",
       "\n",
       "    .dataframe tbody tr th {\n",
       "        vertical-align: top;\n",
       "    }\n",
       "\n",
       "    .dataframe thead th {\n",
       "        text-align: right;\n",
       "    }\n",
       "</style>\n",
       "<table border=\"1\" class=\"dataframe\">\n",
       "  <thead>\n",
       "    <tr style=\"text-align: right;\">\n",
       "      <th></th>\n",
       "      <th>user_id</th>\n",
       "      <th>session_id</th>\n",
       "      <th>session_start</th>\n",
       "      <th>session_size</th>\n",
       "      <th>click_article_id</th>\n",
       "      <th>click_timestamp</th>\n",
       "      <th>click_environment</th>\n",
       "      <th>click_deviceGroup</th>\n",
       "      <th>click_os</th>\n",
       "      <th>click_country</th>\n",
       "      <th>click_region</th>\n",
       "      <th>click_referrer_type</th>\n",
       "    </tr>\n",
       "  </thead>\n",
       "  <tbody>\n",
       "    <tr>\n",
       "      <th>2915502</th>\n",
       "      <td>2151</td>\n",
       "      <td>1508174265282981</td>\n",
       "      <td>2017-10-16 17:17:45</td>\n",
       "      <td>5</td>\n",
       "      <td>87213</td>\n",
       "      <td>2017-10-16 23:13:45.152</td>\n",
       "      <td>Web</td>\n",
       "      <td>Tablet</td>\n",
       "      <td>17</td>\n",
       "      <td>1</td>\n",
       "      <td>21</td>\n",
       "      <td>7</td>\n",
       "    </tr>\n",
       "    <tr>\n",
       "      <th>2915501</th>\n",
       "      <td>2151</td>\n",
       "      <td>1508174265282981</td>\n",
       "      <td>2017-10-16 17:17:45</td>\n",
       "      <td>5</td>\n",
       "      <td>30409</td>\n",
       "      <td>2017-10-16 23:13:15.152</td>\n",
       "      <td>Web</td>\n",
       "      <td>Tablet</td>\n",
       "      <td>17</td>\n",
       "      <td>1</td>\n",
       "      <td>21</td>\n",
       "      <td>7</td>\n",
       "    </tr>\n",
       "    <tr>\n",
       "      <th>2915500</th>\n",
       "      <td>2151</td>\n",
       "      <td>1508174265282981</td>\n",
       "      <td>2017-10-16 17:17:45</td>\n",
       "      <td>5</td>\n",
       "      <td>292594</td>\n",
       "      <td>2017-10-16 23:11:52.712</td>\n",
       "      <td>Web</td>\n",
       "      <td>Tablet</td>\n",
       "      <td>17</td>\n",
       "      <td>1</td>\n",
       "      <td>21</td>\n",
       "      <td>7</td>\n",
       "    </tr>\n",
       "    <tr>\n",
       "      <th>2932356</th>\n",
       "      <td>2151</td>\n",
       "      <td>1508179555122841</td>\n",
       "      <td>2017-10-16 18:45:55</td>\n",
       "      <td>6</td>\n",
       "      <td>285433</td>\n",
       "      <td>2017-10-16 21:48:42.928</td>\n",
       "      <td>Web</td>\n",
       "      <td>Tablet</td>\n",
       "      <td>17</td>\n",
       "      <td>1</td>\n",
       "      <td>21</td>\n",
       "      <td>2</td>\n",
       "    </tr>\n",
       "    <tr>\n",
       "      <th>2932355</th>\n",
       "      <td>2151</td>\n",
       "      <td>1508179555122841</td>\n",
       "      <td>2017-10-16 18:45:55</td>\n",
       "      <td>6</td>\n",
       "      <td>206415</td>\n",
       "      <td>2017-10-16 21:48:12.928</td>\n",
       "      <td>Web</td>\n",
       "      <td>Tablet</td>\n",
       "      <td>17</td>\n",
       "      <td>1</td>\n",
       "      <td>21</td>\n",
       "      <td>2</td>\n",
       "    </tr>\n",
       "    <tr>\n",
       "      <th>2932354</th>\n",
       "      <td>2151</td>\n",
       "      <td>1508179555122841</td>\n",
       "      <td>2017-10-16 18:45:55</td>\n",
       "      <td>6</td>\n",
       "      <td>277107</td>\n",
       "      <td>2017-10-16 21:48:08.121</td>\n",
       "      <td>Web</td>\n",
       "      <td>Tablet</td>\n",
       "      <td>17</td>\n",
       "      <td>1</td>\n",
       "      <td>21</td>\n",
       "      <td>2</td>\n",
       "    </tr>\n",
       "    <tr>\n",
       "      <th>2932353</th>\n",
       "      <td>2151</td>\n",
       "      <td>1508179555122841</td>\n",
       "      <td>2017-10-16 18:45:55</td>\n",
       "      <td>6</td>\n",
       "      <td>158772</td>\n",
       "      <td>2017-10-16 21:47:42.758</td>\n",
       "      <td>Web</td>\n",
       "      <td>Tablet</td>\n",
       "      <td>17</td>\n",
       "      <td>1</td>\n",
       "      <td>21</td>\n",
       "      <td>2</td>\n",
       "    </tr>\n",
       "    <tr>\n",
       "      <th>2932352</th>\n",
       "      <td>2151</td>\n",
       "      <td>1508179555122841</td>\n",
       "      <td>2017-10-16 18:45:55</td>\n",
       "      <td>6</td>\n",
       "      <td>36162</td>\n",
       "      <td>2017-10-16 21:47:28.860</td>\n",
       "      <td>Web</td>\n",
       "      <td>Tablet</td>\n",
       "      <td>17</td>\n",
       "      <td>1</td>\n",
       "      <td>21</td>\n",
       "      <td>2</td>\n",
       "    </tr>\n",
       "    <tr>\n",
       "      <th>2915499</th>\n",
       "      <td>2151</td>\n",
       "      <td>1508174265282981</td>\n",
       "      <td>2017-10-16 17:17:45</td>\n",
       "      <td>5</td>\n",
       "      <td>109727</td>\n",
       "      <td>2017-10-16 20:19:16.477</td>\n",
       "      <td>Web</td>\n",
       "      <td>Tablet</td>\n",
       "      <td>17</td>\n",
       "      <td>1</td>\n",
       "      <td>21</td>\n",
       "      <td>7</td>\n",
       "    </tr>\n",
       "    <tr>\n",
       "      <th>2915498</th>\n",
       "      <td>2151</td>\n",
       "      <td>1508174265282981</td>\n",
       "      <td>2017-10-16 17:17:45</td>\n",
       "      <td>5</td>\n",
       "      <td>109752</td>\n",
       "      <td>2017-10-16 20:19:11.541</td>\n",
       "      <td>Web</td>\n",
       "      <td>Tablet</td>\n",
       "      <td>17</td>\n",
       "      <td>1</td>\n",
       "      <td>21</td>\n",
       "      <td>7</td>\n",
       "    </tr>\n",
       "    <tr>\n",
       "      <th>2932351</th>\n",
       "      <td>2151</td>\n",
       "      <td>1508179555122841</td>\n",
       "      <td>2017-10-16 18:45:55</td>\n",
       "      <td>6</td>\n",
       "      <td>289003</td>\n",
       "      <td>2017-10-16 19:18:47.355</td>\n",
       "      <td>Web</td>\n",
       "      <td>Tablet</td>\n",
       "      <td>17</td>\n",
       "      <td>1</td>\n",
       "      <td>21</td>\n",
       "      <td>2</td>\n",
       "    </tr>\n",
       "    <tr>\n",
       "      <th>2881235</th>\n",
       "      <td>2151</td>\n",
       "      <td>1508165093231108</td>\n",
       "      <td>2017-10-16 14:44:53</td>\n",
       "      <td>4</td>\n",
       "      <td>36162</td>\n",
       "      <td>2017-10-16 19:01:23.181</td>\n",
       "      <td>Web</td>\n",
       "      <td>Tablet</td>\n",
       "      <td>17</td>\n",
       "      <td>1</td>\n",
       "      <td>21</td>\n",
       "      <td>2</td>\n",
       "    </tr>\n",
       "    <tr>\n",
       "      <th>2881234</th>\n",
       "      <td>2151</td>\n",
       "      <td>1508165093231108</td>\n",
       "      <td>2017-10-16 14:44:53</td>\n",
       "      <td>4</td>\n",
       "      <td>206415</td>\n",
       "      <td>2017-10-16 19:00:53.181</td>\n",
       "      <td>Web</td>\n",
       "      <td>Tablet</td>\n",
       "      <td>17</td>\n",
       "      <td>1</td>\n",
       "      <td>21</td>\n",
       "      <td>2</td>\n",
       "    </tr>\n",
       "    <tr>\n",
       "      <th>2918312</th>\n",
       "      <td>2151</td>\n",
       "      <td>1508175098570944</td>\n",
       "      <td>2017-10-16 17:31:38</td>\n",
       "      <td>2</td>\n",
       "      <td>289003</td>\n",
       "      <td>2017-10-16 17:35:31.690</td>\n",
       "      <td>Web</td>\n",
       "      <td>Tablet</td>\n",
       "      <td>17</td>\n",
       "      <td>1</td>\n",
       "      <td>21</td>\n",
       "      <td>1</td>\n",
       "    </tr>\n",
       "    <tr>\n",
       "      <th>2918311</th>\n",
       "      <td>2151</td>\n",
       "      <td>1508175098570944</td>\n",
       "      <td>2017-10-16 17:31:38</td>\n",
       "      <td>2</td>\n",
       "      <td>168401</td>\n",
       "      <td>2017-10-16 17:35:01.690</td>\n",
       "      <td>Web</td>\n",
       "      <td>Tablet</td>\n",
       "      <td>17</td>\n",
       "      <td>1</td>\n",
       "      <td>21</td>\n",
       "      <td>1</td>\n",
       "    </tr>\n",
       "    <tr>\n",
       "      <th>2881233</th>\n",
       "      <td>2151</td>\n",
       "      <td>1508165093231108</td>\n",
       "      <td>2017-10-16 14:44:53</td>\n",
       "      <td>4</td>\n",
       "      <td>39894</td>\n",
       "      <td>2017-10-16 16:41:54.608</td>\n",
       "      <td>Web</td>\n",
       "      <td>Tablet</td>\n",
       "      <td>17</td>\n",
       "      <td>1</td>\n",
       "      <td>21</td>\n",
       "      <td>2</td>\n",
       "    </tr>\n",
       "    <tr>\n",
       "      <th>2852052</th>\n",
       "      <td>2151</td>\n",
       "      <td>1508156373223974</td>\n",
       "      <td>2017-10-16 12:19:33</td>\n",
       "      <td>8</td>\n",
       "      <td>50494</td>\n",
       "      <td>2017-10-16 16:04:54.721</td>\n",
       "      <td>Web</td>\n",
       "      <td>Tablet</td>\n",
       "      <td>17</td>\n",
       "      <td>1</td>\n",
       "      <td>21</td>\n",
       "      <td>1</td>\n",
       "    </tr>\n",
       "    <tr>\n",
       "      <th>2852051</th>\n",
       "      <td>2151</td>\n",
       "      <td>1508156373223974</td>\n",
       "      <td>2017-10-16 12:19:33</td>\n",
       "      <td>8</td>\n",
       "      <td>159019</td>\n",
       "      <td>2017-10-16 16:04:24.721</td>\n",
       "      <td>Web</td>\n",
       "      <td>Tablet</td>\n",
       "      <td>17</td>\n",
       "      <td>1</td>\n",
       "      <td>21</td>\n",
       "      <td>1</td>\n",
       "    </tr>\n",
       "    <tr>\n",
       "      <th>2881232</th>\n",
       "      <td>2151</td>\n",
       "      <td>1508165093231108</td>\n",
       "      <td>2017-10-16 14:44:53</td>\n",
       "      <td>4</td>\n",
       "      <td>277107</td>\n",
       "      <td>2017-10-16 15:15:23.672</td>\n",
       "      <td>Web</td>\n",
       "      <td>Tablet</td>\n",
       "      <td>17</td>\n",
       "      <td>1</td>\n",
       "      <td>21</td>\n",
       "      <td>2</td>\n",
       "    </tr>\n",
       "    <tr>\n",
       "      <th>2852050</th>\n",
       "      <td>2151</td>\n",
       "      <td>1508156373223974</td>\n",
       "      <td>2017-10-16 12:19:33</td>\n",
       "      <td>8</td>\n",
       "      <td>161988</td>\n",
       "      <td>2017-10-16 15:12:06.416</td>\n",
       "      <td>Web</td>\n",
       "      <td>Tablet</td>\n",
       "      <td>17</td>\n",
       "      <td>1</td>\n",
       "      <td>21</td>\n",
       "      <td>1</td>\n",
       "    </tr>\n",
       "    <tr>\n",
       "      <th>2877991</th>\n",
       "      <td>2151</td>\n",
       "      <td>1508164143638972</td>\n",
       "      <td>2017-10-16 14:29:03</td>\n",
       "      <td>2</td>\n",
       "      <td>39894</td>\n",
       "      <td>2017-10-16 15:12:04.169</td>\n",
       "      <td>Web</td>\n",
       "      <td>Tablet</td>\n",
       "      <td>17</td>\n",
       "      <td>1</td>\n",
       "      <td>21</td>\n",
       "      <td>1</td>\n",
       "    </tr>\n",
       "    <tr>\n",
       "      <th>2877990</th>\n",
       "      <td>2151</td>\n",
       "      <td>1508164143638972</td>\n",
       "      <td>2017-10-16 14:29:03</td>\n",
       "      <td>2</td>\n",
       "      <td>236877</td>\n",
       "      <td>2017-10-16 15:11:34.169</td>\n",
       "      <td>Web</td>\n",
       "      <td>Tablet</td>\n",
       "      <td>17</td>\n",
       "      <td>1</td>\n",
       "      <td>21</td>\n",
       "      <td>1</td>\n",
       "    </tr>\n",
       "    <tr>\n",
       "      <th>2852049</th>\n",
       "      <td>2151</td>\n",
       "      <td>1508156373223974</td>\n",
       "      <td>2017-10-16 12:19:33</td>\n",
       "      <td>8</td>\n",
       "      <td>218028</td>\n",
       "      <td>2017-10-16 15:10:58.764</td>\n",
       "      <td>Web</td>\n",
       "      <td>Tablet</td>\n",
       "      <td>17</td>\n",
       "      <td>1</td>\n",
       "      <td>21</td>\n",
       "      <td>1</td>\n",
       "    </tr>\n",
       "    <tr>\n",
       "      <th>2852048</th>\n",
       "      <td>2151</td>\n",
       "      <td>1508156373223974</td>\n",
       "      <td>2017-10-16 12:19:33</td>\n",
       "      <td>8</td>\n",
       "      <td>158541</td>\n",
       "      <td>2017-10-16 15:09:57.948</td>\n",
       "      <td>Web</td>\n",
       "      <td>Tablet</td>\n",
       "      <td>17</td>\n",
       "      <td>1</td>\n",
       "      <td>21</td>\n",
       "      <td>1</td>\n",
       "    </tr>\n",
       "    <tr>\n",
       "      <th>2852047</th>\n",
       "      <td>2151</td>\n",
       "      <td>1508156373223974</td>\n",
       "      <td>2017-10-16 12:19:33</td>\n",
       "      <td>8</td>\n",
       "      <td>39894</td>\n",
       "      <td>2017-10-16 15:03:32.608</td>\n",
       "      <td>Web</td>\n",
       "      <td>Tablet</td>\n",
       "      <td>17</td>\n",
       "      <td>1</td>\n",
       "      <td>21</td>\n",
       "      <td>1</td>\n",
       "    </tr>\n",
       "    <tr>\n",
       "      <th>2806320</th>\n",
       "      <td>2151</td>\n",
       "      <td>1508144732294798</td>\n",
       "      <td>2017-10-16 09:05:32</td>\n",
       "      <td>4</td>\n",
       "      <td>352979</td>\n",
       "      <td>2017-10-16 14:47:00.464</td>\n",
       "      <td>Web</td>\n",
       "      <td>Tablet</td>\n",
       "      <td>17</td>\n",
       "      <td>1</td>\n",
       "      <td>21</td>\n",
       "      <td>2</td>\n",
       "    </tr>\n",
       "    <tr>\n",
       "      <th>2806319</th>\n",
       "      <td>2151</td>\n",
       "      <td>1508144732294798</td>\n",
       "      <td>2017-10-16 09:05:32</td>\n",
       "      <td>4</td>\n",
       "      <td>336254</td>\n",
       "      <td>2017-10-16 14:46:30.464</td>\n",
       "      <td>Web</td>\n",
       "      <td>Tablet</td>\n",
       "      <td>17</td>\n",
       "      <td>1</td>\n",
       "      <td>21</td>\n",
       "      <td>2</td>\n",
       "    </tr>\n",
       "    <tr>\n",
       "      <th>2806318</th>\n",
       "      <td>2151</td>\n",
       "      <td>1508144732294798</td>\n",
       "      <td>2017-10-16 09:05:32</td>\n",
       "      <td>4</td>\n",
       "      <td>277107</td>\n",
       "      <td>2017-10-16 14:45:19.432</td>\n",
       "      <td>Web</td>\n",
       "      <td>Tablet</td>\n",
       "      <td>17</td>\n",
       "      <td>1</td>\n",
       "      <td>21</td>\n",
       "      <td>2</td>\n",
       "    </tr>\n",
       "    <tr>\n",
       "      <th>2808371</th>\n",
       "      <td>2151</td>\n",
       "      <td>1508145722286520</td>\n",
       "      <td>2017-10-16 09:22:02</td>\n",
       "      <td>5</td>\n",
       "      <td>362884</td>\n",
       "      <td>2017-10-16 14:07:22.680</td>\n",
       "      <td>Web</td>\n",
       "      <td>Tablet</td>\n",
       "      <td>17</td>\n",
       "      <td>1</td>\n",
       "      <td>21</td>\n",
       "      <td>1</td>\n",
       "    </tr>\n",
       "    <tr>\n",
       "      <th>2808370</th>\n",
       "      <td>2151</td>\n",
       "      <td>1508145722286520</td>\n",
       "      <td>2017-10-16 09:22:02</td>\n",
       "      <td>5</td>\n",
       "      <td>202320</td>\n",
       "      <td>2017-10-16 14:06:52.680</td>\n",
       "      <td>Web</td>\n",
       "      <td>Tablet</td>\n",
       "      <td>17</td>\n",
       "      <td>1</td>\n",
       "      <td>21</td>\n",
       "      <td>1</td>\n",
       "    </tr>\n",
       "  </tbody>\n",
       "</table>\n",
       "</div>"
      ],
      "text/plain": [
       "        user_id        session_id       session_start  session_size  \\\n",
       "2915502    2151  1508174265282981 2017-10-16 17:17:45             5   \n",
       "2915501    2151  1508174265282981 2017-10-16 17:17:45             5   \n",
       "2915500    2151  1508174265282981 2017-10-16 17:17:45             5   \n",
       "2932356    2151  1508179555122841 2017-10-16 18:45:55             6   \n",
       "2932355    2151  1508179555122841 2017-10-16 18:45:55             6   \n",
       "2932354    2151  1508179555122841 2017-10-16 18:45:55             6   \n",
       "2932353    2151  1508179555122841 2017-10-16 18:45:55             6   \n",
       "2932352    2151  1508179555122841 2017-10-16 18:45:55             6   \n",
       "2915499    2151  1508174265282981 2017-10-16 17:17:45             5   \n",
       "2915498    2151  1508174265282981 2017-10-16 17:17:45             5   \n",
       "2932351    2151  1508179555122841 2017-10-16 18:45:55             6   \n",
       "2881235    2151  1508165093231108 2017-10-16 14:44:53             4   \n",
       "2881234    2151  1508165093231108 2017-10-16 14:44:53             4   \n",
       "2918312    2151  1508175098570944 2017-10-16 17:31:38             2   \n",
       "2918311    2151  1508175098570944 2017-10-16 17:31:38             2   \n",
       "2881233    2151  1508165093231108 2017-10-16 14:44:53             4   \n",
       "2852052    2151  1508156373223974 2017-10-16 12:19:33             8   \n",
       "2852051    2151  1508156373223974 2017-10-16 12:19:33             8   \n",
       "2881232    2151  1508165093231108 2017-10-16 14:44:53             4   \n",
       "2852050    2151  1508156373223974 2017-10-16 12:19:33             8   \n",
       "2877991    2151  1508164143638972 2017-10-16 14:29:03             2   \n",
       "2877990    2151  1508164143638972 2017-10-16 14:29:03             2   \n",
       "2852049    2151  1508156373223974 2017-10-16 12:19:33             8   \n",
       "2852048    2151  1508156373223974 2017-10-16 12:19:33             8   \n",
       "2852047    2151  1508156373223974 2017-10-16 12:19:33             8   \n",
       "2806320    2151  1508144732294798 2017-10-16 09:05:32             4   \n",
       "2806319    2151  1508144732294798 2017-10-16 09:05:32             4   \n",
       "2806318    2151  1508144732294798 2017-10-16 09:05:32             4   \n",
       "2808371    2151  1508145722286520 2017-10-16 09:22:02             5   \n",
       "2808370    2151  1508145722286520 2017-10-16 09:22:02             5   \n",
       "\n",
       "        click_article_id         click_timestamp click_environment  \\\n",
       "2915502            87213 2017-10-16 23:13:45.152               Web   \n",
       "2915501            30409 2017-10-16 23:13:15.152               Web   \n",
       "2915500           292594 2017-10-16 23:11:52.712               Web   \n",
       "2932356           285433 2017-10-16 21:48:42.928               Web   \n",
       "2932355           206415 2017-10-16 21:48:12.928               Web   \n",
       "2932354           277107 2017-10-16 21:48:08.121               Web   \n",
       "2932353           158772 2017-10-16 21:47:42.758               Web   \n",
       "2932352            36162 2017-10-16 21:47:28.860               Web   \n",
       "2915499           109727 2017-10-16 20:19:16.477               Web   \n",
       "2915498           109752 2017-10-16 20:19:11.541               Web   \n",
       "2932351           289003 2017-10-16 19:18:47.355               Web   \n",
       "2881235            36162 2017-10-16 19:01:23.181               Web   \n",
       "2881234           206415 2017-10-16 19:00:53.181               Web   \n",
       "2918312           289003 2017-10-16 17:35:31.690               Web   \n",
       "2918311           168401 2017-10-16 17:35:01.690               Web   \n",
       "2881233            39894 2017-10-16 16:41:54.608               Web   \n",
       "2852052            50494 2017-10-16 16:04:54.721               Web   \n",
       "2852051           159019 2017-10-16 16:04:24.721               Web   \n",
       "2881232           277107 2017-10-16 15:15:23.672               Web   \n",
       "2852050           161988 2017-10-16 15:12:06.416               Web   \n",
       "2877991            39894 2017-10-16 15:12:04.169               Web   \n",
       "2877990           236877 2017-10-16 15:11:34.169               Web   \n",
       "2852049           218028 2017-10-16 15:10:58.764               Web   \n",
       "2852048           158541 2017-10-16 15:09:57.948               Web   \n",
       "2852047            39894 2017-10-16 15:03:32.608               Web   \n",
       "2806320           352979 2017-10-16 14:47:00.464               Web   \n",
       "2806319           336254 2017-10-16 14:46:30.464               Web   \n",
       "2806318           277107 2017-10-16 14:45:19.432               Web   \n",
       "2808371           362884 2017-10-16 14:07:22.680               Web   \n",
       "2808370           202320 2017-10-16 14:06:52.680               Web   \n",
       "\n",
       "        click_deviceGroup click_os click_country click_region  \\\n",
       "2915502            Tablet       17             1           21   \n",
       "2915501            Tablet       17             1           21   \n",
       "2915500            Tablet       17             1           21   \n",
       "2932356            Tablet       17             1           21   \n",
       "2932355            Tablet       17             1           21   \n",
       "2932354            Tablet       17             1           21   \n",
       "2932353            Tablet       17             1           21   \n",
       "2932352            Tablet       17             1           21   \n",
       "2915499            Tablet       17             1           21   \n",
       "2915498            Tablet       17             1           21   \n",
       "2932351            Tablet       17             1           21   \n",
       "2881235            Tablet       17             1           21   \n",
       "2881234            Tablet       17             1           21   \n",
       "2918312            Tablet       17             1           21   \n",
       "2918311            Tablet       17             1           21   \n",
       "2881233            Tablet       17             1           21   \n",
       "2852052            Tablet       17             1           21   \n",
       "2852051            Tablet       17             1           21   \n",
       "2881232            Tablet       17             1           21   \n",
       "2852050            Tablet       17             1           21   \n",
       "2877991            Tablet       17             1           21   \n",
       "2877990            Tablet       17             1           21   \n",
       "2852049            Tablet       17             1           21   \n",
       "2852048            Tablet       17             1           21   \n",
       "2852047            Tablet       17             1           21   \n",
       "2806320            Tablet       17             1           21   \n",
       "2806319            Tablet       17             1           21   \n",
       "2806318            Tablet       17             1           21   \n",
       "2808371            Tablet       17             1           21   \n",
       "2808370            Tablet       17             1           21   \n",
       "\n",
       "        click_referrer_type  \n",
       "2915502                   7  \n",
       "2915501                   7  \n",
       "2915500                   7  \n",
       "2932356                   2  \n",
       "2932355                   2  \n",
       "2932354                   2  \n",
       "2932353                   2  \n",
       "2932352                   2  \n",
       "2915499                   7  \n",
       "2915498                   7  \n",
       "2932351                   2  \n",
       "2881235                   2  \n",
       "2881234                   2  \n",
       "2918312                   1  \n",
       "2918311                   1  \n",
       "2881233                   2  \n",
       "2852052                   1  \n",
       "2852051                   1  \n",
       "2881232                   2  \n",
       "2852050                   1  \n",
       "2877991                   1  \n",
       "2877990                   1  \n",
       "2852049                   1  \n",
       "2852048                   1  \n",
       "2852047                   1  \n",
       "2806320                   2  \n",
       "2806319                   2  \n",
       "2806318                   2  \n",
       "2808371                   1  \n",
       "2808370                   1  "
      ]
     },
     "execution_count": 14,
     "metadata": {},
     "output_type": "execute_result"
    }
   ],
   "source": [
    "# filter on user 2151\n",
    "clicks_df.loc[clicks_df.user_id == 2151].head(30)"
   ]
  },
  {
   "cell_type": "markdown",
   "metadata": {},
   "source": [
    "Ce que l'on observe :\n",
    "- sachant que les clicks sont dans l'ordre, on observe que les **sessions sont entremêlées**. Cela pourrait venir de l'ouverture de plusieurs onglets ?\n",
    "- il y a bien des doublons :\n",
    "    - l'article `206415` apparaît 2 fois à presque 2 heures d'intervalle, dans 2 sessions différentes\n",
    "    - l'article `277107` apparaît 3 fois à 1/2 heure et 6 heures d'intervalle, dans 3 sessions différentes\n",
    "    - etc.\n",
    "- les doublons n'apparaissent jamais au sein d'une même session, ce que l'on peut vérifier :"
   ]
  },
  {
   "cell_type": "code",
   "execution_count": 15,
   "metadata": {},
   "outputs": [
    {
     "data": {
      "text/html": [
       "<div>\n",
       "<style scoped>\n",
       "    .dataframe tbody tr th:only-of-type {\n",
       "        vertical-align: middle;\n",
       "    }\n",
       "\n",
       "    .dataframe tbody tr th {\n",
       "        vertical-align: top;\n",
       "    }\n",
       "\n",
       "    .dataframe thead th {\n",
       "        text-align: right;\n",
       "    }\n",
       "</style>\n",
       "<table border=\"1\" class=\"dataframe\">\n",
       "  <thead>\n",
       "    <tr style=\"text-align: right;\">\n",
       "      <th></th>\n",
       "      <th>user_id</th>\n",
       "      <th>session_id</th>\n",
       "      <th>session_start</th>\n",
       "      <th>session_size</th>\n",
       "      <th>click_article_id</th>\n",
       "      <th>click_timestamp</th>\n",
       "      <th>click_environment</th>\n",
       "      <th>click_deviceGroup</th>\n",
       "      <th>click_os</th>\n",
       "      <th>click_country</th>\n",
       "      <th>click_region</th>\n",
       "      <th>click_referrer_type</th>\n",
       "    </tr>\n",
       "  </thead>\n",
       "  <tbody>\n",
       "  </tbody>\n",
       "</table>\n",
       "</div>"
      ],
      "text/plain": [
       "Empty DataFrame\n",
       "Columns: [user_id, session_id, session_start, session_size, click_article_id, click_timestamp, click_environment, click_deviceGroup, click_os, click_country, click_region, click_referrer_type]\n",
       "Index: []"
      ]
     },
     "execution_count": 15,
     "metadata": {},
     "output_type": "execute_result"
    }
   ],
   "source": [
    "clicks_df.loc[clicks_df[[\"click_article_id\",\"session_id\"]].duplicated()]"
   ]
  },
  {
   "cell_type": "markdown",
   "metadata": {},
   "source": [
    "Nous ne considérerons **pas ces doublons dans le système de notation** Collaborative Filtering, ce qui n'aurait pas vraiment de sens.\n",
    "\n",
    "Mais alors chaque article se verra attribuer la même note ?\n",
    "\n",
    "Pour éviter cela nous allons **pondérer** les notes **en fonction du niveau d'engagement des utilisateurs**. Nous considérons qu'un utilisateur moins consommateur de contenus a plus tendance à sélectionner avec soin. Dans le cas inverse, un utilisateur ultra actif n'est peut-être pas aller au bout des articles sur lesquels il a cliqué."
   ]
  },
  {
   "cell_type": "markdown",
   "metadata": {},
   "source": [
    "### 0.3.3. Les données *articles_metadata*"
   ]
  },
  {
   "cell_type": "code",
   "execution_count": 16,
   "metadata": {},
   "outputs": [
    {
     "data": {
      "text/html": [
       "<div>\n",
       "<style scoped>\n",
       "    .dataframe tbody tr th:only-of-type {\n",
       "        vertical-align: middle;\n",
       "    }\n",
       "\n",
       "    .dataframe tbody tr th {\n",
       "        vertical-align: top;\n",
       "    }\n",
       "\n",
       "    .dataframe thead th {\n",
       "        text-align: right;\n",
       "    }\n",
       "</style>\n",
       "<table border=\"1\" class=\"dataframe\">\n",
       "  <thead>\n",
       "    <tr style=\"text-align: right;\">\n",
       "      <th></th>\n",
       "      <th>article_id</th>\n",
       "      <th>category_id</th>\n",
       "      <th>created_at_ts</th>\n",
       "      <th>publisher_id</th>\n",
       "      <th>words_count</th>\n",
       "    </tr>\n",
       "  </thead>\n",
       "  <tbody>\n",
       "    <tr>\n",
       "      <th>0</th>\n",
       "      <td>0</td>\n",
       "      <td>0</td>\n",
       "      <td>1513144419000</td>\n",
       "      <td>0</td>\n",
       "      <td>168</td>\n",
       "    </tr>\n",
       "    <tr>\n",
       "      <th>1</th>\n",
       "      <td>1</td>\n",
       "      <td>1</td>\n",
       "      <td>1405341936000</td>\n",
       "      <td>0</td>\n",
       "      <td>189</td>\n",
       "    </tr>\n",
       "    <tr>\n",
       "      <th>2</th>\n",
       "      <td>2</td>\n",
       "      <td>1</td>\n",
       "      <td>1408667706000</td>\n",
       "      <td>0</td>\n",
       "      <td>250</td>\n",
       "    </tr>\n",
       "    <tr>\n",
       "      <th>3</th>\n",
       "      <td>3</td>\n",
       "      <td>1</td>\n",
       "      <td>1408468313000</td>\n",
       "      <td>0</td>\n",
       "      <td>230</td>\n",
       "    </tr>\n",
       "    <tr>\n",
       "      <th>4</th>\n",
       "      <td>4</td>\n",
       "      <td>1</td>\n",
       "      <td>1407071171000</td>\n",
       "      <td>0</td>\n",
       "      <td>162</td>\n",
       "    </tr>\n",
       "    <tr>\n",
       "      <th>...</th>\n",
       "      <td>...</td>\n",
       "      <td>...</td>\n",
       "      <td>...</td>\n",
       "      <td>...</td>\n",
       "      <td>...</td>\n",
       "    </tr>\n",
       "    <tr>\n",
       "      <th>364042</th>\n",
       "      <td>364042</td>\n",
       "      <td>460</td>\n",
       "      <td>1434034118000</td>\n",
       "      <td>0</td>\n",
       "      <td>144</td>\n",
       "    </tr>\n",
       "    <tr>\n",
       "      <th>364043</th>\n",
       "      <td>364043</td>\n",
       "      <td>460</td>\n",
       "      <td>1434148472000</td>\n",
       "      <td>0</td>\n",
       "      <td>463</td>\n",
       "    </tr>\n",
       "    <tr>\n",
       "      <th>364044</th>\n",
       "      <td>364044</td>\n",
       "      <td>460</td>\n",
       "      <td>1457974279000</td>\n",
       "      <td>0</td>\n",
       "      <td>177</td>\n",
       "    </tr>\n",
       "    <tr>\n",
       "      <th>364045</th>\n",
       "      <td>364045</td>\n",
       "      <td>460</td>\n",
       "      <td>1515964737000</td>\n",
       "      <td>0</td>\n",
       "      <td>126</td>\n",
       "    </tr>\n",
       "    <tr>\n",
       "      <th>364046</th>\n",
       "      <td>364046</td>\n",
       "      <td>460</td>\n",
       "      <td>1505811330000</td>\n",
       "      <td>0</td>\n",
       "      <td>479</td>\n",
       "    </tr>\n",
       "  </tbody>\n",
       "</table>\n",
       "<p>364047 rows × 5 columns</p>\n",
       "</div>"
      ],
      "text/plain": [
       "        article_id  category_id  created_at_ts  publisher_id  words_count\n",
       "0                0            0  1513144419000             0          168\n",
       "1                1            1  1405341936000             0          189\n",
       "2                2            1  1408667706000             0          250\n",
       "3                3            1  1408468313000             0          230\n",
       "4                4            1  1407071171000             0          162\n",
       "...            ...          ...            ...           ...          ...\n",
       "364042      364042          460  1434034118000             0          144\n",
       "364043      364043          460  1434148472000             0          463\n",
       "364044      364044          460  1457974279000             0          177\n",
       "364045      364045          460  1515964737000             0          126\n",
       "364046      364046          460  1505811330000             0          479\n",
       "\n",
       "[364047 rows x 5 columns]"
      ]
     },
     "execution_count": 16,
     "metadata": {},
     "output_type": "execute_result"
    }
   ],
   "source": [
    "# load articles_metadata in a dataframe\n",
    "meta_raw = pd.read_csv(\"news-portal-user-interactions-by-globocom/articles_metadata.csv\")\n",
    "meta_raw"
   ]
  },
  {
   "cell_type": "markdown",
   "metadata": {},
   "source": [
    "Ce fichier est un échantillon et nous permet de comprendre les différentes features à notre disposition. Regardons chacune d'elle grâce à la fonction `myDescribe` :"
   ]
  },
  {
   "cell_type": "code",
   "execution_count": 17,
   "metadata": {},
   "outputs": [
    {
     "data": {
      "application/vnd.jupyter.widget-view+json": {
       "model_id": "41e6c2bc50f84d68b17e3e45b1ecea39",
       "version_major": 2,
       "version_minor": 0
      },
      "text/plain": [
       "HBox(children=(RadioButtons(description='Which features :', index=2, options=('quantitative', 'qualitative', '…"
      ]
     },
     "metadata": {},
     "output_type": "display_data"
    },
    {
     "data": {
      "application/vnd.jupyter.widget-view+json": {
       "model_id": "d2865cbd893e4ebcac7b45e780d3d57e",
       "version_major": 2,
       "version_minor": 0
      },
      "text/plain": [
       "Output()"
      ]
     },
     "metadata": {},
     "output_type": "display_data"
    }
   ],
   "source": [
    "# use custom function \"myDescribe\" on \"meta_df\"\n",
    "mf.myDescribe(meta_raw)"
   ]
  },
  {
   "cell_type": "markdown",
   "metadata": {},
   "source": [
    "Les features sont décrites ici : https://www.kaggle.com/datasets/gspmoreira/news-portal-user-interactions-by-globocom?select=clicks_sample.csv\n",
    "\n",
    "Ce que l'on peut en retenir :\n",
    "- `article_id` : l'identifiant de l'article, le même que `click_article_id`\n",
    "- `category_id` : un identifiant donnée à la catégorie de l'article. \n",
    "- `created_at_ts` : horodatage de la rédaction de l'article. De type *Unix time*, mais en **ms**\n",
    "- `publisher_id` : l'identifiant de l'éditeur. **Inutilisable** car ne comporte qu'une seule valeur.\n",
    "- `words_count` : nombre de mots dans l'article\n",
    "\n",
    "Mise à part `created_at_ts`, et `words_count`, les colonnes peuvent être considérées comme catégorielles."
   ]
  },
  {
   "cell_type": "code",
   "execution_count": 18,
   "metadata": {},
   "outputs": [
    {
     "data": {
      "text/plain": [
       "0"
      ]
     },
     "execution_count": 18,
     "metadata": {},
     "output_type": "execute_result"
    }
   ],
   "source": [
    "# delete meta_raw\n",
    "del meta_raw\n",
    "gc.collect()"
   ]
  },
  {
   "cell_type": "markdown",
   "metadata": {},
   "source": [
    "#### 0.3.3.1. Charger `articles_metadata` avec les bons dtypes"
   ]
  },
  {
   "cell_type": "code",
   "execution_count": 19,
   "metadata": {},
   "outputs": [
    {
     "data": {
      "application/vnd.jupyter.widget-view+json": {
       "model_id": "456dc1f0285d4d39a02eba40269abfd7",
       "version_major": 2,
       "version_minor": 0
      },
      "text/plain": [
       "HBox(children=(RadioButtons(description='Which features :', index=2, options=('quantitative', 'qualitative', '…"
      ]
     },
     "metadata": {},
     "output_type": "display_data"
    },
    {
     "data": {
      "application/vnd.jupyter.widget-view+json": {
       "model_id": "f1fc685b098a49e88132df9e99302c19",
       "version_major": 2,
       "version_minor": 0
      },
      "text/plain": [
       "Output()"
      ]
     },
     "metadata": {},
     "output_type": "display_data"
    }
   ],
   "source": [
    "# use custom function to load and prepare \"articles_metadata.csv\"\n",
    "meta_df = mf.read_meta(meta_path=\"news-portal-user-interactions-by-globocom/articles_metadata.csv\")\n",
    "# use custom function \"myDescribe\"\n",
    "mf.myDescribe(meta_df)"
   ]
  },
  {
   "cell_type": "markdown",
   "metadata": {},
   "source": [
    "Ce que l'on peut en retenir :\n",
    "- `article_id` : \n",
    "    - il y a 364047 articles renseignés dans la base de données\n",
    "    - pour rappel seul **46033 articles ont été lus à date par les utilisateurs**\n",
    "    - pour notre étude nous pourrons donc **nous concentrer uniquement sur ces articles**\n",
    "- `words_count` : \n",
    "    - La majorité des articles comporte entre 150 et 250 mots\n",
    "    - Il y a de rares articles beaucoup plus longs\n",
    "- `created_at_ts` : \n",
    "    - les articles ont été créés entre 2005 et 2018\n",
    "    - pour rappel le dernier click a été effectué en novembre 2017\n",
    "    - vérifions la cohérence des dates sur les 46033 articles effectivement lus :\n"
   ]
  },
  {
   "cell_type": "markdown",
   "metadata": {},
   "source": [
    "#### 0.3.3.2. Filtrer `articles_metadata` sur les article lus"
   ]
  },
  {
   "cell_type": "markdown",
   "metadata": {},
   "source": [
    "Commençons par extraire la liste des `click_article_id` :"
   ]
  },
  {
   "cell_type": "code",
   "execution_count": 20,
   "metadata": {},
   "outputs": [],
   "source": [
    "# extract unique \"click_article_id\"\n",
    "unique_click_article_ids = clicks_df[\"click_article_id\"].cat.categories"
   ]
  },
  {
   "cell_type": "code",
   "execution_count": 21,
   "metadata": {},
   "outputs": [
    {
     "data": {
      "application/vnd.jupyter.widget-view+json": {
       "model_id": "71abd20d558f4770903eda13a3a0298a",
       "version_major": 2,
       "version_minor": 0
      },
      "text/plain": [
       "HBox(children=(RadioButtons(description='Which features :', index=2, options=('quantitative', 'qualitative', '…"
      ]
     },
     "metadata": {},
     "output_type": "display_data"
    },
    {
     "data": {
      "application/vnd.jupyter.widget-view+json": {
       "model_id": "759f020758b04e358998d59257a5c914",
       "version_major": 2,
       "version_minor": 0
      },
      "text/plain": [
       "Output()"
      ]
     },
     "metadata": {},
     "output_type": "display_data"
    }
   ],
   "source": [
    "# filter meta_df\n",
    "meta_df = meta_df.loc[meta_df[\"article_id\"].isin(unique_click_article_ids)]\n",
    "\n",
    "# use myDescribe\n",
    "mf.myDescribe(meta_df)"
   ]
  },
  {
   "cell_type": "markdown",
   "metadata": {},
   "source": [
    "Les dates de création d'article sont bien cohérentes : il n'y pas d'article de 2018."
   ]
  },
  {
   "cell_type": "markdown",
   "metadata": {},
   "source": [
    "Il pourrait être intéressant de prendre en compte la date de parution de l'article pour le modèle *content-base*."
   ]
  },
  {
   "cell_type": "markdown",
   "metadata": {},
   "source": [
    "# 1. Modéliser grâce au Collaborative Filtering"
   ]
  },
  {
   "cell_type": "markdown",
   "metadata": {},
   "source": [
    "## 1.1. Construire un système de notation"
   ]
  },
  {
   "cell_type": "markdown",
   "metadata": {},
   "source": [
    "Nous allons construire notre système de notation. Comme vu précédemment, celui-ci sera construit de la manière suivante :\n",
    "- une première composante basée sur le fait que l'**utilisateur ait cliqué sur l'article** :\n",
    "    - sans décompter les **doublons** (nous faisons l'hypothèse qu'un article n'est **réellement** lu qu'une fois par utilisateur)\n",
    "    - normalisée par le **nombre d'articles différents lus par l'utilisateur**\n",
    "- une seconde basée sur **l'\"ancienneté\" du click** :\n",
    "    - qui mesure l'**éloignement du click depuis une date du référence**\n",
    "    - normalisée par la **durée maximale**\n",
    "    - la très grande majorité des intéractions ayant eu lieu avant le **18 octobre 2017**, nous prendrons cette date comme référence"
   ]
  },
  {
   "cell_type": "code",
   "execution_count": 77,
   "metadata": {},
   "outputs": [],
   "source": [
    "# use custom functions to create ratings\n",
    "if \"data_cf.joblib\" not in os.listdir(\"mySaves/working_dfs\") :\n",
    "    # create copy\n",
    "    data_cf = clicks_df.copy()[[\"user_id\", \"click_article_id\", \"click_timestamp\"]]\n",
    "    # del useless dfs\n",
    "    del clicks_df, clicks_by_uid, meta_df\n",
    "    gc.collect()\n",
    "\n",
    "    # create ratings\n",
    "    data_cf[\"seniority_rating\"] = mf.my_seniority_rating (\n",
    "        ts_series=data_cf[\"click_timestamp\"], \n",
    "        ref_date=datetime.datetime(year=2017, month=10, day=18),\n",
    "        min_seniority=0,\n",
    "        max_seniority=None\n",
    "        )\n",
    "\n",
    "    data_cf[\"interaction_rating\"] = mf.my_interaction_rating (\n",
    "        user_series=data_cf[\"user_id\"], \n",
    "        article_series=data_cf[\"click_article_id\"]\n",
    "        )\n",
    "\n",
    "    # get rid of duplicates\n",
    "    # we keep \"last\", the oldest \n",
    "    data_cf.drop_duplicates(subset=[\"user_id\", \"click_article_id\"], inplace=True, keep=\"last\")\n",
    "\n",
    "    # test combinations\n",
    "    data_cf[\"main_rating_MEAN\"] = data_cf[[\"seniority_rating\", \"interaction_rating\"]].mean(axis=1)\n",
    "    data_cf[\"main_rating_PROD\"] = data_cf[\"seniority_rating\"] * data_cf[\"interaction_rating\"]\n",
    "\n",
    "    # save\n",
    "    dump(data_cf, \"mySaves/working_dfs/data_cf.joblib\")\n",
    "\n",
    "else :\n",
    "    #load\n",
    "    data_cf = load(\"mySaves/working_dfs/data_cf.joblib\")"
   ]
  },
  {
   "cell_type": "code",
   "execution_count": null,
   "metadata": {},
   "outputs": [
    {
     "data": {
      "text/html": [
       "<div>\n",
       "<style scoped>\n",
       "    .dataframe tbody tr th:only-of-type {\n",
       "        vertical-align: middle;\n",
       "    }\n",
       "\n",
       "    .dataframe tbody tr th {\n",
       "        vertical-align: top;\n",
       "    }\n",
       "\n",
       "    .dataframe thead th {\n",
       "        text-align: right;\n",
       "    }\n",
       "</style>\n",
       "<table border=\"1\" class=\"dataframe\">\n",
       "  <thead>\n",
       "    <tr style=\"text-align: right;\">\n",
       "      <th></th>\n",
       "      <th>user_id</th>\n",
       "      <th>click_article_id</th>\n",
       "      <th>click_timestamp</th>\n",
       "      <th>seniority_rating</th>\n",
       "      <th>interaction_rating</th>\n",
       "      <th>main_rating_MEAN</th>\n",
       "      <th>main_rating_PROD</th>\n",
       "    </tr>\n",
       "  </thead>\n",
       "  <tbody>\n",
       "    <tr>\n",
       "      <th>2941947</th>\n",
       "      <td>320431</td>\n",
       "      <td>145309</td>\n",
       "      <td>2017-11-13 20:04:14.886</td>\n",
       "      <td>1.0</td>\n",
       "      <td>0.125000</td>\n",
       "      <td>0.562500</td>\n",
       "      <td>0.125000</td>\n",
       "    </tr>\n",
       "    <tr>\n",
       "      <th>2941946</th>\n",
       "      <td>320431</td>\n",
       "      <td>203538</td>\n",
       "      <td>2017-11-13 20:03:44.886</td>\n",
       "      <td>1.0</td>\n",
       "      <td>0.125000</td>\n",
       "      <td>0.562500</td>\n",
       "      <td>0.125000</td>\n",
       "    </tr>\n",
       "    <tr>\n",
       "      <th>2583367</th>\n",
       "      <td>252642</td>\n",
       "      <td>96333</td>\n",
       "      <td>2017-11-07 22:31:52.860</td>\n",
       "      <td>1.0</td>\n",
       "      <td>0.071429</td>\n",
       "      <td>0.535714</td>\n",
       "      <td>0.071429</td>\n",
       "    </tr>\n",
       "    <tr>\n",
       "      <th>2583366</th>\n",
       "      <td>252642</td>\n",
       "      <td>207672</td>\n",
       "      <td>2017-11-07 22:31:22.860</td>\n",
       "      <td>1.0</td>\n",
       "      <td>0.071429</td>\n",
       "      <td>0.535714</td>\n",
       "      <td>0.071429</td>\n",
       "    </tr>\n",
       "    <tr>\n",
       "      <th>2108105</th>\n",
       "      <td>201738</td>\n",
       "      <td>224148</td>\n",
       "      <td>2017-11-04 12:27:02.502</td>\n",
       "      <td>1.0</td>\n",
       "      <td>0.018519</td>\n",
       "      <td>0.509259</td>\n",
       "      <td>0.018519</td>\n",
       "    </tr>\n",
       "    <tr>\n",
       "      <th>...</th>\n",
       "      <td>...</td>\n",
       "      <td>...</td>\n",
       "      <td>...</td>\n",
       "      <td>...</td>\n",
       "      <td>...</td>\n",
       "      <td>...</td>\n",
       "      <td>...</td>\n",
       "    </tr>\n",
       "    <tr>\n",
       "      <th>187</th>\n",
       "      <td>70</td>\n",
       "      <td>119592</td>\n",
       "      <td>2017-10-01 03:00:18.863</td>\n",
       "      <td>0.0</td>\n",
       "      <td>0.200000</td>\n",
       "      <td>0.100000</td>\n",
       "      <td>0.000000</td>\n",
       "    </tr>\n",
       "    <tr>\n",
       "      <th>295</th>\n",
       "      <td>111</td>\n",
       "      <td>202436</td>\n",
       "      <td>2017-10-01 03:00:14.140</td>\n",
       "      <td>0.0</td>\n",
       "      <td>0.038462</td>\n",
       "      <td>0.019231</td>\n",
       "      <td>0.000000</td>\n",
       "    </tr>\n",
       "    <tr>\n",
       "      <th>399</th>\n",
       "      <td>154</td>\n",
       "      <td>96663</td>\n",
       "      <td>2017-10-01 03:00:04.207</td>\n",
       "      <td>0.0</td>\n",
       "      <td>0.021739</td>\n",
       "      <td>0.010870</td>\n",
       "      <td>0.000000</td>\n",
       "    </tr>\n",
       "    <tr>\n",
       "      <th>208</th>\n",
       "      <td>79</td>\n",
       "      <td>159359</td>\n",
       "      <td>2017-10-01 03:00:01.702</td>\n",
       "      <td>0.0</td>\n",
       "      <td>0.500000</td>\n",
       "      <td>0.250000</td>\n",
       "      <td>0.000000</td>\n",
       "    </tr>\n",
       "    <tr>\n",
       "      <th>147</th>\n",
       "      <td>59</td>\n",
       "      <td>234853</td>\n",
       "      <td>2017-10-01 03:00:00.026</td>\n",
       "      <td>0.0</td>\n",
       "      <td>0.026316</td>\n",
       "      <td>0.013158</td>\n",
       "      <td>0.000000</td>\n",
       "    </tr>\n",
       "  </tbody>\n",
       "</table>\n",
       "<p>2950710 rows × 7 columns</p>\n",
       "</div>"
      ],
      "text/plain": [
       "        user_id click_article_id         click_timestamp  seniority_rating  \\\n",
       "2941947  320431           145309 2017-11-13 20:04:14.886               1.0   \n",
       "2941946  320431           203538 2017-11-13 20:03:44.886               1.0   \n",
       "2583367  252642            96333 2017-11-07 22:31:52.860               1.0   \n",
       "2583366  252642           207672 2017-11-07 22:31:22.860               1.0   \n",
       "2108105  201738           224148 2017-11-04 12:27:02.502               1.0   \n",
       "...         ...              ...                     ...               ...   \n",
       "187          70           119592 2017-10-01 03:00:18.863               0.0   \n",
       "295         111           202436 2017-10-01 03:00:14.140               0.0   \n",
       "399         154            96663 2017-10-01 03:00:04.207               0.0   \n",
       "208          79           159359 2017-10-01 03:00:01.702               0.0   \n",
       "147          59           234853 2017-10-01 03:00:00.026               0.0   \n",
       "\n",
       "         interaction_rating  main_rating_MEAN  main_rating_PROD  \n",
       "2941947            0.125000          0.562500          0.125000  \n",
       "2941946            0.125000          0.562500          0.125000  \n",
       "2583367            0.071429          0.535714          0.071429  \n",
       "2583366            0.071429          0.535714          0.071429  \n",
       "2108105            0.018519          0.509259          0.018519  \n",
       "...                     ...               ...               ...  \n",
       "187                0.200000          0.100000          0.000000  \n",
       "295                0.038462          0.019231          0.000000  \n",
       "399                0.021739          0.010870          0.000000  \n",
       "208                0.500000          0.250000          0.000000  \n",
       "147                0.026316          0.013158          0.000000  \n",
       "\n",
       "[2950710 rows x 7 columns]"
      ]
     },
     "metadata": {},
     "output_type": "display_data"
    }
   ],
   "source": [
    "data_cf"
   ]
  },
  {
   "cell_type": "markdown",
   "metadata": {},
   "source": [
    "Nous pouvons explorer ces notations :"
   ]
  },
  {
   "cell_type": "code",
   "execution_count": 81,
   "metadata": {},
   "outputs": [
    {
     "data": {
      "image/png": "[encoded data removed]",
      "text/plain": [
       "<PIL.PngImagePlugin.PngImageFile image mode=RGBA size=1400x800>"
      ]
     },
     "metadata": {},
     "output_type": "display_data"
    }
   ],
   "source": [
    "# explore \"seniority_rating\", \"interaction_rating\" and their combinations\n",
    "\n",
    "if \"cf_ratings_explore.png\" not in os.listdir(\"mySaves/images/plots\") :\n",
    "\n",
    "    ## plot \"seniority_rating\", \"interaction_rating\" and their combinations\n",
    "\n",
    "    # create figure\n",
    "    fig, axs = plt.subplots(2,2, figsize=(14,8))\n",
    "    axs = axs.flatten()\n",
    "\n",
    "    # plot\n",
    "    for i, col in enumerate([\"seniority_rating\", \"interaction_rating\", \"main_rating_MEAN\", \"main_rating_PROD\"]) :\n",
    "        sns.histplot(data_cf[col], ax=axs[i])\n",
    "\n",
    "    # title\n",
    "    fig.suptitle(\"Different ratings for Collaborative Filtering\\nEmpirical distributions\")\n",
    "\n",
    "    # save\n",
    "    fig.savefig(\"mySaves/images/plots/cf_ratings_explore.png\")\n",
    "\n",
    "    plt.show()\n",
    "\n",
    "else :\n",
    "    # load image\n",
    "    display(Image.open(\"mySaves/images/plots/cf_ratings_explore.png\"))"
   ]
  },
  {
   "cell_type": "code",
   "execution_count": null,
   "metadata": {},
   "outputs": [],
   "source": [
    "del data_cf\n",
    "gc.collect()"
   ]
  },
  {
   "cell_type": "markdown",
   "metadata": {},
   "source": [
    "## 1.2. Préparer le dataset pour `surprise`"
   ]
  },
  {
   "cell_type": "markdown",
   "metadata": {},
   "source": [
    "Nous pouvons maintenant créer notre dataframe qui servira de base pour la collaborative filtering avec la librairie `surprise` :"
   ]
  },
  {
   "cell_type": "code",
   "execution_count": 83,
   "metadata": {},
   "outputs": [],
   "source": [
    "# use custom function to create a dataframe for surprise\n",
    "if \"X_cf.joblib\" not in os.listdir(\"mySaves/working_dfs\") :\n",
    "    X_cf = mf.read_clicks_and_prepare_rating(\n",
    "        clicks_folder_path=\"news-portal-user-interactions-by-globocom/clicks\", \n",
    "        ref_date_for_seniority=datetime.datetime(year=2017, month=10, day=18)\n",
    "        )\n",
    "\n",
    "    # save\n",
    "    dump(X_cf, \"mySaves/working_dfs/X_cf.joblib\")\n",
    "\n",
    "else :\n",
    "    # load\n",
    "    X_cf = load(\"mySaves/working_dfs/X_cf.joblib\")"
   ]
  },
  {
   "cell_type": "code",
   "execution_count": 89,
   "metadata": {},
   "outputs": [],
   "source": [
    "# split train/test\n",
    "# test set is the 10% last clicks\n",
    "\n",
    "# index\n",
    "test_index = np.arange(0, int(0.1*len(X_cf)))\n",
    "train_index = np.arange(int(0.1*len(X_cf)), len(X_cf))\n",
    "# filter\n",
    "X_cf_test = X_cf.loc[test_index]\n",
    "X_cf_train = X_cf.loc[train_index]"
   ]
  },
  {
   "cell_type": "markdown",
   "metadata": {},
   "source": [
    "Nous allons créer des datasets `surprise` à partir de ces dataframe :"
   ]
  },
  {
   "cell_type": "code",
   "execution_count": 92,
   "metadata": {},
   "outputs": [],
   "source": [
    "# create a surprise dataset\n",
    "\n",
    "# create reader with rating scale from 0 to 1\n",
    "reader = Reader(rating_scale=(0,1))\n",
    "\n",
    "# create Dataset\n",
    "X_cf_test = Dataset.load_from_df(X_cf_test, reader=reader)\n",
    "X_cf_train = Dataset.load_from_df(X_cf_train, reader=reader)"
   ]
  },
  {
   "cell_type": "markdown",
   "metadata": {},
   "source": [
    "Pour la sélection du modèle par validation croisée, nous fixons un `KFold`"
   ]
  },
  {
   "cell_type": "code",
   "execution_count": 96,
   "metadata": {},
   "outputs": [],
   "source": [
    "# create a KFold cross-validation iterator\n",
    "cv = KFold(n_splits=5, random_state=16, shuffle=True)"
   ]
  },
  {
   "cell_type": "markdown",
   "metadata": {},
   "source": [
    "## 1.3. Tester différents modèles"
   ]
  },
  {
   "cell_type": "markdown",
   "metadata": {},
   "source": [
    "Nous allons tester différents modèles de Collaborative Filtering avec la librairie `surprise`. Initions un tableau pour stocker nos résultats :"
   ]
  },
  {
   "cell_type": "code",
   "execution_count": 114,
   "metadata": {},
   "outputs": [],
   "source": [
    "# create a tab to save RMSE results\n",
    "cf_results = pd.DataFrame(columns=[\"model_name\", \"parameters\", \"mean_RMSE_CV\", \"mean_training_time_CV\"])"
   ]
  },
  {
   "cell_type": "code",
   "execution_count": 115,
   "metadata": {},
   "outputs": [],
   "source": [
    "# create folder for saving\n",
    "if not os.path.isdir(\"mySaves/cf_results\"):\n",
    "    os.mkdir(\"mySaves/cf_results\")"
   ]
  },
  {
   "cell_type": "markdown",
   "metadata": {},
   "source": [
    "### 1.3.1. Probabilistic Matrix Factorization"
   ]
  },
  {
   "cell_type": "markdown",
   "metadata": {},
   "source": [
    "Testons d'abord le modèle `SVD` avec `biased = False`, équivalent au modèle `Probabilistic Matrix Factorization` :"
   ]
  },
  {
   "cell_type": "code",
   "execution_count": 116,
   "metadata": {},
   "outputs": [],
   "source": [
    "if \"PMF_results.joblib\" not in os.listdir(\"mySaves/cf_results\") :\n",
    "    # initiate model\n",
    "    model = SVD(biased=False)\n",
    "    # cross validation\n",
    "    results = cross_validate(algo=model, data=data_cf_train, measures=[\"rmse\"], cv=cv, n_jobs=12, verbose = True)\n",
    "    # save\n",
    "    dump(results, \"mySaves/cf_results/PMF_results.joblib\")\n",
    "else :\n",
    "    # load\n",
    "    results = load(\"mySaves/cf_results/PMF_results.joblib\")\n",
    "# add results to tab\n",
    "cf_results.loc[len(cf_results)] = [\n",
    "    \"PMF\",\n",
    "    dict(n_factors=100, n_epochs=20, biased=False, lr_all=0.005, reg_all=0.02),\n",
    "    results[\"test_rmse\"].mean(),\n",
    "    np.array(results[\"fit_time\"]).mean()\n",
    "]"
   ]
  },
  {
   "cell_type": "code",
   "execution_count": 117,
   "metadata": {},
   "outputs": [
    {
     "data": {
      "text/html": [
       "<div>\n",
       "<style scoped>\n",
       "    .dataframe tbody tr th:only-of-type {\n",
       "        vertical-align: middle;\n",
       "    }\n",
       "\n",
       "    .dataframe tbody tr th {\n",
       "        vertical-align: top;\n",
       "    }\n",
       "\n",
       "    .dataframe thead th {\n",
       "        text-align: right;\n",
       "    }\n",
       "</style>\n",
       "<table border=\"1\" class=\"dataframe\">\n",
       "  <thead>\n",
       "    <tr style=\"text-align: right;\">\n",
       "      <th></th>\n",
       "      <th>model_name</th>\n",
       "      <th>parameters</th>\n",
       "      <th>mean_RMSE_CV</th>\n",
       "      <th>mean_training_time_CV</th>\n",
       "    </tr>\n",
       "  </thead>\n",
       "  <tbody>\n",
       "    <tr>\n",
       "      <th>0</th>\n",
       "      <td>PMF</td>\n",
       "      <td>{'n_factors': 100, 'n_epochs': 20, 'biased': F...</td>\n",
       "      <td>0.138234</td>\n",
       "      <td>23.076921</td>\n",
       "    </tr>\n",
       "  </tbody>\n",
       "</table>\n",
       "</div>"
      ],
      "text/plain": [
       "  model_name                                         parameters  mean_RMSE_CV  \\\n",
       "0        PMF  {'n_factors': 100, 'n_epochs': 20, 'biased': F...      0.138234   \n",
       "\n",
       "   mean_training_time_CV  \n",
       "0              23.076921  "
      ]
     },
     "execution_count": 117,
     "metadata": {},
     "output_type": "execute_result"
    }
   ],
   "source": [
    "cf_results"
   ]
  },
  {
   "cell_type": "markdown",
   "metadata": {},
   "source": [
    "### 1.3.2. Singular Value Decomposition"
   ]
  },
  {
   "cell_type": "markdown",
   "metadata": {},
   "source": [
    "Testons d'abord le modèle `SVD` avec `biased = True` :"
   ]
  },
  {
   "cell_type": "code",
   "execution_count": 118,
   "metadata": {},
   "outputs": [
    {
     "name": "stdout",
     "output_type": "stream",
     "text": [
      "Evaluating RMSE of algorithm SVD on 5 split(s).\n",
      "\n",
      "                  Fold 1  Fold 2  Fold 3  Fold 4  Fold 5  Mean    Std     \n",
      "RMSE (testset)    0.0910  0.0913  0.0912  0.0911  0.0908  0.0911  0.0001  \n",
      "Fit time          22.39   23.68   24.27   24.04   23.31   23.54   0.66    \n",
      "Test time         5.97    5.89    5.27    4.74    4.31    5.24    0.64    \n"
     ]
    }
   ],
   "source": [
    "if \"SVD_raw_results.joblib\" not in os.listdir(\"mySaves/cf_results\") :\n",
    "    # initiate model\n",
    "    model = SVD(biased=True)\n",
    "    # cross validation\n",
    "    results = cross_validate(algo=model, data=data_cf_train, measures=[\"rmse\"], cv=cv, n_jobs=12, verbose = True)\n",
    "    # save\n",
    "    dump(results, \"mySaves/cf_results/SVD_raw_results.joblib\")\n",
    "else :\n",
    "    # load\n",
    "    results = load(\"mySaves/cf_results/SVD_raw_results.joblib\")\n",
    "# add results to tab\n",
    "cf_results.loc[len(cf_results)] = [\n",
    "    \"SVD_raw\",\n",
    "    dict(n_factors=100, n_epochs=20, biased=True, lr_all=0.005, reg_all=0.02),\n",
    "    results[\"test_rmse\"].mean(),\n",
    "    np.array(results[\"fit_time\"]).mean()\n",
    "]"
   ]
  },
  {
   "cell_type": "code",
   "execution_count": 119,
   "metadata": {},
   "outputs": [
    {
     "data": {
      "text/html": [
       "<div>\n",
       "<style scoped>\n",
       "    .dataframe tbody tr th:only-of-type {\n",
       "        vertical-align: middle;\n",
       "    }\n",
       "\n",
       "    .dataframe tbody tr th {\n",
       "        vertical-align: top;\n",
       "    }\n",
       "\n",
       "    .dataframe thead th {\n",
       "        text-align: right;\n",
       "    }\n",
       "</style>\n",
       "<table border=\"1\" class=\"dataframe\">\n",
       "  <thead>\n",
       "    <tr style=\"text-align: right;\">\n",
       "      <th></th>\n",
       "      <th>model_name</th>\n",
       "      <th>parameters</th>\n",
       "      <th>mean_RMSE_CV</th>\n",
       "      <th>mean_training_time_CV</th>\n",
       "    </tr>\n",
       "  </thead>\n",
       "  <tbody>\n",
       "    <tr>\n",
       "      <th>0</th>\n",
       "      <td>PMF</td>\n",
       "      <td>{'n_factors': 100, 'n_epochs': 20, 'biased': F...</td>\n",
       "      <td>0.138234</td>\n",
       "      <td>23.076921</td>\n",
       "    </tr>\n",
       "    <tr>\n",
       "      <th>1</th>\n",
       "      <td>SVD_raw</td>\n",
       "      <td>{'n_factors': 100, 'n_epochs': 20, 'biased': T...</td>\n",
       "      <td>0.091089</td>\n",
       "      <td>23.537904</td>\n",
       "    </tr>\n",
       "  </tbody>\n",
       "</table>\n",
       "</div>"
      ],
      "text/plain": [
       "  model_name                                         parameters  mean_RMSE_CV  \\\n",
       "0        PMF  {'n_factors': 100, 'n_epochs': 20, 'biased': F...      0.138234   \n",
       "1    SVD_raw  {'n_factors': 100, 'n_epochs': 20, 'biased': T...      0.091089   \n",
       "\n",
       "   mean_training_time_CV  \n",
       "0              23.076921  \n",
       "1              23.537904  "
      ]
     },
     "execution_count": 119,
     "metadata": {},
     "output_type": "execute_result"
    }
   ],
   "source": [
    "cf_results"
   ]
  },
  {
   "cell_type": "code",
   "execution_count": null,
   "metadata": {},
   "outputs": [
    {
     "name": "stdout",
     "output_type": "stream",
     "text": [
      "Evaluating RMSE of algorithm SVD on 3 split(s).\n",
      "\n",
      "                  Fold 1  Fold 2  Fold 3  Mean    Std     \n",
      "RMSE (testset)    0.0883  0.0882  0.0881  0.0882  0.0001  \n",
      "Fit time          16.19   16.40   16.63   16.41   0.18    \n",
      "Test time         8.05    7.79    7.45    7.76    0.25    \n"
     ]
    },
    {
     "data": {
      "text/plain": [
       "{'test_rmse': array([0.08830442, 0.08823361, 0.0881355 ]),\n",
       " 'fit_time': (16.193794012069702, 16.40474247932434, 16.62914776802063),\n",
       " 'test_time': (8.050828218460083, 7.789491415023804, 7.449393033981323)}"
      ]
     },
     "metadata": {},
     "output_type": "display_data"
    }
   ],
   "source": [
    "param_grid = {\n",
    "    'n_factors': [50, 75, 100, 125, 150, 200]\n",
    "    'n_epochs': [10, 20, 30, 40, 50],\n",
    "    'lr_all': [0.001, 0.0025, 0.005, 0.01],\n",
    "    'reg_all': [0.005, 0.01, 0.02, 0.04, 0.08, 0.1],\n",
    "             }\n",
    "\n"
   ]
  },
  {
   "cell_type": "markdown",
   "metadata": {},
   "source": [
    "# 2. Modélisation *Content Base*"
   ]
  },
  {
   "cell_type": "markdown",
   "metadata": {},
   "source": [
    "## 2.1. Préparer les données"
   ]
  },
  {
   "cell_type": "markdown",
   "metadata": {},
   "source": [
    "Commençons par charger les données `clicks` et `articles_metadata` dans un seul dataframe :"
   ]
  },
  {
   "cell_type": "code",
   "execution_count": 26,
   "metadata": {},
   "outputs": [
    {
     "data": {
      "text/html": [
       "<div>\n",
       "<style scoped>\n",
       "    .dataframe tbody tr th:only-of-type {\n",
       "        vertical-align: middle;\n",
       "    }\n",
       "\n",
       "    .dataframe tbody tr th {\n",
       "        vertical-align: top;\n",
       "    }\n",
       "\n",
       "    .dataframe thead th {\n",
       "        text-align: right;\n",
       "    }\n",
       "</style>\n",
       "<table border=\"1\" class=\"dataframe\">\n",
       "  <thead>\n",
       "    <tr style=\"text-align: right;\">\n",
       "      <th></th>\n",
       "      <th>user_id</th>\n",
       "      <th>article_id</th>\n",
       "      <th>created_at_ts</th>\n",
       "    </tr>\n",
       "  </thead>\n",
       "  <tbody>\n",
       "    <tr>\n",
       "      <th>0</th>\n",
       "      <td>320431</td>\n",
       "      <td>145309</td>\n",
       "      <td>2017-11-14 13:26:54</td>\n",
       "    </tr>\n",
       "    <tr>\n",
       "      <th>1</th>\n",
       "      <td>320431</td>\n",
       "      <td>203538</td>\n",
       "      <td>2017-11-13 12:43:39</td>\n",
       "    </tr>\n",
       "    <tr>\n",
       "      <th>2</th>\n",
       "      <td>252642</td>\n",
       "      <td>96333</td>\n",
       "      <td>2017-11-07 16:17:51</td>\n",
       "    </tr>\n",
       "    <tr>\n",
       "      <th>3</th>\n",
       "      <td>252642</td>\n",
       "      <td>207672</td>\n",
       "      <td>2017-11-07 17:46:15</td>\n",
       "    </tr>\n",
       "    <tr>\n",
       "      <th>4</th>\n",
       "      <td>201738</td>\n",
       "      <td>224148</td>\n",
       "      <td>2017-11-03 09:23:08</td>\n",
       "    </tr>\n",
       "    <tr>\n",
       "      <th>...</th>\n",
       "      <td>...</td>\n",
       "      <td>...</td>\n",
       "      <td>...</td>\n",
       "    </tr>\n",
       "    <tr>\n",
       "      <th>2988176</th>\n",
       "      <td>70</td>\n",
       "      <td>119592</td>\n",
       "      <td>2017-09-30 15:11:56</td>\n",
       "    </tr>\n",
       "    <tr>\n",
       "      <th>2988177</th>\n",
       "      <td>111</td>\n",
       "      <td>202436</td>\n",
       "      <td>2017-09-30 16:15:43</td>\n",
       "    </tr>\n",
       "    <tr>\n",
       "      <th>2988178</th>\n",
       "      <td>154</td>\n",
       "      <td>96663</td>\n",
       "      <td>2017-09-30 16:13:45</td>\n",
       "    </tr>\n",
       "    <tr>\n",
       "      <th>2988179</th>\n",
       "      <td>79</td>\n",
       "      <td>159359</td>\n",
       "      <td>2017-09-30 07:43:36</td>\n",
       "    </tr>\n",
       "    <tr>\n",
       "      <th>2988180</th>\n",
       "      <td>59</td>\n",
       "      <td>234853</td>\n",
       "      <td>2017-09-30 12:18:09</td>\n",
       "    </tr>\n",
       "  </tbody>\n",
       "</table>\n",
       "<p>2988181 rows × 3 columns</p>\n",
       "</div>"
      ],
      "text/plain": [
       "        user_id article_id       created_at_ts\n",
       "0        320431     145309 2017-11-14 13:26:54\n",
       "1        320431     203538 2017-11-13 12:43:39\n",
       "2        252642      96333 2017-11-07 16:17:51\n",
       "3        252642     207672 2017-11-07 17:46:15\n",
       "4        201738     224148 2017-11-03 09:23:08\n",
       "...         ...        ...                 ...\n",
       "2988176      70     119592 2017-09-30 15:11:56\n",
       "2988177     111     202436 2017-09-30 16:15:43\n",
       "2988178     154      96663 2017-09-30 16:13:45\n",
       "2988179      79     159359 2017-09-30 07:43:36\n",
       "2988180      59     234853 2017-09-30 12:18:09\n",
       "\n",
       "[2988181 rows x 3 columns]"
      ]
     },
     "execution_count": 26,
     "metadata": {},
     "output_type": "execute_result"
    }
   ],
   "source": [
    "# load, prepare and merge \"clicks\" and \"articles_metadata\" CSVs\n",
    "\n",
    "# necessary columns\n",
    "clicks_usecols = [\n",
    "    'user_id', \n",
    "    'click_article_id', \n",
    "    'click_timestamp',\n",
    "    ]\n",
    "meta_usecols = [\n",
    "    'article_id', \n",
    "    'created_at_ts'\n",
    "]\n",
    "\n",
    "# unnecessary columns (only used for preparation (sorting) and merging)\n",
    "drop_after_prep_cols = [\n",
    "    \"click_article_id\", \n",
    "    \"click_timestamp\"\n",
    "]\n",
    "\n",
    "# use custom function\n",
    "data_cb = mf.read_clicks_and_meta(\n",
    "    clicks_folder_path=\"news-portal-user-interactions-by-globocom/clicks\",\n",
    "    meta_path=\"news-portal-user-interactions-by-globocom/articles_metadata.csv\",\n",
    "    clicks_usecols=clicks_usecols,\n",
    "    meta_usecols=meta_usecols,\n",
    "    drop_after_prep_cols=drop_after_prep_cols\n",
    "    )\n",
    "\n",
    "data_cb"
   ]
  },
  {
   "cell_type": "code",
   "execution_count": 27,
   "metadata": {},
   "outputs": [
    {
     "ename": "NameError",
     "evalue": "name 'data' is not defined",
     "output_type": "error",
     "traceback": [
      "\u001b[1;31m---------------------------------------------------------------------------\u001b[0m",
      "\u001b[1;31mNameError\u001b[0m                                 Traceback (most recent call last)",
      "Cell \u001b[1;32mIn[27], line 4\u001b[0m\n\u001b[0;32m      1\u001b[0m max_seniority \u001b[38;5;241m=\u001b[39m \u001b[38;5;241m365\u001b[39m\n\u001b[0;32m      3\u001b[0m \u001b[38;5;66;03m# clip \u001b[39;00m\n\u001b[1;32m----> 4\u001b[0m test \u001b[38;5;241m=\u001b[39m (\u001b[43mdata\u001b[49m[\u001b[38;5;124m\"\u001b[39m\u001b[38;5;124mcreated_at_ts\u001b[39m\u001b[38;5;124m\"\u001b[39m]\u001b[38;5;241m.\u001b[39mmax() \u001b[38;5;241m-\u001b[39m data[\u001b[38;5;124m\"\u001b[39m\u001b[38;5;124mcreated_at_ts\u001b[39m\u001b[38;5;124m\"\u001b[39m])\u001b[38;5;241m.\u001b[39mdt\u001b[38;5;241m.\u001b[39mdays\u001b[38;5;241m.\u001b[39mclip(\u001b[38;5;241m0\u001b[39m,max_seniority)\n\u001b[0;32m      6\u001b[0m \u001b[38;5;66;03m# normalise\u001b[39;00m\n\u001b[0;32m      7\u001b[0m test \u001b[38;5;241m=\u001b[39m \u001b[38;5;241m1\u001b[39m \u001b[38;5;241m-\u001b[39m (test \u001b[38;5;241m-\u001b[39m \u001b[38;5;241m0\u001b[39m) \u001b[38;5;241m/\u001b[39m (max_seniority \u001b[38;5;241m-\u001b[39m \u001b[38;5;241m0\u001b[39m)\n",
      "\u001b[1;31mNameError\u001b[0m: name 'data' is not defined"
     ]
    }
   ],
   "source": [
    "max_seniority = 365\n",
    "\n",
    "# clip \n",
    "test = (data[\"created_at_ts\"].max() - data[\"created_at_ts\"]).dt.days.clip(0,max_seniority)\n",
    "\n",
    "# normalise\n",
    "test = 1 - (test - 0) / (max_seniority - 0)\n",
    "\n",
    "# \n",
    "test.hist()"
   ]
  }
 ],
 "metadata": {
  "kernelspec": {
   "display_name": "envProject9",
   "language": "python",
   "name": "python3"
  },
  "language_info": {
   "codemirror_mode": {
    "name": "ipython",
    "version": 3
   },
   "file_extension": ".py",
   "mimetype": "text/x-python",
   "name": "python",
   "nbconvert_exporter": "python",
   "pygments_lexer": "ipython3",
   "version": "3.11.8"
  }
 },
 "nbformat": 4,
 "nbformat_minor": 2
}
